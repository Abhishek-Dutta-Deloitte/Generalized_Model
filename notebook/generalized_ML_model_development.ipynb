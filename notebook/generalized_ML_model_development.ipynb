{
 "cells": [
  {
   "cell_type": "markdown",
   "metadata": {},
   "source": [
    "# Classification"
   ]
  },
  {
   "cell_type": "code",
   "execution_count": null,
   "metadata": {},
   "outputs": [],
   "source": [
    "import pandas as pd\n",
    "\n",
    "# Import Data Set:\n",
    "input_data_path: str = \"C:/Users/abhishdutta/Desktop/PRD Projects/IBM WatsonX/Generalized Model Development/data/heart_statlog_cleveland_hungary_final.csv\"\n",
    "df = pd.read_csv(input_data_path)"
   ]
  },
  {
   "cell_type": "code",
   "execution_count": null,
   "metadata": {},
   "outputs": [],
   "source": [
    "from src.components.data_ingetion import *\n",
    "data_ingetion = DataIngetion()\n",
    "train_data_path, test_data_path = data_ingetion.inititate_data_ingetion(df) #Return the path of Train and test Data"
   ]
  },
  {
   "cell_type": "code",
   "execution_count": null,
   "metadata": {},
   "outputs": [],
   "source": [
    "#Give the target variable and the input features to be excluded\n",
    "\n",
    "target = \"target\"  #List the target variable\n",
    "features_to_exclude = [\"ST slope\"] #List the input features to exclude\n"
   ]
  },
  {
   "cell_type": "code",
   "execution_count": null,
   "metadata": {},
   "outputs": [],
   "source": [
    "from src.components.data_transformation import *\n",
    "\n",
    "data_transformation_obj = DataTransformation()\n",
    "train_arr, test_arr, preprocessor_path = data_transformation_obj.inititate_data_transformation(train_data_path, test_data_path, target, features_to_exclude, \"hear_disease\")"
   ]
  },
  {
   "cell_type": "code",
   "execution_count": null,
   "metadata": {},
   "outputs": [],
   "source": [
    "from src.components.model_trainer_classification import *\n",
    "model_trainer_obj = InitiateModelTraining()\n",
    "model_trainer_obj.initiate_model_training(train_arr, test_arr, \"Heart_Disease\")"
   ]
  },
  {
   "cell_type": "markdown",
   "metadata": {},
   "source": [
    "# Regression"
   ]
  },
  {
   "cell_type": "code",
   "execution_count": null,
   "metadata": {},
   "outputs": [],
   "source": [
    "# Import Data Set:\n",
    "import pandas as pd\n",
    "input_data_path: str = \"C:/Users/abhishdutta/Desktop/PRD Projects/IBM WatsonX/Generalized Model Development/data/zomato.csv\"\n",
    "df = pd.read_csv(input_data_path)\n",
    "df.head()"
   ]
  },
  {
   "cell_type": "code",
   "execution_count": null,
   "metadata": {},
   "outputs": [],
   "source": [
    "from src.components.data_ingetion import *\n",
    "data_ingetion = DataIngetion()\n",
    "train_data_path, test_data_path = data_ingetion.inititate_data_ingetion(df) #Return the path of Train and test Data"
   ]
  },
  {
   "cell_type": "code",
   "execution_count": null,
   "metadata": {},
   "outputs": [],
   "source": [
    "#Give the target variable and the input features to be excluded\n",
    "\n",
    "target = \"Time_taken (min)\"  #List the target variable\n",
    "features_to_exclude = [\"Unnamed: 0\",\"ID\", \"Delivery_person_ID\", \"Order_Date\", \"Time_Orderd\", \"Time_Order_picked\" ] #List the input features to exclude\n",
    "\n"
   ]
  },
  {
   "cell_type": "code",
   "execution_count": null,
   "metadata": {},
   "outputs": [],
   "source": [
    "from src.components.data_transformation import *\n",
    "\n",
    "data_transformation_obj = DataTransformation()\n",
    "train_arr, test_arr, preprocessor_path = data_transformation_obj.inititate_data_transformation(train_data_path, test_data_path, target, features_to_exclude, user_transformation_name=\"zomato\")"
   ]
  },
  {
   "cell_type": "code",
   "execution_count": null,
   "metadata": {},
   "outputs": [],
   "source": [
    "from src.components.model_trainer_regression import *\n",
    "model_trainer_obj = InitiateModelTraining()\n",
    "model_trainer_obj.initiate_model_training(train_arr, test_arr, user_model_name=\"Zomato\")"
   ]
  }
 ],
 "metadata": {
  "language_info": {
   "name": "python"
  }
 },
 "nbformat": 4,
 "nbformat_minor": 2
}
