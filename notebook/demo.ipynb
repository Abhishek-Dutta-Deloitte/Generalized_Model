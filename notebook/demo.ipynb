{
 "cells": [
  {
   "cell_type": "code",
   "execution_count": 1,
   "metadata": {},
   "outputs": [],
   "source": [
    "import pandas as pd\n",
    "import numpy as np\n"
   ]
  },
  {
   "cell_type": "code",
   "execution_count": 2,
   "metadata": {},
   "outputs": [],
   "source": [
    "# Import Data Set:\n",
    "\n",
    "input_data_path: str = \"C:/Users/abhishdutta/Desktop/PRD Projects/IBM WatsonX/Generalized Model Development/data/heart_statlog_cleveland_hungary_final.csv\"\n",
    "df = pd.read_csv(input_data_path)\n"
   ]
  },
  {
   "cell_type": "code",
   "execution_count": 3,
   "metadata": {},
   "outputs": [
    {
     "name": "stderr",
     "output_type": "stream",
     "text": [
      "2024-05-08 17:31:46 - LOG - data_ingetion - INFO : The current directory for data Ingetion is C:\\Users\\abhishdutta\\Desktop\\PRD Projects\\IBM WatsonX\\Generalized Model Development\n",
      "2024-05-08 17:31:46 - LOG - data_ingetion - INFO : Initiating data ingetion process...\n",
      "2024-05-08 17:31:46 - LOG - data_ingetion - INFO : Raw data saved at C:\\Users\\abhishdutta\\Desktop\\PRD Projects\\IBM WatsonX\\Generalized Model Development\\artifacts\\raw.csv\n",
      "2024-05-08 17:31:46 - LOG - data_ingetion - INFO : Data ingetion process completed...\n",
      "2024-05-08 17:31:46 - LOG - data_ingetion - INFO : Train data shape: (952, 12)\n",
      "2024-05-08 17:31:46 - LOG - data_ingetion - INFO : Test data shape: (238, 12)\n",
      "2024-05-08 17:31:46 - LOG - data_ingetion - INFO : Train data saved at C:\\Users\\abhishdutta\\Desktop\\PRD Projects\\IBM WatsonX\\Generalized Model Development\\artifacts\\train.csv\n",
      "2024-05-08 17:31:46 - LOG - data_ingetion - INFO : Test data saved at C:\\Users\\abhishdutta\\Desktop\\PRD Projects\\IBM WatsonX\\Generalized Model Development\\artifacts\\test.csv\n",
      "2024-05-08 17:31:46 - LOG - data_ingetion - INFO : Data Ingetion process completed...\n"
     ]
    }
   ],
   "source": [
    "from src.components.data_ingetion import *\n",
    "data_ingetion = DataIngetion()\n",
    "train_data_path, test_data_path = data_ingetion.inititate_data_ingetion(df) #Return the path of Train and test Data"
   ]
  },
  {
   "cell_type": "code",
   "execution_count": 4,
   "metadata": {},
   "outputs": [],
   "source": [
    "#Give the target variable and the input features to be excluded\n",
    "\n",
    "target = \"target\"  #List the target variable\n",
    "features_to_exclude = [\"ST slope\"] #List the input features to exclude\n",
    "\n"
   ]
  },
  {
   "cell_type": "code",
   "execution_count": 5,
   "metadata": {},
   "outputs": [
    {
     "name": "stderr",
     "output_type": "stream",
     "text": [
      "2024-05-08 17:32:08 - LOG - data_transformation - INFO : Initiating data transformation process...\n",
      "2024-05-08 17:32:08 - LOG - data_transformation - INFO : Data loaded successfully\n",
      "2024-05-08 17:32:08 - LOG - data_transformation - INFO : Features excluded successfully\n",
      "2024-05-08 17:32:08 - LOG - data_transformation - INFO : Number columns identified successfully\n",
      "2024-05-08 17:32:08 - LOG - data_transformation - INFO : Outliers removed!!!\n",
      "2024-05-08 17:32:08 - LOG - data_transformation - INFO : Outliers removed!!!\n",
      "c:\\users\\abhishdutta\\desktop\\prd projects\\ibm watsonx\\generalized model development\\src\\utils.py:33: FutureWarning: A value is trying to be set on a copy of a DataFrame or Series through chained assignment using an inplace method.\n",
      "The behavior will change in pandas 3.0. This inplace method will never work because the intermediate object on which we are setting values always behaves as a copy.\n",
      "\n",
      "For example, when doing 'df[col].method(value, inplace=True)', try using 'df.method({col: value}, inplace=True)' or df[col] = df[col].method(value) instead, to perform the operation inplace on the original object.\n",
      "\n",
      "\n",
      "  df[col].fillna(df[col].mean(), inplace=True)\n",
      "2024-05-08 17:32:08 - LOG - data_transformation - INFO : Replaced Null with mean for input numerical variables\n",
      "2024-05-08 17:32:08 - LOG - data_transformation - INFO : Replaced Null with mean for Target Variable\n",
      "2024-05-08 17:32:08 - LOG - utils - INFO : ordinal_onehot_numerical_divide done!!!\n",
      "2024-05-08 17:32:08 - LOG - data_transformation - INFO : Categorical columns (one hot, ordinal mapping)  and numerical columns divided successfully\n",
      "2024-05-08 17:32:08 - LOG - data_transformation - INFO : Empty values filled with mode successfully\n",
      "2024-05-08 17:32:08 - LOG - data_transformation - INFO : Empty values filled with mode successfully\n",
      "--- Logging error ---\n",
      "Traceback (most recent call last):\n",
      "  File \"c:\\Users\\abhishdutta\\Desktop\\PRD Projects\\IBM WatsonX\\Generalized Model Development\\generalizedmodel\\lib\\logging\\__init__.py\", line 1079, in emit\n",
      "    msg = self.format(record)\n",
      "  File \"c:\\Users\\abhishdutta\\Desktop\\PRD Projects\\IBM WatsonX\\Generalized Model Development\\generalizedmodel\\lib\\logging\\__init__.py\", line 923, in format\n",
      "    return fmt.format(record)\n",
      "  File \"c:\\Users\\abhishdutta\\Desktop\\PRD Projects\\IBM WatsonX\\Generalized Model Development\\generalizedmodel\\lib\\logging\\__init__.py\", line 659, in format\n",
      "    record.message = record.getMessage()\n",
      "  File \"c:\\Users\\abhishdutta\\Desktop\\PRD Projects\\IBM WatsonX\\Generalized Model Development\\generalizedmodel\\lib\\logging\\__init__.py\", line 363, in getMessage\n",
      "    msg = msg % self.args\n",
      "TypeError: not all arguments converted during string formatting\n",
      "Call stack:\n",
      "  File \"c:\\Users\\abhishdutta\\Desktop\\PRD Projects\\IBM WatsonX\\Generalized Model Development\\generalizedmodel\\lib\\runpy.py\", line 197, in _run_module_as_main\n",
      "    return _run_code(code, main_globals, None,\n",
      "  File \"c:\\Users\\abhishdutta\\Desktop\\PRD Projects\\IBM WatsonX\\Generalized Model Development\\generalizedmodel\\lib\\runpy.py\", line 87, in _run_code\n",
      "    exec(code, run_globals)\n",
      "  File \"c:\\Users\\abhishdutta\\Desktop\\PRD Projects\\IBM WatsonX\\Generalized Model Development\\generalizedmodel\\lib\\site-packages\\ipykernel_launcher.py\", line 18, in <module>\n",
      "    app.launch_new_instance()\n",
      "  File \"c:\\Users\\abhishdutta\\Desktop\\PRD Projects\\IBM WatsonX\\Generalized Model Development\\generalizedmodel\\lib\\site-packages\\traitlets\\config\\application.py\", line 1075, in launch_instance\n",
      "    app.start()\n",
      "  File \"c:\\Users\\abhishdutta\\Desktop\\PRD Projects\\IBM WatsonX\\Generalized Model Development\\generalizedmodel\\lib\\site-packages\\ipykernel\\kernelapp.py\", line 739, in start\n",
      "    self.io_loop.start()\n",
      "  File \"c:\\Users\\abhishdutta\\Desktop\\PRD Projects\\IBM WatsonX\\Generalized Model Development\\generalizedmodel\\lib\\site-packages\\tornado\\platform\\asyncio.py\", line 205, in start\n",
      "    self.asyncio_loop.run_forever()\n",
      "  File \"c:\\Users\\abhishdutta\\Desktop\\PRD Projects\\IBM WatsonX\\Generalized Model Development\\generalizedmodel\\lib\\asyncio\\base_events.py\", line 596, in run_forever\n",
      "    self._run_once()\n",
      "  File \"c:\\Users\\abhishdutta\\Desktop\\PRD Projects\\IBM WatsonX\\Generalized Model Development\\generalizedmodel\\lib\\asyncio\\base_events.py\", line 1890, in _run_once\n",
      "    handle._run()\n",
      "  File \"c:\\Users\\abhishdutta\\Desktop\\PRD Projects\\IBM WatsonX\\Generalized Model Development\\generalizedmodel\\lib\\asyncio\\events.py\", line 80, in _run\n",
      "    self._context.run(self._callback, *self._args)\n",
      "  File \"c:\\Users\\abhishdutta\\Desktop\\PRD Projects\\IBM WatsonX\\Generalized Model Development\\generalizedmodel\\lib\\site-packages\\ipykernel\\kernelbase.py\", line 545, in dispatch_queue\n",
      "    await self.process_one()\n",
      "  File \"c:\\Users\\abhishdutta\\Desktop\\PRD Projects\\IBM WatsonX\\Generalized Model Development\\generalizedmodel\\lib\\site-packages\\ipykernel\\kernelbase.py\", line 534, in process_one\n",
      "    await dispatch(*args)\n",
      "  File \"c:\\Users\\abhishdutta\\Desktop\\PRD Projects\\IBM WatsonX\\Generalized Model Development\\generalizedmodel\\lib\\site-packages\\ipykernel\\kernelbase.py\", line 437, in dispatch_shell\n",
      "    await result\n",
      "  File \"c:\\Users\\abhishdutta\\Desktop\\PRD Projects\\IBM WatsonX\\Generalized Model Development\\generalizedmodel\\lib\\site-packages\\ipykernel\\ipkernel.py\", line 362, in execute_request\n",
      "    await super().execute_request(stream, ident, parent)\n",
      "  File \"c:\\Users\\abhishdutta\\Desktop\\PRD Projects\\IBM WatsonX\\Generalized Model Development\\generalizedmodel\\lib\\site-packages\\ipykernel\\kernelbase.py\", line 778, in execute_request\n",
      "    reply_content = await reply_content\n",
      "  File \"c:\\Users\\abhishdutta\\Desktop\\PRD Projects\\IBM WatsonX\\Generalized Model Development\\generalizedmodel\\lib\\site-packages\\ipykernel\\ipkernel.py\", line 449, in do_execute\n",
      "    res = shell.run_cell(\n",
      "  File \"c:\\Users\\abhishdutta\\Desktop\\PRD Projects\\IBM WatsonX\\Generalized Model Development\\generalizedmodel\\lib\\site-packages\\ipykernel\\zmqshell.py\", line 549, in run_cell\n",
      "    return super().run_cell(*args, **kwargs)\n",
      "  File \"c:\\Users\\abhishdutta\\Desktop\\PRD Projects\\IBM WatsonX\\Generalized Model Development\\generalizedmodel\\lib\\site-packages\\IPython\\core\\interactiveshell.py\", line 3048, in run_cell\n",
      "    result = self._run_cell(\n",
      "  File \"c:\\Users\\abhishdutta\\Desktop\\PRD Projects\\IBM WatsonX\\Generalized Model Development\\generalizedmodel\\lib\\site-packages\\IPython\\core\\interactiveshell.py\", line 3103, in _run_cell\n",
      "    result = runner(coro)\n",
      "  File \"c:\\Users\\abhishdutta\\Desktop\\PRD Projects\\IBM WatsonX\\Generalized Model Development\\generalizedmodel\\lib\\site-packages\\IPython\\core\\async_helpers.py\", line 129, in _pseudo_sync_runner\n",
      "    coro.send(None)\n",
      "  File \"c:\\Users\\abhishdutta\\Desktop\\PRD Projects\\IBM WatsonX\\Generalized Model Development\\generalizedmodel\\lib\\site-packages\\IPython\\core\\interactiveshell.py\", line 3308, in run_cell_async\n",
      "    has_raised = await self.run_ast_nodes(code_ast.body, cell_name,\n",
      "  File \"c:\\Users\\abhishdutta\\Desktop\\PRD Projects\\IBM WatsonX\\Generalized Model Development\\generalizedmodel\\lib\\site-packages\\IPython\\core\\interactiveshell.py\", line 3490, in run_ast_nodes\n",
      "    if await self.run_code(code, result, async_=asy):\n",
      "  File \"c:\\Users\\abhishdutta\\Desktop\\PRD Projects\\IBM WatsonX\\Generalized Model Development\\generalizedmodel\\lib\\site-packages\\IPython\\core\\interactiveshell.py\", line 3550, in run_code\n",
      "    exec(code_obj, self.user_global_ns, self.user_ns)\n",
      "  File \"C:\\Users\\abhishdutta\\AppData\\Local\\Temp\\ipykernel_26860\\3184565770.py\", line 4, in <module>\n",
      "    train_arr, test_arr, preprocessor_path = data_transformation_obj.inititate_data_transformation(train_data_path, test_data_path, target, features_to_exclude, \"hear_disease\")\n",
      "  File \"c:\\users\\abhishdutta\\desktop\\prd projects\\ibm watsonx\\generalized model development\\src\\components\\data_transformation.py\", line 129, in inititate_data_transformation\n",
      "    logger.info(one_hot_cols, ordinal_cols, num_cols, ordinal_columns_mapping, one_hot_column_mapping)\n",
      "Message: []\n",
      "Arguments: ([], ['age', 'sex', 'chest pain type', 'resting bp s', 'cholesterol', 'fasting blood sugar', 'resting ecg', 'max heart rate', 'exercise angina', 'oldpeak', 'target'], {}, {})\n",
      "--- Logging error ---\n",
      "Traceback (most recent call last):\n",
      "  File \"c:\\Users\\abhishdutta\\Desktop\\PRD Projects\\IBM WatsonX\\Generalized Model Development\\generalizedmodel\\lib\\logging\\__init__.py\", line 1079, in emit\n",
      "    msg = self.format(record)\n",
      "  File \"c:\\Users\\abhishdutta\\Desktop\\PRD Projects\\IBM WatsonX\\Generalized Model Development\\generalizedmodel\\lib\\logging\\__init__.py\", line 923, in format\n",
      "    return fmt.format(record)\n",
      "  File \"c:\\Users\\abhishdutta\\Desktop\\PRD Projects\\IBM WatsonX\\Generalized Model Development\\generalizedmodel\\lib\\logging\\__init__.py\", line 659, in format\n",
      "    record.message = record.getMessage()\n",
      "  File \"c:\\Users\\abhishdutta\\Desktop\\PRD Projects\\IBM WatsonX\\Generalized Model Development\\generalizedmodel\\lib\\logging\\__init__.py\", line 363, in getMessage\n",
      "    msg = msg % self.args\n",
      "TypeError: not all arguments converted during string formatting\n",
      "Call stack:\n",
      "  File \"c:\\Users\\abhishdutta\\Desktop\\PRD Projects\\IBM WatsonX\\Generalized Model Development\\generalizedmodel\\lib\\runpy.py\", line 197, in _run_module_as_main\n",
      "    return _run_code(code, main_globals, None,\n",
      "  File \"c:\\Users\\abhishdutta\\Desktop\\PRD Projects\\IBM WatsonX\\Generalized Model Development\\generalizedmodel\\lib\\runpy.py\", line 87, in _run_code\n",
      "    exec(code, run_globals)\n",
      "  File \"c:\\Users\\abhishdutta\\Desktop\\PRD Projects\\IBM WatsonX\\Generalized Model Development\\generalizedmodel\\lib\\site-packages\\ipykernel_launcher.py\", line 18, in <module>\n",
      "    app.launch_new_instance()\n",
      "  File \"c:\\Users\\abhishdutta\\Desktop\\PRD Projects\\IBM WatsonX\\Generalized Model Development\\generalizedmodel\\lib\\site-packages\\traitlets\\config\\application.py\", line 1075, in launch_instance\n",
      "    app.start()\n",
      "  File \"c:\\Users\\abhishdutta\\Desktop\\PRD Projects\\IBM WatsonX\\Generalized Model Development\\generalizedmodel\\lib\\site-packages\\ipykernel\\kernelapp.py\", line 739, in start\n",
      "    self.io_loop.start()\n",
      "  File \"c:\\Users\\abhishdutta\\Desktop\\PRD Projects\\IBM WatsonX\\Generalized Model Development\\generalizedmodel\\lib\\site-packages\\tornado\\platform\\asyncio.py\", line 205, in start\n",
      "    self.asyncio_loop.run_forever()\n",
      "  File \"c:\\Users\\abhishdutta\\Desktop\\PRD Projects\\IBM WatsonX\\Generalized Model Development\\generalizedmodel\\lib\\asyncio\\base_events.py\", line 596, in run_forever\n",
      "    self._run_once()\n",
      "  File \"c:\\Users\\abhishdutta\\Desktop\\PRD Projects\\IBM WatsonX\\Generalized Model Development\\generalizedmodel\\lib\\asyncio\\base_events.py\", line 1890, in _run_once\n",
      "    handle._run()\n",
      "  File \"c:\\Users\\abhishdutta\\Desktop\\PRD Projects\\IBM WatsonX\\Generalized Model Development\\generalizedmodel\\lib\\asyncio\\events.py\", line 80, in _run\n",
      "    self._context.run(self._callback, *self._args)\n",
      "  File \"c:\\Users\\abhishdutta\\Desktop\\PRD Projects\\IBM WatsonX\\Generalized Model Development\\generalizedmodel\\lib\\site-packages\\ipykernel\\kernelbase.py\", line 545, in dispatch_queue\n",
      "    await self.process_one()\n",
      "  File \"c:\\Users\\abhishdutta\\Desktop\\PRD Projects\\IBM WatsonX\\Generalized Model Development\\generalizedmodel\\lib\\site-packages\\ipykernel\\kernelbase.py\", line 534, in process_one\n",
      "    await dispatch(*args)\n",
      "  File \"c:\\Users\\abhishdutta\\Desktop\\PRD Projects\\IBM WatsonX\\Generalized Model Development\\generalizedmodel\\lib\\site-packages\\ipykernel\\kernelbase.py\", line 437, in dispatch_shell\n",
      "    await result\n",
      "  File \"c:\\Users\\abhishdutta\\Desktop\\PRD Projects\\IBM WatsonX\\Generalized Model Development\\generalizedmodel\\lib\\site-packages\\ipykernel\\ipkernel.py\", line 362, in execute_request\n",
      "    await super().execute_request(stream, ident, parent)\n",
      "  File \"c:\\Users\\abhishdutta\\Desktop\\PRD Projects\\IBM WatsonX\\Generalized Model Development\\generalizedmodel\\lib\\site-packages\\ipykernel\\kernelbase.py\", line 778, in execute_request\n",
      "    reply_content = await reply_content\n",
      "  File \"c:\\Users\\abhishdutta\\Desktop\\PRD Projects\\IBM WatsonX\\Generalized Model Development\\generalizedmodel\\lib\\site-packages\\ipykernel\\ipkernel.py\", line 449, in do_execute\n",
      "    res = shell.run_cell(\n",
      "  File \"c:\\Users\\abhishdutta\\Desktop\\PRD Projects\\IBM WatsonX\\Generalized Model Development\\generalizedmodel\\lib\\site-packages\\ipykernel\\zmqshell.py\", line 549, in run_cell\n",
      "    return super().run_cell(*args, **kwargs)\n",
      "  File \"c:\\Users\\abhishdutta\\Desktop\\PRD Projects\\IBM WatsonX\\Generalized Model Development\\generalizedmodel\\lib\\site-packages\\IPython\\core\\interactiveshell.py\", line 3048, in run_cell\n",
      "    result = self._run_cell(\n",
      "  File \"c:\\Users\\abhishdutta\\Desktop\\PRD Projects\\IBM WatsonX\\Generalized Model Development\\generalizedmodel\\lib\\site-packages\\IPython\\core\\interactiveshell.py\", line 3103, in _run_cell\n",
      "    result = runner(coro)\n",
      "  File \"c:\\Users\\abhishdutta\\Desktop\\PRD Projects\\IBM WatsonX\\Generalized Model Development\\generalizedmodel\\lib\\site-packages\\IPython\\core\\async_helpers.py\", line 129, in _pseudo_sync_runner\n",
      "    coro.send(None)\n",
      "  File \"c:\\Users\\abhishdutta\\Desktop\\PRD Projects\\IBM WatsonX\\Generalized Model Development\\generalizedmodel\\lib\\site-packages\\IPython\\core\\interactiveshell.py\", line 3308, in run_cell_async\n",
      "    has_raised = await self.run_ast_nodes(code_ast.body, cell_name,\n",
      "  File \"c:\\Users\\abhishdutta\\Desktop\\PRD Projects\\IBM WatsonX\\Generalized Model Development\\generalizedmodel\\lib\\site-packages\\IPython\\core\\interactiveshell.py\", line 3490, in run_ast_nodes\n",
      "    if await self.run_code(code, result, async_=asy):\n",
      "  File \"c:\\Users\\abhishdutta\\Desktop\\PRD Projects\\IBM WatsonX\\Generalized Model Development\\generalizedmodel\\lib\\site-packages\\IPython\\core\\interactiveshell.py\", line 3550, in run_code\n",
      "    exec(code_obj, self.user_global_ns, self.user_ns)\n",
      "  File \"C:\\Users\\abhishdutta\\AppData\\Local\\Temp\\ipykernel_26860\\3184565770.py\", line 4, in <module>\n",
      "    train_arr, test_arr, preprocessor_path = data_transformation_obj.inititate_data_transformation(train_data_path, test_data_path, target, features_to_exclude, \"hear_disease\")\n",
      "  File \"c:\\users\\abhishdutta\\desktop\\prd projects\\ibm watsonx\\generalized model development\\src\\components\\data_transformation.py\", line 129, in inititate_data_transformation\n",
      "    logger.info(one_hot_cols, ordinal_cols, num_cols, ordinal_columns_mapping, one_hot_column_mapping)\n",
      "Message: []\n",
      "Arguments: ([], ['age', 'sex', 'chest pain type', 'resting bp s', 'cholesterol', 'fasting blood sugar', 'resting ecg', 'max heart rate', 'exercise angina', 'oldpeak', 'target'], {}, {})\n",
      "2024-05-08 17:32:08 - LOG - data_transformation - INFO : Categories created successfully!!!\n",
      "2024-05-08 17:32:08 - LOG - data_transformation - INFO : Pipeline methods creation ends!!!\n",
      "2024-05-08 17:32:08 - LOG - data_transformation - INFO : Input and target feature segregated successfully!!!\n",
      "2024-05-08 17:32:08 - LOG - data_transformation - INFO : [[ 0.43589364 -1.55505042  0.89721875 ...  0.25184008  1.41987421\n",
      "   1.31070338]\n",
      " [ 0.43589364  0.64306596 -1.5356244  ... -0.18573788 -0.70428774\n",
      "  -0.84848146]\n",
      " [-1.29865961 -1.55505042 -1.5356244  ...  1.2145116  -0.70428774\n",
      "   0.74249684]\n",
      " ...\n",
      " [ 0.66716741  0.64306596  0.89721875 ...  1.17075381 -0.70428774\n",
      "  -0.84848146]\n",
      " [ 0.32025676  0.64306596 -1.5356244  ...  0.47062906 -0.70428774\n",
      "  -0.84848146]\n",
      " [-1.18302273  0.64306596 -1.5356244  ...  0.77693364 -0.70428774\n",
      "  -0.84848146]]\n",
      "2024-05-08 17:32:08 - LOG - data_transformation - INFO : Preprocessing done successfully!!!\n",
      "2024-05-08 17:32:08 - LOG - data_transformation - INFO : Data transformation done successfully!!!\n",
      "2024-05-08 17:32:08 - LOG - data_transformation - INFO : ordinal_columns_mapping.json created successfully!!!\n",
      "2024-05-08 17:32:08 - LOG - utils - INFO : Object saved successfully\n"
     ]
    }
   ],
   "source": [
    "from src.components.data_transformation import *\n",
    "\n",
    "data_transformation_obj = DataTransformation()\n",
    "train_arr, test_arr, preprocessor_path = data_transformation_obj.inititate_data_transformation(train_data_path, test_data_path, target, features_to_exclude, \"hear_disease\")\n"
   ]
  },
  {
   "cell_type": "code",
   "execution_count": 6,
   "metadata": {},
   "outputs": [
    {
     "name": "stdout",
     "output_type": "stream",
     "text": [
      "Value: 0.0, Count: 326\n",
      "Value: 1.0, Count: 238\n"
     ]
    }
   ],
   "source": [
    "# Get the last column\n",
    "last_column = train_arr[:, -1]\n",
    "\n",
    "# Get unique values and their counts\n",
    "unique_values, counts = np.unique(last_column, return_counts=True)\n",
    "\n",
    "# Print unique values and their counts\n",
    "for value, count in zip(unique_values, counts):\n",
    "    print(f\"Value: {value}, Count: {count}\")"
   ]
  },
  {
   "cell_type": "code",
   "execution_count": 7,
   "metadata": {},
   "outputs": [],
   "source": [
    "config_path = \"C:/Users/abhishdutta/Desktop/PRD Projects/IBM WatsonX/Generalized Model Development/models_classification.json\"\n",
    "with open(config_path, 'r') as f:\n",
    "    models = json.load(f)"
   ]
  },
  {
   "cell_type": "code",
   "execution_count": 8,
   "metadata": {},
   "outputs": [
    {
     "data": {
      "text/plain": [
       "{'SVC': 'SVC()',\n",
       " 'DecisionTree': 'DecisionTreeClassifier(random_state=42)',\n",
       " 'RandomForest': 'RandomForestClassifier(random_state=42)',\n",
       " 'GradientBoostingClassification': 'GradientBoostingClassifier(random_state=42)',\n",
       " 'BaggingClassification': 'BaggingClassifier(random_state=42)'}"
      ]
     },
     "execution_count": 8,
     "metadata": {},
     "output_type": "execute_result"
    }
   ],
   "source": [
    "models"
   ]
  },
  {
   "cell_type": "code",
   "execution_count": 9,
   "metadata": {},
   "outputs": [
    {
     "name": "stdout",
     "output_type": "stream",
     "text": [
      "SVC()\n",
      "DecisionTreeClassifier(random_state=42)\n",
      "RandomForestClassifier(random_state=42)\n",
      "GradientBoostingClassifier(random_state=42)\n",
      "BaggingClassifier(random_state=42)\n"
     ]
    }
   ],
   "source": [
    "for i in range(len(models)):\n",
    "            model = list(models.values())[i]\n",
    "            model_flag = list(models.keys())[i]\n",
    "            # model.fit(X_train, y_train)\n",
    "            print(model)\n",
    "            "
   ]
  },
  {
   "cell_type": "code",
   "execution_count": 10,
   "metadata": {},
   "outputs": [
    {
     "name": "stderr",
     "output_type": "stream",
     "text": [
      "2024-05-08 17:33:08 - LOG - model_trainer_classification - INFO : Initiating model training process...\n",
      "2024-05-08 17:33:08 - LOG - model_trainer_classification - INFO : The models are:\n",
      "2024-05-08 17:33:10 - LOG - utils - INFO : \n",
      "====================================================================================\n",
      "\n",
      "2024-05-08 17:33:10 - LOG - utils - INFO : The confusion matrix and classification report for the model: SVC is:\n",
      "2024-05-08 17:33:10 - LOG - utils - INFO :               precision    recall  f1-score   support\n",
      "\n",
      "         0.0       0.81      0.82      0.82        79\n",
      "         1.0       0.81      0.80      0.81        75\n",
      "\n",
      "    accuracy                           0.81       154\n",
      "   macro avg       0.81      0.81      0.81       154\n",
      "weighted avg       0.81      0.81      0.81       154\n",
      "\n",
      "2024-05-08 17:33:10 - LOG - utils - INFO : \n",
      "====================================================================================\n",
      "\n",
      "2024-05-08 17:33:10 - LOG - utils - INFO : \n",
      "====================================================================================\n",
      "\n",
      "2024-05-08 17:33:10 - LOG - utils - INFO : The best parameters for the modelSVC are {'kernel': 'rbf', 'gamma': 'scale', 'degree': 3, 'C': 1}\n",
      "2024-05-08 17:33:10 - LOG - utils - INFO : \n",
      "====================================================================================\n",
      "\n",
      "2024-05-08 17:33:10 - LOG - utils - INFO : Model: SVC, Accuracy score: 0.8116883116883117\n",
      "2024-05-08 17:33:10 - LOG - utils - INFO : \n",
      "====================================================================================\n",
      "\n",
      "2024-05-08 17:33:10 - LOG - utils - INFO : The confusion matrix and classification report for the model: DecisionTree is:\n",
      "2024-05-08 17:33:10 - LOG - utils - INFO :               precision    recall  f1-score   support\n",
      "\n",
      "         0.0       0.84      0.85      0.84        79\n",
      "         1.0       0.84      0.83      0.83        75\n",
      "\n",
      "    accuracy                           0.84       154\n",
      "   macro avg       0.84      0.84      0.84       154\n",
      "weighted avg       0.84      0.84      0.84       154\n",
      "\n",
      "2024-05-08 17:33:10 - LOG - utils - INFO : \n",
      "====================================================================================\n",
      "\n",
      "2024-05-08 17:33:10 - LOG - utils - INFO : \n",
      "====================================================================================\n",
      "\n",
      "2024-05-08 17:33:10 - LOG - utils - INFO : The best parameters for the modelDecisionTree are {'min_samples_split': 6, 'min_samples_leaf': 1, 'max_depth': 10}\n",
      "2024-05-08 17:33:10 - LOG - utils - INFO : \n",
      "====================================================================================\n",
      "\n",
      "2024-05-08 17:33:10 - LOG - utils - INFO : Model: DecisionTree, Accuracy score: 0.8376623376623377\n",
      "2024-05-08 17:33:22 - LOG - utils - INFO : \n",
      "====================================================================================\n",
      "\n",
      "2024-05-08 17:33:22 - LOG - utils - INFO : The confusion matrix and classification report for the model: RandomForest is:\n",
      "2024-05-08 17:33:22 - LOG - utils - INFO :               precision    recall  f1-score   support\n",
      "\n",
      "         0.0       0.84      0.89      0.86        79\n",
      "         1.0       0.87      0.83      0.85        75\n",
      "\n",
      "    accuracy                           0.86       154\n",
      "   macro avg       0.86      0.86      0.86       154\n",
      "weighted avg       0.86      0.86      0.86       154\n",
      "\n",
      "2024-05-08 17:33:22 - LOG - utils - INFO : \n",
      "====================================================================================\n",
      "\n",
      "2024-05-08 17:33:22 - LOG - utils - INFO : \n",
      "====================================================================================\n",
      "\n",
      "2024-05-08 17:33:22 - LOG - utils - INFO : The best parameters for the modelRandomForest are {'n_estimators': 100, 'min_samples_split': 9, 'min_samples_leaf': 3, 'max_depth': 13}\n",
      "2024-05-08 17:33:22 - LOG - utils - INFO : \n",
      "====================================================================================\n",
      "\n",
      "2024-05-08 17:33:22 - LOG - utils - INFO : Model: RandomForest, Accuracy score: 0.8571428571428571\n",
      "2024-05-08 17:33:46 - LOG - utils - INFO : \n",
      "====================================================================================\n",
      "\n",
      "2024-05-08 17:33:46 - LOG - utils - INFO : The confusion matrix and classification report for the model: GradientBoostingClassification is:\n",
      "2024-05-08 17:33:46 - LOG - utils - INFO :               precision    recall  f1-score   support\n",
      "\n",
      "         0.0       0.91      0.90      0.90        79\n",
      "         1.0       0.89      0.91      0.90        75\n",
      "\n",
      "    accuracy                           0.90       154\n",
      "   macro avg       0.90      0.90      0.90       154\n",
      "weighted avg       0.90      0.90      0.90       154\n",
      "\n",
      "2024-05-08 17:33:46 - LOG - utils - INFO : \n",
      "====================================================================================\n",
      "\n",
      "2024-05-08 17:33:46 - LOG - utils - INFO : \n",
      "====================================================================================\n",
      "\n",
      "2024-05-08 17:33:46 - LOG - utils - INFO : The best parameters for the modelGradientBoostingClassification are {'n_estimators': 50, 'min_samples_split': 9, 'min_samples_leaf': 4, 'max_depth': 5, 'learning_rate': 0.1}\n",
      "2024-05-08 17:33:46 - LOG - utils - INFO : \n",
      "====================================================================================\n",
      "\n",
      "2024-05-08 17:33:46 - LOG - utils - INFO : Model: GradientBoostingClassification, Accuracy score: 0.9025974025974026\n",
      "2024-05-08 17:33:53 - LOG - utils - INFO : \n",
      "====================================================================================\n",
      "\n",
      "2024-05-08 17:33:53 - LOG - utils - INFO : The confusion matrix and classification report for the model: BaggingClassification is:\n",
      "2024-05-08 17:33:53 - LOG - utils - INFO :               precision    recall  f1-score   support\n",
      "\n",
      "         0.0       0.87      0.94      0.90        79\n",
      "         1.0       0.93      0.85      0.89        75\n",
      "\n",
      "    accuracy                           0.90       154\n",
      "   macro avg       0.90      0.90      0.90       154\n",
      "weighted avg       0.90      0.90      0.90       154\n",
      "\n",
      "2024-05-08 17:33:53 - LOG - utils - INFO : \n",
      "====================================================================================\n",
      "\n",
      "2024-05-08 17:33:53 - LOG - utils - INFO : \n",
      "====================================================================================\n",
      "\n",
      "2024-05-08 17:33:53 - LOG - utils - INFO : The best parameters for the modelBaggingClassification are {'n_estimators': 50, 'max_samples': 1.0, 'max_features': 1.0, 'bootstrap_features': True, 'bootstrap': True}\n",
      "2024-05-08 17:33:53 - LOG - utils - INFO : \n",
      "====================================================================================\n",
      "\n",
      "2024-05-08 17:33:53 - LOG - utils - INFO : Model: BaggingClassification, Accuracy score: 0.8961038961038961\n",
      "2024-05-08 17:33:53 - LOG - utils - INFO : Model evaluation complete\n",
      "2024-05-08 17:33:53 - LOG - model_trainer_classification - INFO : \n",
      "====================================================================================\n",
      "\n",
      "2024-05-08 17:33:53 - LOG - model_trainer_classification - INFO : Model Report : {'SVC': {'score': 0.8116883116883117, 'best_params': {'kernel': 'rbf', 'gamma': 'scale', 'degree': 3, 'C': 1}}, 'DecisionTree': {'score': 0.8376623376623377, 'best_params': {'min_samples_split': 6, 'min_samples_leaf': 1, 'max_depth': 10}}, 'RandomForest': {'score': 0.8571428571428571, 'best_params': {'n_estimators': 100, 'min_samples_split': 9, 'min_samples_leaf': 3, 'max_depth': 13}}, 'GradientBoostingClassification': {'score': 0.9025974025974026, 'best_params': {'n_estimators': 50, 'min_samples_split': 9, 'min_samples_leaf': 4, 'max_depth': 5, 'learning_rate': 0.1}}, 'BaggingClassification': {'score': 0.8961038961038961, 'best_params': {'n_estimators': 50, 'max_samples': 1.0, 'max_features': 1.0, 'bootstrap_features': True, 'bootstrap': True}}}\n",
      "2024-05-08 17:33:53 - LOG - model_trainer_classification - INFO : \n",
      "====================================================================================\n",
      "\n",
      "2024-05-08 17:33:53 - LOG - model_trainer_classification - INFO : Model Name is:GradientBoostingClassification and the best parameters are:{'n_estimators': 50, 'min_samples_split': 9, 'min_samples_leaf': 4, 'max_depth': 5, 'learning_rate': 0.1}, with score 0.9025974025974026\n",
      "2024-05-08 17:33:53 - LOG - utils - INFO : Object saved successfully\n",
      "2024-05-08 17:33:53 - LOG - model_trainer_classification - INFO : The model is saved successfully to C:\\Users\\abhishdutta\\Desktop\\PRD Projects\\IBM WatsonX\\Generalized Model Development\\artifacts\\Heart_Disease_classification_model.pkl\n"
     ]
    },
    {
     "data": {
      "image/png": "[encoded data removed]",
      "text/plain": [
       "<Figure size 1000x700 with 2 Axes>"
      ]
     },
     "metadata": {},
     "output_type": "display_data"
    },
    {
     "data": {
      "image/png": "[encoded data removed]",
      "text/plain": [
       "<Figure size 1000x700 with 2 Axes>"
      ]
     },
     "metadata": {},
     "output_type": "display_data"
    },
    {
     "data": {
      "image/png": "[encoded data removed]",
      "text/plain": [
       "<Figure size 1000x700 with 2 Axes>"
      ]
     },
     "metadata": {},
     "output_type": "display_data"
    },
    {
     "data": {
      "image/png": "[encoded data removed]",
      "text/plain": [
       "<Figure size 1000x700 with 2 Axes>"
      ]
     },
     "metadata": {},
     "output_type": "display_data"
    },
    {
     "data": {
      "image/png": "[encoded data removed]",
      "text/plain": [
       "<Figure size 1000x700 with 2 Axes>"
      ]
     },
     "metadata": {},
     "output_type": "display_data"
    }
   ],
   "source": [
    "from src.components.model_trainer_classification import *\n",
    "model_trainer_obj = InitiateModelTraining()\n",
    "model_trainer_obj.initiate_model_training(train_arr, test_arr, \"Heart_Disease\")"
   ]
  },
  {
   "cell_type": "markdown",
   "metadata": {},
   "source": [
    "# Regression Test"
   ]
  },
  {
   "cell_type": "markdown",
   "metadata": {},
   "source": [
    "Time_taken (min)"
   ]
  },
  {
   "cell_type": "code",
   "execution_count": 1,
   "metadata": {},
   "outputs": [
    {
     "data": {
      "text/html": [
       "<div>\n",
       "<style scoped>\n",
       "    .dataframe tbody tr th:only-of-type {\n",
       "        vertical-align: middle;\n",
       "    }\n",
       "\n",
       "    .dataframe tbody tr th {\n",
       "        vertical-align: top;\n",
       "    }\n",
       "\n",
       "    .dataframe thead th {\n",
       "        text-align: right;\n",
       "    }\n",
       "</style>\n",
       "<table border=\"1\" class=\"dataframe\">\n",
       "  <thead>\n",
       "    <tr style=\"text-align: right;\">\n",
       "      <th></th>\n",
       "      <th>Unnamed: 0</th>\n",
       "      <th>ID</th>\n",
       "      <th>Delivery_person_ID</th>\n",
       "      <th>Delivery_person_Age</th>\n",
       "      <th>Delivery_person_Ratings</th>\n",
       "      <th>Restaurant_latitude</th>\n",
       "      <th>Restaurant_longitude</th>\n",
       "      <th>Delivery_location_latitude</th>\n",
       "      <th>Delivery_location_longitude</th>\n",
       "      <th>Order_Date</th>\n",
       "      <th>...</th>\n",
       "      <th>Time_Order_picked</th>\n",
       "      <th>Weather_conditions</th>\n",
       "      <th>Road_traffic_density</th>\n",
       "      <th>Vehicle_condition</th>\n",
       "      <th>Type_of_order</th>\n",
       "      <th>Type_of_vehicle</th>\n",
       "      <th>multiple_deliveries</th>\n",
       "      <th>Festival</th>\n",
       "      <th>City</th>\n",
       "      <th>Time_taken (min)</th>\n",
       "    </tr>\n",
       "  </thead>\n",
       "  <tbody>\n",
       "    <tr>\n",
       "      <th>0</th>\n",
       "      <td>0</td>\n",
       "      <td>0xcdcd</td>\n",
       "      <td>DEHRES17DEL01</td>\n",
       "      <td>36.0</td>\n",
       "      <td>4.2</td>\n",
       "      <td>30.327968</td>\n",
       "      <td>78.046106</td>\n",
       "      <td>30.397968</td>\n",
       "      <td>78.116106</td>\n",
       "      <td>12-02-2022</td>\n",
       "      <td>...</td>\n",
       "      <td>22:10</td>\n",
       "      <td>Fog</td>\n",
       "      <td>Jam</td>\n",
       "      <td>2</td>\n",
       "      <td>Snack</td>\n",
       "      <td>motorcycle</td>\n",
       "      <td>3.0</td>\n",
       "      <td>No</td>\n",
       "      <td>Metropolitian</td>\n",
       "      <td>46</td>\n",
       "    </tr>\n",
       "    <tr>\n",
       "      <th>1</th>\n",
       "      <td>1</td>\n",
       "      <td>0xd987</td>\n",
       "      <td>KOCRES16DEL01</td>\n",
       "      <td>21.0</td>\n",
       "      <td>4.7</td>\n",
       "      <td>10.003064</td>\n",
       "      <td>76.307589</td>\n",
       "      <td>10.043064</td>\n",
       "      <td>76.347589</td>\n",
       "      <td>13-02-2022</td>\n",
       "      <td>...</td>\n",
       "      <td>15:05</td>\n",
       "      <td>Stormy</td>\n",
       "      <td>High</td>\n",
       "      <td>1</td>\n",
       "      <td>Meal</td>\n",
       "      <td>motorcycle</td>\n",
       "      <td>1.0</td>\n",
       "      <td>No</td>\n",
       "      <td>Metropolitian</td>\n",
       "      <td>23</td>\n",
       "    </tr>\n",
       "    <tr>\n",
       "      <th>2</th>\n",
       "      <td>2</td>\n",
       "      <td>0x2784</td>\n",
       "      <td>PUNERES13DEL03</td>\n",
       "      <td>23.0</td>\n",
       "      <td>4.7</td>\n",
       "      <td>18.562450</td>\n",
       "      <td>73.916619</td>\n",
       "      <td>18.652450</td>\n",
       "      <td>74.006619</td>\n",
       "      <td>04-03-2022</td>\n",
       "      <td>...</td>\n",
       "      <td>17:40</td>\n",
       "      <td>Sandstorms</td>\n",
       "      <td>Medium</td>\n",
       "      <td>1</td>\n",
       "      <td>Drinks</td>\n",
       "      <td>scooter</td>\n",
       "      <td>1.0</td>\n",
       "      <td>No</td>\n",
       "      <td>Metropolitian</td>\n",
       "      <td>21</td>\n",
       "    </tr>\n",
       "    <tr>\n",
       "      <th>3</th>\n",
       "      <td>3</td>\n",
       "      <td>0xc8b6</td>\n",
       "      <td>LUDHRES15DEL02</td>\n",
       "      <td>34.0</td>\n",
       "      <td>4.3</td>\n",
       "      <td>30.899584</td>\n",
       "      <td>75.809346</td>\n",
       "      <td>30.919584</td>\n",
       "      <td>75.829346</td>\n",
       "      <td>13-02-2022</td>\n",
       "      <td>...</td>\n",
       "      <td>09:30</td>\n",
       "      <td>Sandstorms</td>\n",
       "      <td>Low</td>\n",
       "      <td>0</td>\n",
       "      <td>Buffet</td>\n",
       "      <td>motorcycle</td>\n",
       "      <td>0.0</td>\n",
       "      <td>No</td>\n",
       "      <td>Metropolitian</td>\n",
       "      <td>20</td>\n",
       "    </tr>\n",
       "    <tr>\n",
       "      <th>4</th>\n",
       "      <td>4</td>\n",
       "      <td>0xdb64</td>\n",
       "      <td>KNPRES14DEL02</td>\n",
       "      <td>24.0</td>\n",
       "      <td>4.7</td>\n",
       "      <td>26.463504</td>\n",
       "      <td>80.372929</td>\n",
       "      <td>26.593504</td>\n",
       "      <td>80.502929</td>\n",
       "      <td>14-02-2022</td>\n",
       "      <td>...</td>\n",
       "      <td>20:05</td>\n",
       "      <td>Fog</td>\n",
       "      <td>Jam</td>\n",
       "      <td>1</td>\n",
       "      <td>Snack</td>\n",
       "      <td>scooter</td>\n",
       "      <td>1.0</td>\n",
       "      <td>No</td>\n",
       "      <td>Metropolitian</td>\n",
       "      <td>41</td>\n",
       "    </tr>\n",
       "  </tbody>\n",
       "</table>\n",
       "<p>5 rows × 21 columns</p>\n",
       "</div>"
      ],
      "text/plain": [
       "   Unnamed: 0      ID Delivery_person_ID  Delivery_person_Age  \\\n",
       "0           0  0xcdcd      DEHRES17DEL01                 36.0   \n",
       "1           1  0xd987      KOCRES16DEL01                 21.0   \n",
       "2           2  0x2784     PUNERES13DEL03                 23.0   \n",
       "3           3  0xc8b6     LUDHRES15DEL02                 34.0   \n",
       "4           4  0xdb64      KNPRES14DEL02                 24.0   \n",
       "\n",
       "   Delivery_person_Ratings  Restaurant_latitude  Restaurant_longitude  \\\n",
       "0                      4.2            30.327968             78.046106   \n",
       "1                      4.7            10.003064             76.307589   \n",
       "2                      4.7            18.562450             73.916619   \n",
       "3                      4.3            30.899584             75.809346   \n",
       "4                      4.7            26.463504             80.372929   \n",
       "\n",
       "   Delivery_location_latitude  Delivery_location_longitude  Order_Date  ...  \\\n",
       "0                   30.397968                    78.116106  12-02-2022  ...   \n",
       "1                   10.043064                    76.347589  13-02-2022  ...   \n",
       "2                   18.652450                    74.006619  04-03-2022  ...   \n",
       "3                   30.919584                    75.829346  13-02-2022  ...   \n",
       "4                   26.593504                    80.502929  14-02-2022  ...   \n",
       "\n",
       "  Time_Order_picked Weather_conditions Road_traffic_density Vehicle_condition  \\\n",
       "0             22:10                Fog                  Jam                 2   \n",
       "1             15:05             Stormy                 High                 1   \n",
       "2             17:40         Sandstorms               Medium                 1   \n",
       "3             09:30         Sandstorms                  Low                 0   \n",
       "4             20:05                Fog                  Jam                 1   \n",
       "\n",
       "   Type_of_order Type_of_vehicle multiple_deliveries  Festival           City  \\\n",
       "0          Snack      motorcycle                 3.0        No  Metropolitian   \n",
       "1           Meal      motorcycle                 1.0        No  Metropolitian   \n",
       "2         Drinks         scooter                 1.0        No  Metropolitian   \n",
       "3         Buffet      motorcycle                 0.0        No  Metropolitian   \n",
       "4          Snack         scooter                 1.0        No  Metropolitian   \n",
       "\n",
       "  Time_taken (min)  \n",
       "0               46  \n",
       "1               23  \n",
       "2               21  \n",
       "3               20  \n",
       "4               41  \n",
       "\n",
       "[5 rows x 21 columns]"
      ]
     },
     "execution_count": 1,
     "metadata": {},
     "output_type": "execute_result"
    }
   ],
   "source": [
    "# Import Data Set:\n",
    "import pandas as pd\n",
    "input_data_path: str = \"C:/Users/abhishdutta/Desktop/PRD Projects/IBM WatsonX/Generalized Model Development/data/zomato.csv\"\n",
    "df = pd.read_csv(input_data_path)\n",
    "df.head()"
   ]
  },
  {
   "cell_type": "code",
   "execution_count": 2,
   "metadata": {},
   "outputs": [
    {
     "data": {
      "text/plain": [
       "Index(['Unnamed: 0', 'ID', 'Delivery_person_ID', 'Delivery_person_Age',\n",
       "       'Delivery_person_Ratings', 'Restaurant_latitude',\n",
       "       'Restaurant_longitude', 'Delivery_location_latitude',\n",
       "       'Delivery_location_longitude', 'Order_Date', 'Time_Orderd',\n",
       "       'Time_Order_picked', 'Weather_conditions', 'Road_traffic_density',\n",
       "       'Vehicle_condition', 'Type_of_order', 'Type_of_vehicle',\n",
       "       'multiple_deliveries', 'Festival', 'City', 'Time_taken (min)'],\n",
       "      dtype='object')"
      ]
     },
     "execution_count": 2,
     "metadata": {},
     "output_type": "execute_result"
    }
   ],
   "source": [
    "df.columns"
   ]
  },
  {
   "cell_type": "code",
   "execution_count": 3,
   "metadata": {},
   "outputs": [
    {
     "name": "stderr",
     "output_type": "stream",
     "text": [
      "2024-05-08 18:46:59 - LOG - data_ingetion - INFO : The current directory for data Ingetion is C:\\Users\\abhishdutta\\Desktop\\PRD Projects\\IBM WatsonX\\Generalized Model Development\n",
      "2024-05-08 18:46:59 - LOG - data_ingetion - INFO : Initiating data ingetion process...\n",
      "2024-05-08 18:47:00 - LOG - data_ingetion - INFO : Raw data saved at C:\\Users\\abhishdutta\\Desktop\\PRD Projects\\IBM WatsonX\\Generalized Model Development\\artifacts\\raw.csv\n",
      "2024-05-08 18:47:00 - LOG - data_ingetion - INFO : Data ingetion process completed...\n",
      "2024-05-08 18:47:00 - LOG - data_ingetion - INFO : Train data shape: (36467, 21)\n",
      "2024-05-08 18:47:00 - LOG - data_ingetion - INFO : Test data shape: (9117, 21)\n",
      "2024-05-08 18:47:00 - LOG - data_ingetion - INFO : Train data saved at C:\\Users\\abhishdutta\\Desktop\\PRD Projects\\IBM WatsonX\\Generalized Model Development\\artifacts\\train.csv\n",
      "2024-05-08 18:47:01 - LOG - data_ingetion - INFO : Test data saved at C:\\Users\\abhishdutta\\Desktop\\PRD Projects\\IBM WatsonX\\Generalized Model Development\\artifacts\\test.csv\n",
      "2024-05-08 18:47:01 - LOG - data_ingetion - INFO : Data Ingetion process completed...\n"
     ]
    }
   ],
   "source": [
    "from src.components.data_ingetion import *\n",
    "data_ingetion = DataIngetion()\n",
    "train_data_path, test_data_path = data_ingetion.inititate_data_ingetion(df) #Return the path of Train and test Data"
   ]
  },
  {
   "cell_type": "code",
   "execution_count": 4,
   "metadata": {},
   "outputs": [],
   "source": [
    "#Give the target variable and the input features to be excluded\n",
    "\n",
    "target = \"Time_taken (min)\"  #List the target variable\n",
    "features_to_exclude = [\"Unnamed: 0\",\"ID\", \"Delivery_person_ID\", \"Order_Date\", \"Time_Orderd\", \"Time_Order_picked\" ] #List the input features to exclude\n",
    "\n"
   ]
  },
  {
   "cell_type": "code",
   "execution_count": 5,
   "metadata": {},
   "outputs": [
    {
     "name": "stderr",
     "output_type": "stream",
     "text": [
      "2024-05-08 18:47:01 - LOG - data_transformation - INFO : Initiating data transformation process...\n",
      "2024-05-08 18:47:01 - LOG - data_transformation - INFO : Data loaded successfully\n",
      "2024-05-08 18:47:01 - LOG - data_transformation - INFO : Features excluded successfully\n",
      "2024-05-08 18:47:01 - LOG - data_transformation - INFO : Number columns identified successfully\n",
      "2024-05-08 18:47:01 - LOG - data_transformation - INFO : Outliers removed!!!\n",
      "2024-05-08 18:47:01 - LOG - data_transformation - INFO : Outliers removed!!!\n",
      "c:\\users\\abhishdutta\\desktop\\prd projects\\ibm watsonx\\generalized model development\\src\\utils.py:33: FutureWarning: A value is trying to be set on a copy of a DataFrame or Series through chained assignment using an inplace method.\n",
      "The behavior will change in pandas 3.0. This inplace method will never work because the intermediate object on which we are setting values always behaves as a copy.\n",
      "\n",
      "For example, when doing 'df[col].method(value, inplace=True)', try using 'df.method({col: value}, inplace=True)' or df[col] = df[col].method(value) instead, to perform the operation inplace on the original object.\n",
      "\n",
      "\n",
      "  df[col].fillna(df[col].mean(), inplace=True)\n",
      "2024-05-08 18:47:01 - LOG - data_transformation - INFO : Replaced Null with mean for input numerical variables\n",
      "2024-05-08 18:47:01 - LOG - data_transformation - INFO : Replaced Null with mean for Target Variable\n",
      "2024-05-08 18:47:01 - LOG - utils - INFO : ordinal_onehot_numerical_divide done!!!\n",
      "2024-05-08 18:47:01 - LOG - data_transformation - INFO : Categorical columns (one hot, ordinal mapping)  and numerical columns divided successfully\n",
      "2024-05-08 18:47:02 - LOG - data_transformation - INFO : Empty values filled with mode successfully\n",
      "2024-05-08 18:47:02 - LOG - data_transformation - INFO : Empty values filled with mode successfully\n",
      "--- Logging error ---\n",
      "Traceback (most recent call last):\n",
      "  File \"c:\\Users\\abhishdutta\\Desktop\\PRD Projects\\IBM WatsonX\\Generalized Model Development\\generalizedmodel\\lib\\logging\\__init__.py\", line 1079, in emit\n",
      "    msg = self.format(record)\n",
      "  File \"c:\\Users\\abhishdutta\\Desktop\\PRD Projects\\IBM WatsonX\\Generalized Model Development\\generalizedmodel\\lib\\logging\\__init__.py\", line 923, in format\n",
      "    return fmt.format(record)\n",
      "  File \"c:\\Users\\abhishdutta\\Desktop\\PRD Projects\\IBM WatsonX\\Generalized Model Development\\generalizedmodel\\lib\\logging\\__init__.py\", line 659, in format\n",
      "    record.message = record.getMessage()\n",
      "  File \"c:\\Users\\abhishdutta\\Desktop\\PRD Projects\\IBM WatsonX\\Generalized Model Development\\generalizedmodel\\lib\\logging\\__init__.py\", line 363, in getMessage\n",
      "    msg = msg % self.args\n",
      "TypeError: not all arguments converted during string formatting\n",
      "Call stack:\n",
      "  File \"c:\\Users\\abhishdutta\\Desktop\\PRD Projects\\IBM WatsonX\\Generalized Model Development\\generalizedmodel\\lib\\runpy.py\", line 197, in _run_module_as_main\n",
      "    return _run_code(code, main_globals, None,\n",
      "  File \"c:\\Users\\abhishdutta\\Desktop\\PRD Projects\\IBM WatsonX\\Generalized Model Development\\generalizedmodel\\lib\\runpy.py\", line 87, in _run_code\n",
      "    exec(code, run_globals)\n",
      "  File \"c:\\Users\\abhishdutta\\Desktop\\PRD Projects\\IBM WatsonX\\Generalized Model Development\\generalizedmodel\\lib\\site-packages\\ipykernel_launcher.py\", line 18, in <module>\n",
      "    app.launch_new_instance()\n",
      "  File \"c:\\Users\\abhishdutta\\Desktop\\PRD Projects\\IBM WatsonX\\Generalized Model Development\\generalizedmodel\\lib\\site-packages\\traitlets\\config\\application.py\", line 1075, in launch_instance\n",
      "    app.start()\n",
      "  File \"c:\\Users\\abhishdutta\\Desktop\\PRD Projects\\IBM WatsonX\\Generalized Model Development\\generalizedmodel\\lib\\site-packages\\ipykernel\\kernelapp.py\", line 739, in start\n",
      "    self.io_loop.start()\n",
      "  File \"c:\\Users\\abhishdutta\\Desktop\\PRD Projects\\IBM WatsonX\\Generalized Model Development\\generalizedmodel\\lib\\site-packages\\tornado\\platform\\asyncio.py\", line 205, in start\n",
      "    self.asyncio_loop.run_forever()\n",
      "  File \"c:\\Users\\abhishdutta\\Desktop\\PRD Projects\\IBM WatsonX\\Generalized Model Development\\generalizedmodel\\lib\\asyncio\\base_events.py\", line 596, in run_forever\n",
      "    self._run_once()\n",
      "  File \"c:\\Users\\abhishdutta\\Desktop\\PRD Projects\\IBM WatsonX\\Generalized Model Development\\generalizedmodel\\lib\\asyncio\\base_events.py\", line 1890, in _run_once\n",
      "    handle._run()\n",
      "  File \"c:\\Users\\abhishdutta\\Desktop\\PRD Projects\\IBM WatsonX\\Generalized Model Development\\generalizedmodel\\lib\\asyncio\\events.py\", line 80, in _run\n",
      "    self._context.run(self._callback, *self._args)\n",
      "  File \"c:\\Users\\abhishdutta\\Desktop\\PRD Projects\\IBM WatsonX\\Generalized Model Development\\generalizedmodel\\lib\\site-packages\\ipykernel\\kernelbase.py\", line 545, in dispatch_queue\n",
      "    await self.process_one()\n",
      "  File \"c:\\Users\\abhishdutta\\Desktop\\PRD Projects\\IBM WatsonX\\Generalized Model Development\\generalizedmodel\\lib\\site-packages\\ipykernel\\kernelbase.py\", line 534, in process_one\n",
      "    await dispatch(*args)\n",
      "  File \"c:\\Users\\abhishdutta\\Desktop\\PRD Projects\\IBM WatsonX\\Generalized Model Development\\generalizedmodel\\lib\\site-packages\\ipykernel\\kernelbase.py\", line 437, in dispatch_shell\n",
      "    await result\n",
      "  File \"c:\\Users\\abhishdutta\\Desktop\\PRD Projects\\IBM WatsonX\\Generalized Model Development\\generalizedmodel\\lib\\site-packages\\ipykernel\\ipkernel.py\", line 362, in execute_request\n",
      "    await super().execute_request(stream, ident, parent)\n",
      "  File \"c:\\Users\\abhishdutta\\Desktop\\PRD Projects\\IBM WatsonX\\Generalized Model Development\\generalizedmodel\\lib\\site-packages\\ipykernel\\kernelbase.py\", line 778, in execute_request\n",
      "    reply_content = await reply_content\n",
      "  File \"c:\\Users\\abhishdutta\\Desktop\\PRD Projects\\IBM WatsonX\\Generalized Model Development\\generalizedmodel\\lib\\site-packages\\ipykernel\\ipkernel.py\", line 449, in do_execute\n",
      "    res = shell.run_cell(\n",
      "  File \"c:\\Users\\abhishdutta\\Desktop\\PRD Projects\\IBM WatsonX\\Generalized Model Development\\generalizedmodel\\lib\\site-packages\\ipykernel\\zmqshell.py\", line 549, in run_cell\n",
      "    return super().run_cell(*args, **kwargs)\n",
      "  File \"c:\\Users\\abhishdutta\\Desktop\\PRD Projects\\IBM WatsonX\\Generalized Model Development\\generalizedmodel\\lib\\site-packages\\IPython\\core\\interactiveshell.py\", line 3048, in run_cell\n",
      "    result = self._run_cell(\n",
      "  File \"c:\\Users\\abhishdutta\\Desktop\\PRD Projects\\IBM WatsonX\\Generalized Model Development\\generalizedmodel\\lib\\site-packages\\IPython\\core\\interactiveshell.py\", line 3103, in _run_cell\n",
      "    result = runner(coro)\n",
      "  File \"c:\\Users\\abhishdutta\\Desktop\\PRD Projects\\IBM WatsonX\\Generalized Model Development\\generalizedmodel\\lib\\site-packages\\IPython\\core\\async_helpers.py\", line 129, in _pseudo_sync_runner\n",
      "    coro.send(None)\n",
      "  File \"c:\\Users\\abhishdutta\\Desktop\\PRD Projects\\IBM WatsonX\\Generalized Model Development\\generalizedmodel\\lib\\site-packages\\IPython\\core\\interactiveshell.py\", line 3308, in run_cell_async\n",
      "    has_raised = await self.run_ast_nodes(code_ast.body, cell_name,\n",
      "  File \"c:\\Users\\abhishdutta\\Desktop\\PRD Projects\\IBM WatsonX\\Generalized Model Development\\generalizedmodel\\lib\\site-packages\\IPython\\core\\interactiveshell.py\", line 3490, in run_ast_nodes\n",
      "    if await self.run_code(code, result, async_=asy):\n",
      "  File \"c:\\Users\\abhishdutta\\Desktop\\PRD Projects\\IBM WatsonX\\Generalized Model Development\\generalizedmodel\\lib\\site-packages\\IPython\\core\\interactiveshell.py\", line 3550, in run_code\n",
      "    exec(code_obj, self.user_global_ns, self.user_ns)\n",
      "  File \"C:\\Users\\abhishdutta\\AppData\\Local\\Temp\\ipykernel_19612\\3343452939.py\", line 4, in <module>\n",
      "    train_arr, test_arr, preprocessor_path = data_transformation_obj.inititate_data_transformation(train_data_path, test_data_path, target, features_to_exclude, user_transformation_name=\"zomato\")\n",
      "  File \"c:\\users\\abhishdutta\\desktop\\prd projects\\ibm watsonx\\generalized model development\\src\\components\\data_transformation.py\", line 129, in inititate_data_transformation\n",
      "    logger.info(one_hot_cols, ordinal_cols, num_cols, ordinal_columns_mapping, one_hot_column_mapping)\n",
      "Message: ['Type_of_order', 'Type_of_vehicle']\n",
      "Arguments: (['Weather_conditions', 'Road_traffic_density', 'Festival', 'City'], ['Delivery_person_Age', 'Delivery_person_Ratings', 'Restaurant_latitude', 'Restaurant_longitude', 'Delivery_location_latitude', 'Delivery_location_longitude', 'Vehicle_condition', 'multiple_deliveries', 'Time_taken (min)'], {'Weather_conditions': ['Sunny', 'Stormy', 'Sandstorms', 'Windy', 'Cloudy', 'Fog'], 'Road_traffic_density': ['Low', 'Medium', 'High', 'Jam'], 'Festival': ['No', 'Yes'], 'City': ['Urban', 'Metropolitian', 'Semi-Urban']}, {'Type_of_order': ['Drinks', 'Snack', 'Buffet', 'Meal'], 'Type_of_vehicle': ['scooter', 'electric_scooter', 'motorcycle']})\n",
      "--- Logging error ---\n",
      "Traceback (most recent call last):\n",
      "  File \"c:\\Users\\abhishdutta\\Desktop\\PRD Projects\\IBM WatsonX\\Generalized Model Development\\generalizedmodel\\lib\\logging\\__init__.py\", line 1079, in emit\n",
      "    msg = self.format(record)\n",
      "  File \"c:\\Users\\abhishdutta\\Desktop\\PRD Projects\\IBM WatsonX\\Generalized Model Development\\generalizedmodel\\lib\\logging\\__init__.py\", line 923, in format\n",
      "    return fmt.format(record)\n",
      "  File \"c:\\Users\\abhishdutta\\Desktop\\PRD Projects\\IBM WatsonX\\Generalized Model Development\\generalizedmodel\\lib\\logging\\__init__.py\", line 659, in format\n",
      "    record.message = record.getMessage()\n",
      "  File \"c:\\Users\\abhishdutta\\Desktop\\PRD Projects\\IBM WatsonX\\Generalized Model Development\\generalizedmodel\\lib\\logging\\__init__.py\", line 363, in getMessage\n",
      "    msg = msg % self.args\n",
      "TypeError: not all arguments converted during string formatting\n",
      "Call stack:\n",
      "  File \"c:\\Users\\abhishdutta\\Desktop\\PRD Projects\\IBM WatsonX\\Generalized Model Development\\generalizedmodel\\lib\\runpy.py\", line 197, in _run_module_as_main\n",
      "    return _run_code(code, main_globals, None,\n",
      "  File \"c:\\Users\\abhishdutta\\Desktop\\PRD Projects\\IBM WatsonX\\Generalized Model Development\\generalizedmodel\\lib\\runpy.py\", line 87, in _run_code\n",
      "    exec(code, run_globals)\n",
      "  File \"c:\\Users\\abhishdutta\\Desktop\\PRD Projects\\IBM WatsonX\\Generalized Model Development\\generalizedmodel\\lib\\site-packages\\ipykernel_launcher.py\", line 18, in <module>\n",
      "    app.launch_new_instance()\n",
      "  File \"c:\\Users\\abhishdutta\\Desktop\\PRD Projects\\IBM WatsonX\\Generalized Model Development\\generalizedmodel\\lib\\site-packages\\traitlets\\config\\application.py\", line 1075, in launch_instance\n",
      "    app.start()\n",
      "  File \"c:\\Users\\abhishdutta\\Desktop\\PRD Projects\\IBM WatsonX\\Generalized Model Development\\generalizedmodel\\lib\\site-packages\\ipykernel\\kernelapp.py\", line 739, in start\n",
      "    self.io_loop.start()\n",
      "  File \"c:\\Users\\abhishdutta\\Desktop\\PRD Projects\\IBM WatsonX\\Generalized Model Development\\generalizedmodel\\lib\\site-packages\\tornado\\platform\\asyncio.py\", line 205, in start\n",
      "    self.asyncio_loop.run_forever()\n",
      "  File \"c:\\Users\\abhishdutta\\Desktop\\PRD Projects\\IBM WatsonX\\Generalized Model Development\\generalizedmodel\\lib\\asyncio\\base_events.py\", line 596, in run_forever\n",
      "    self._run_once()\n",
      "  File \"c:\\Users\\abhishdutta\\Desktop\\PRD Projects\\IBM WatsonX\\Generalized Model Development\\generalizedmodel\\lib\\asyncio\\base_events.py\", line 1890, in _run_once\n",
      "    handle._run()\n",
      "  File \"c:\\Users\\abhishdutta\\Desktop\\PRD Projects\\IBM WatsonX\\Generalized Model Development\\generalizedmodel\\lib\\asyncio\\events.py\", line 80, in _run\n",
      "    self._context.run(self._callback, *self._args)\n",
      "  File \"c:\\Users\\abhishdutta\\Desktop\\PRD Projects\\IBM WatsonX\\Generalized Model Development\\generalizedmodel\\lib\\site-packages\\ipykernel\\kernelbase.py\", line 545, in dispatch_queue\n",
      "    await self.process_one()\n",
      "  File \"c:\\Users\\abhishdutta\\Desktop\\PRD Projects\\IBM WatsonX\\Generalized Model Development\\generalizedmodel\\lib\\site-packages\\ipykernel\\kernelbase.py\", line 534, in process_one\n",
      "    await dispatch(*args)\n",
      "  File \"c:\\Users\\abhishdutta\\Desktop\\PRD Projects\\IBM WatsonX\\Generalized Model Development\\generalizedmodel\\lib\\site-packages\\ipykernel\\kernelbase.py\", line 437, in dispatch_shell\n",
      "    await result\n",
      "  File \"c:\\Users\\abhishdutta\\Desktop\\PRD Projects\\IBM WatsonX\\Generalized Model Development\\generalizedmodel\\lib\\site-packages\\ipykernel\\ipkernel.py\", line 362, in execute_request\n",
      "    await super().execute_request(stream, ident, parent)\n",
      "  File \"c:\\Users\\abhishdutta\\Desktop\\PRD Projects\\IBM WatsonX\\Generalized Model Development\\generalizedmodel\\lib\\site-packages\\ipykernel\\kernelbase.py\", line 778, in execute_request\n",
      "    reply_content = await reply_content\n",
      "  File \"c:\\Users\\abhishdutta\\Desktop\\PRD Projects\\IBM WatsonX\\Generalized Model Development\\generalizedmodel\\lib\\site-packages\\ipykernel\\ipkernel.py\", line 449, in do_execute\n",
      "    res = shell.run_cell(\n",
      "  File \"c:\\Users\\abhishdutta\\Desktop\\PRD Projects\\IBM WatsonX\\Generalized Model Development\\generalizedmodel\\lib\\site-packages\\ipykernel\\zmqshell.py\", line 549, in run_cell\n",
      "    return super().run_cell(*args, **kwargs)\n",
      "  File \"c:\\Users\\abhishdutta\\Desktop\\PRD Projects\\IBM WatsonX\\Generalized Model Development\\generalizedmodel\\lib\\site-packages\\IPython\\core\\interactiveshell.py\", line 3048, in run_cell\n",
      "    result = self._run_cell(\n",
      "  File \"c:\\Users\\abhishdutta\\Desktop\\PRD Projects\\IBM WatsonX\\Generalized Model Development\\generalizedmodel\\lib\\site-packages\\IPython\\core\\interactiveshell.py\", line 3103, in _run_cell\n",
      "    result = runner(coro)\n",
      "  File \"c:\\Users\\abhishdutta\\Desktop\\PRD Projects\\IBM WatsonX\\Generalized Model Development\\generalizedmodel\\lib\\site-packages\\IPython\\core\\async_helpers.py\", line 129, in _pseudo_sync_runner\n",
      "    coro.send(None)\n",
      "  File \"c:\\Users\\abhishdutta\\Desktop\\PRD Projects\\IBM WatsonX\\Generalized Model Development\\generalizedmodel\\lib\\site-packages\\IPython\\core\\interactiveshell.py\", line 3308, in run_cell_async\n",
      "    has_raised = await self.run_ast_nodes(code_ast.body, cell_name,\n",
      "  File \"c:\\Users\\abhishdutta\\Desktop\\PRD Projects\\IBM WatsonX\\Generalized Model Development\\generalizedmodel\\lib\\site-packages\\IPython\\core\\interactiveshell.py\", line 3490, in run_ast_nodes\n",
      "    if await self.run_code(code, result, async_=asy):\n",
      "  File \"c:\\Users\\abhishdutta\\Desktop\\PRD Projects\\IBM WatsonX\\Generalized Model Development\\generalizedmodel\\lib\\site-packages\\IPython\\core\\interactiveshell.py\", line 3550, in run_code\n",
      "    exec(code_obj, self.user_global_ns, self.user_ns)\n",
      "  File \"C:\\Users\\abhishdutta\\AppData\\Local\\Temp\\ipykernel_19612\\3343452939.py\", line 4, in <module>\n",
      "    train_arr, test_arr, preprocessor_path = data_transformation_obj.inititate_data_transformation(train_data_path, test_data_path, target, features_to_exclude, user_transformation_name=\"zomato\")\n",
      "  File \"c:\\users\\abhishdutta\\desktop\\prd projects\\ibm watsonx\\generalized model development\\src\\components\\data_transformation.py\", line 129, in inititate_data_transformation\n",
      "    logger.info(one_hot_cols, ordinal_cols, num_cols, ordinal_columns_mapping, one_hot_column_mapping)\n",
      "Message: ['Type_of_order', 'Type_of_vehicle']\n",
      "Arguments: (['Weather_conditions', 'Road_traffic_density', 'Festival', 'City'], ['Delivery_person_Age', 'Delivery_person_Ratings', 'Restaurant_latitude', 'Restaurant_longitude', 'Delivery_location_latitude', 'Delivery_location_longitude', 'Vehicle_condition', 'multiple_deliveries', 'Time_taken (min)'], {'Weather_conditions': ['Sunny', 'Stormy', 'Sandstorms', 'Windy', 'Cloudy', 'Fog'], 'Road_traffic_density': ['Low', 'Medium', 'High', 'Jam'], 'Festival': ['No', 'Yes'], 'City': ['Urban', 'Metropolitian', 'Semi-Urban']}, {'Type_of_order': ['Drinks', 'Snack', 'Buffet', 'Meal'], 'Type_of_vehicle': ['scooter', 'electric_scooter', 'motorcycle']})\n",
      "2024-05-08 18:47:02 - LOG - data_transformation - INFO : Categories created successfully!!!\n",
      "2024-05-08 18:47:02 - LOG - data_transformation - INFO : Pipeline methods creation ends!!!\n",
      "2024-05-08 18:47:02 - LOG - data_transformation - INFO : Input and target feature segregated successfully!!!\n",
      "2024-05-08 18:47:02 - LOG - data_transformation - INFO : [[-0.57666859 -0.57474749 -0.57518129 ...  1.7729969  -0.01678305\n",
      "   0.71748567]\n",
      " [-0.57666859 -0.57474749  1.73858229 ...  0.41125197 -1.24674815\n",
      "   0.71748567]\n",
      " [ 1.73409826 -0.57474749 -0.57518129 ... -1.39883705 -1.24674815\n",
      "  -1.39375606]\n",
      " ...\n",
      " [-0.57666859  1.73989452 -0.57518129 ... -1.41072414  1.21318204\n",
      "   0.71748567]\n",
      " [-0.57666859 -0.57474749  1.73858229 ... -0.96761346 -1.24674815\n",
      "  -1.39375606]\n",
      " [ 1.73409826 -0.57474749 -0.57518129 ... -1.36922066 -1.24674815\n",
      "   0.71748567]]\n",
      "2024-05-08 18:47:02 - LOG - data_transformation - INFO : Preprocessing done successfully!!!\n",
      "2024-05-08 18:47:02 - LOG - data_transformation - INFO : Data transformation done successfully!!!\n",
      "2024-05-08 18:47:02 - LOG - data_transformation - INFO : ordinal_columns_mapping.json created successfully!!!\n",
      "2024-05-08 18:47:02 - LOG - data_transformation - INFO : The file is saved to: C:\\Users\\abhishdutta\\Desktop\\PRD Projects\\IBM WatsonX\\Generalized Model Development\\artifacts\\zomato_preprocessor_obj.pkl\n",
      "2024-05-08 18:47:02 - LOG - utils - INFO : Object saved successfully\n",
      "2024-05-08 18:47:02 - LOG - data_transformation - INFO : Saved the Pickle file preprocessing object\n"
     ]
    }
   ],
   "source": [
    "from src.components.data_transformation import *\n",
    "\n",
    "data_transformation_obj = DataTransformation()\n",
    "train_arr, test_arr, preprocessor_path = data_transformation_obj.inititate_data_transformation(train_data_path, test_data_path, target, features_to_exclude, user_transformation_name=\"zomato\")\n"
   ]
  },
  {
   "cell_type": "code",
   "execution_count": 6,
   "metadata": {},
   "outputs": [
    {
     "name": "stderr",
     "output_type": "stream",
     "text": [
      "2024-05-08 18:47:02 - LOG - model_trainer_regression - INFO : Initiating model training process...\n",
      "2024-05-08 18:47:02 - LOG - model_trainer_regression - INFO : ######### C:\\Users\\abhishdutta\\Desktop\\PRD Projects\\IBM WatsonX\\Generalized Model Development\\models_regression.json\n",
      "2024-05-08 18:47:02 - LOG - model_trainer_regression - INFO : The models are:\n",
      "c:\\Users\\abhishdutta\\Desktop\\PRD Projects\\IBM WatsonX\\Generalized Model Development\\generalizedmodel\\lib\\site-packages\\sklearn\\model_selection\\_search.py:318: UserWarning: The total space of parameters 9 is smaller than n_iter=10. Running 9 iterations. For exhaustive searches, use GridSearchCV.\n",
      "  warnings.warn(\n",
      "2024-05-08 18:47:14 - LOG - utils - INFO : \n",
      "====================================================================================\n",
      "\n",
      "2024-05-08 18:47:14 - LOG - utils - INFO : The R-squared and RMSE for the model: Lasso are:\n",
      "2024-05-08 18:47:14 - LOG - utils - INFO : R-squared: 0.45618865899265026\n",
      "2024-05-08 18:47:14 - LOG - utils - INFO : \n",
      "====================================================================================\n",
      "\n",
      "2024-05-08 18:47:14 - LOG - utils - INFO : \n",
      "====================================================================================\n",
      "\n",
      "2024-05-08 18:47:14 - LOG - utils - INFO : The best parameters for the model Lasso are {'alpha': 0.2}\n",
      "2024-05-08 18:47:14 - LOG - utils - INFO : \n",
      "====================================================================================\n",
      "\n",
      "2024-05-08 18:47:14 - LOG - utils - INFO : Model: Lasso, R-squared: 0.45618865899265026\n",
      "c:\\Users\\abhishdutta\\Desktop\\PRD Projects\\IBM WatsonX\\Generalized Model Development\\generalizedmodel\\lib\\site-packages\\sklearn\\model_selection\\_search.py:318: UserWarning: The total space of parameters 9 is smaller than n_iter=10. Running 9 iterations. For exhaustive searches, use GridSearchCV.\n",
      "  warnings.warn(\n",
      "2024-05-08 18:47:15 - LOG - utils - INFO : \n",
      "====================================================================================\n",
      "\n",
      "2024-05-08 18:47:15 - LOG - utils - INFO : The R-squared and RMSE for the model: Ridge are:\n",
      "2024-05-08 18:47:15 - LOG - utils - INFO : R-squared: 0.4998421188704605\n",
      "2024-05-08 18:47:15 - LOG - utils - INFO : \n",
      "====================================================================================\n",
      "\n",
      "2024-05-08 18:47:15 - LOG - utils - INFO : \n",
      "====================================================================================\n",
      "\n",
      "2024-05-08 18:47:15 - LOG - utils - INFO : The best parameters for the model Ridge are {'alpha': 0.2}\n",
      "2024-05-08 18:47:15 - LOG - utils - INFO : \n",
      "====================================================================================\n",
      "\n",
      "2024-05-08 18:47:15 - LOG - utils - INFO : Model: Ridge, R-squared: 0.4998421188704605\n",
      "2024-05-08 18:47:32 - LOG - utils - INFO : \n",
      "====================================================================================\n",
      "\n",
      "2024-05-08 18:47:32 - LOG - utils - INFO : The R-squared and RMSE for the model: Elasticnet are:\n",
      "2024-05-08 18:47:32 - LOG - utils - INFO : R-squared: 0.4232169535164966\n",
      "2024-05-08 18:47:32 - LOG - utils - INFO : \n",
      "====================================================================================\n",
      "\n",
      "2024-05-08 18:47:32 - LOG - utils - INFO : \n",
      "====================================================================================\n",
      "\n",
      "2024-05-08 18:47:32 - LOG - utils - INFO : The best parameters for the model Elasticnet are {'l1_ratio': 0.6, 'alpha': 0.6}\n",
      "2024-05-08 18:47:32 - LOG - utils - INFO : \n",
      "====================================================================================\n",
      "\n",
      "2024-05-08 18:47:32 - LOG - utils - INFO : Model: Elasticnet, R-squared: 0.4232169535164966\n",
      "c:\\Users\\abhishdutta\\Desktop\\PRD Projects\\IBM WatsonX\\Generalized Model Development\\generalizedmodel\\lib\\site-packages\\sklearn\\model_selection\\_search.py:318: UserWarning: The total space of parameters 4 is smaller than n_iter=10. Running 4 iterations. For exhaustive searches, use GridSearchCV.\n",
      "  warnings.warn(\n",
      "2024-05-08 18:59:37 - LOG - utils - INFO : \n",
      "====================================================================================\n",
      "\n",
      "2024-05-08 18:59:37 - LOG - utils - INFO : The R-squared and RMSE for the model: SVR are:\n",
      "2024-05-08 18:59:37 - LOG - utils - INFO : R-squared: 0.5341907136351611\n",
      "2024-05-08 18:59:37 - LOG - utils - INFO : \n",
      "====================================================================================\n",
      "\n",
      "2024-05-08 18:59:37 - LOG - utils - INFO : \n",
      "====================================================================================\n",
      "\n",
      "2024-05-08 18:59:37 - LOG - utils - INFO : The best parameters for the model SVR are {'kernel': 'rbf'}\n",
      "2024-05-08 18:59:37 - LOG - utils - INFO : \n",
      "====================================================================================\n",
      "\n",
      "2024-05-08 18:59:37 - LOG - utils - INFO : Model: SVR, R-squared: 0.5341907136351611\n",
      "2024-05-08 18:59:42 - LOG - utils - INFO : \n",
      "====================================================================================\n",
      "\n",
      "2024-05-08 18:59:42 - LOG - utils - INFO : The R-squared and RMSE for the model: DecisionTree are:\n",
      "2024-05-08 18:59:42 - LOG - utils - INFO : R-squared: 0.6383346809255036\n",
      "2024-05-08 18:59:42 - LOG - utils - INFO : \n",
      "====================================================================================\n",
      "\n",
      "2024-05-08 18:59:42 - LOG - utils - INFO : \n",
      "====================================================================================\n",
      "\n",
      "2024-05-08 18:59:42 - LOG - utils - INFO : The best parameters for the model DecisionTree are {'min_samples_split': 3, 'min_samples_leaf': 3, 'max_depth': 8}\n",
      "2024-05-08 18:59:42 - LOG - utils - INFO : \n",
      "====================================================================================\n",
      "\n",
      "2024-05-08 18:59:42 - LOG - utils - INFO : Model: DecisionTree, R-squared: 0.6383346809255036\n",
      "2024-05-08 19:09:14 - LOG - utils - INFO : \n",
      "====================================================================================\n",
      "\n",
      "2024-05-08 19:09:14 - LOG - utils - INFO : The R-squared and RMSE for the model: RandomForest are:\n",
      "2024-05-08 19:09:14 - LOG - utils - INFO : R-squared: 0.6907116101492043\n",
      "2024-05-08 19:09:14 - LOG - utils - INFO : \n",
      "====================================================================================\n",
      "\n",
      "2024-05-08 19:09:14 - LOG - utils - INFO : \n",
      "====================================================================================\n",
      "\n",
      "2024-05-08 19:09:14 - LOG - utils - INFO : The best parameters for the model RandomForest are {'n_estimators': 200, 'min_samples_split': 12, 'min_samples_leaf': 3, 'max_depth': 15}\n",
      "2024-05-08 19:09:14 - LOG - utils - INFO : \n",
      "====================================================================================\n",
      "\n",
      "2024-05-08 19:09:14 - LOG - utils - INFO : Model: RandomForest, R-squared: 0.6907116101492043\n",
      "2024-05-08 19:13:30 - LOG - utils - INFO : \n",
      "====================================================================================\n",
      "\n",
      "2024-05-08 19:13:30 - LOG - utils - INFO : The R-squared and RMSE for the model: GradientBoostingRegressor are:\n",
      "2024-05-08 19:13:30 - LOG - utils - INFO : R-squared: 0.7317595717870073\n",
      "2024-05-08 19:13:30 - LOG - utils - INFO : \n",
      "====================================================================================\n",
      "\n",
      "2024-05-08 19:13:30 - LOG - utils - INFO : \n",
      "====================================================================================\n",
      "\n",
      "2024-05-08 19:13:30 - LOG - utils - INFO : The best parameters for the model GradientBoostingRegressor are {'subsample': 0.9, 'n_estimators': 200, 'min_samples_split': 3, 'min_samples_leaf': 2, 'max_features': None, 'max_depth': 5, 'learning_rate': 0.1}\n",
      "2024-05-08 19:13:30 - LOG - utils - INFO : \n",
      "====================================================================================\n",
      "\n",
      "2024-05-08 19:13:30 - LOG - utils - INFO : Model: GradientBoostingRegressor, R-squared: 0.7317595717870073\n",
      "2024-05-08 19:17:38 - LOG - utils - INFO : \n",
      "====================================================================================\n",
      "\n",
      "2024-05-08 19:17:38 - LOG - utils - INFO : The R-squared and RMSE for the model: BaggingRegressor are:\n",
      "2024-05-08 19:17:38 - LOG - utils - INFO : R-squared: 0.6377793233419498\n",
      "2024-05-08 19:17:38 - LOG - utils - INFO : \n",
      "====================================================================================\n",
      "\n",
      "2024-05-08 19:17:38 - LOG - utils - INFO : \n",
      "====================================================================================\n",
      "\n",
      "2024-05-08 19:17:38 - LOG - utils - INFO : The best parameters for the model BaggingRegressor are {'n_estimators': 50, 'max_samples': 1.0, 'max_features': 0.7, 'bootstrap_features': False, 'bootstrap': True}\n",
      "2024-05-08 19:17:38 - LOG - utils - INFO : \n",
      "====================================================================================\n",
      "\n",
      "2024-05-08 19:17:38 - LOG - utils - INFO : Model: BaggingRegressor, R-squared: 0.6377793233419498\n",
      "2024-05-08 19:17:38 - LOG - utils - INFO : Model evaluation complete\n",
      "2024-05-08 19:17:38 - LOG - model_trainer_regression - INFO : \n",
      "====================================================================================\n",
      "\n",
      "2024-05-08 19:17:38 - LOG - model_trainer_regression - INFO : Model Report : {'Lasso': {'score': 0.45618865899265026, 'best_params': {'alpha': 0.2}}, 'Ridge': {'score': 0.4998421188704605, 'best_params': {'alpha': 0.2}}, 'Elasticnet': {'score': 0.4232169535164966, 'best_params': {'l1_ratio': 0.6, 'alpha': 0.6}}, 'SVR': {'score': 0.5341907136351611, 'best_params': {'kernel': 'rbf'}}, 'DecisionTree': {'score': 0.6383346809255036, 'best_params': {'min_samples_split': 3, 'min_samples_leaf': 3, 'max_depth': 8}}, 'RandomForest': {'score': 0.6907116101492043, 'best_params': {'n_estimators': 200, 'min_samples_split': 12, 'min_samples_leaf': 3, 'max_depth': 15}}, 'GradientBoostingRegressor': {'score': 0.7317595717870073, 'best_params': {'subsample': 0.9, 'n_estimators': 200, 'min_samples_split': 3, 'min_samples_leaf': 2, 'max_features': None, 'max_depth': 5, 'learning_rate': 0.1}}, 'BaggingRegressor': {'score': 0.6377793233419498, 'best_params': {'n_estimators': 50, 'max_samples': 1.0, 'max_features': 0.7, 'bootstrap_features': False, 'bootstrap': True}}}\n",
      "2024-05-08 19:17:38 - LOG - model_trainer_regression - INFO : \n",
      "====================================================================================\n",
      "\n",
      "2024-05-08 19:17:57 - LOG - model_trainer_regression - INFO : Model Name is:GradientBoostingRegressor and the best parameters are:{'subsample': 0.9, 'n_estimators': 200, 'min_samples_split': 3, 'min_samples_leaf': 2, 'max_features': None, 'max_depth': 5, 'learning_rate': 0.1}, with score 0.7317595717870073\n",
      "2024-05-08 19:17:57 - LOG - utils - INFO : Object saved successfully\n",
      "--- Logging error ---\n",
      "Traceback (most recent call last):\n",
      "  File \"c:\\users\\abhishdutta\\desktop\\prd projects\\ibm watsonx\\generalized model development\\src\\components\\model_trainer_regression.py\", line 102, in initiate_model_training\n",
      "    logger.info(\"The model is saved successfully to {}\".format(self.model_trainer_config.trained_model_path))\n",
      "AttributeError: 'ModelTrainerConfig' object has no attribute 'trained_model_path'\n",
      "\n",
      "During handling of the above exception, another exception occurred:\n",
      "\n",
      "Traceback (most recent call last):\n",
      "  File \"c:\\Users\\abhishdutta\\Desktop\\PRD Projects\\IBM WatsonX\\Generalized Model Development\\generalizedmodel\\lib\\logging\\__init__.py\", line 1079, in emit\n",
      "    msg = self.format(record)\n",
      "  File \"c:\\Users\\abhishdutta\\Desktop\\PRD Projects\\IBM WatsonX\\Generalized Model Development\\generalizedmodel\\lib\\logging\\__init__.py\", line 923, in format\n",
      "    return fmt.format(record)\n",
      "  File \"c:\\Users\\abhishdutta\\Desktop\\PRD Projects\\IBM WatsonX\\Generalized Model Development\\generalizedmodel\\lib\\logging\\__init__.py\", line 659, in format\n",
      "    record.message = record.getMessage()\n",
      "  File \"c:\\Users\\abhishdutta\\Desktop\\PRD Projects\\IBM WatsonX\\Generalized Model Development\\generalizedmodel\\lib\\logging\\__init__.py\", line 363, in getMessage\n",
      "    msg = msg % self.args\n",
      "TypeError: not all arguments converted during string formatting\n",
      "Call stack:\n",
      "  File \"c:\\Users\\abhishdutta\\Desktop\\PRD Projects\\IBM WatsonX\\Generalized Model Development\\generalizedmodel\\lib\\runpy.py\", line 197, in _run_module_as_main\n",
      "    return _run_code(code, main_globals, None,\n",
      "  File \"c:\\Users\\abhishdutta\\Desktop\\PRD Projects\\IBM WatsonX\\Generalized Model Development\\generalizedmodel\\lib\\runpy.py\", line 87, in _run_code\n",
      "    exec(code, run_globals)\n",
      "  File \"c:\\Users\\abhishdutta\\Desktop\\PRD Projects\\IBM WatsonX\\Generalized Model Development\\generalizedmodel\\lib\\site-packages\\ipykernel_launcher.py\", line 18, in <module>\n",
      "    app.launch_new_instance()\n",
      "  File \"c:\\Users\\abhishdutta\\Desktop\\PRD Projects\\IBM WatsonX\\Generalized Model Development\\generalizedmodel\\lib\\site-packages\\traitlets\\config\\application.py\", line 1075, in launch_instance\n",
      "    app.start()\n",
      "  File \"c:\\Users\\abhishdutta\\Desktop\\PRD Projects\\IBM WatsonX\\Generalized Model Development\\generalizedmodel\\lib\\site-packages\\ipykernel\\kernelapp.py\", line 739, in start\n",
      "    self.io_loop.start()\n",
      "  File \"c:\\Users\\abhishdutta\\Desktop\\PRD Projects\\IBM WatsonX\\Generalized Model Development\\generalizedmodel\\lib\\site-packages\\tornado\\platform\\asyncio.py\", line 205, in start\n",
      "    self.asyncio_loop.run_forever()\n",
      "  File \"c:\\Users\\abhishdutta\\Desktop\\PRD Projects\\IBM WatsonX\\Generalized Model Development\\generalizedmodel\\lib\\asyncio\\base_events.py\", line 596, in run_forever\n",
      "    self._run_once()\n",
      "  File \"c:\\Users\\abhishdutta\\Desktop\\PRD Projects\\IBM WatsonX\\Generalized Model Development\\generalizedmodel\\lib\\asyncio\\base_events.py\", line 1890, in _run_once\n",
      "    handle._run()\n",
      "  File \"c:\\Users\\abhishdutta\\Desktop\\PRD Projects\\IBM WatsonX\\Generalized Model Development\\generalizedmodel\\lib\\asyncio\\events.py\", line 80, in _run\n",
      "    self._context.run(self._callback, *self._args)\n",
      "  File \"c:\\Users\\abhishdutta\\Desktop\\PRD Projects\\IBM WatsonX\\Generalized Model Development\\generalizedmodel\\lib\\site-packages\\ipykernel\\kernelbase.py\", line 545, in dispatch_queue\n",
      "    await self.process_one()\n",
      "  File \"c:\\Users\\abhishdutta\\Desktop\\PRD Projects\\IBM WatsonX\\Generalized Model Development\\generalizedmodel\\lib\\site-packages\\ipykernel\\kernelbase.py\", line 534, in process_one\n",
      "    await dispatch(*args)\n",
      "  File \"c:\\Users\\abhishdutta\\Desktop\\PRD Projects\\IBM WatsonX\\Generalized Model Development\\generalizedmodel\\lib\\site-packages\\ipykernel\\kernelbase.py\", line 437, in dispatch_shell\n",
      "    await result\n",
      "  File \"c:\\Users\\abhishdutta\\Desktop\\PRD Projects\\IBM WatsonX\\Generalized Model Development\\generalizedmodel\\lib\\site-packages\\ipykernel\\ipkernel.py\", line 362, in execute_request\n",
      "    await super().execute_request(stream, ident, parent)\n",
      "  File \"c:\\Users\\abhishdutta\\Desktop\\PRD Projects\\IBM WatsonX\\Generalized Model Development\\generalizedmodel\\lib\\site-packages\\ipykernel\\kernelbase.py\", line 778, in execute_request\n",
      "    reply_content = await reply_content\n",
      "  File \"c:\\Users\\abhishdutta\\Desktop\\PRD Projects\\IBM WatsonX\\Generalized Model Development\\generalizedmodel\\lib\\site-packages\\ipykernel\\ipkernel.py\", line 449, in do_execute\n",
      "    res = shell.run_cell(\n",
      "  File \"c:\\Users\\abhishdutta\\Desktop\\PRD Projects\\IBM WatsonX\\Generalized Model Development\\generalizedmodel\\lib\\site-packages\\ipykernel\\zmqshell.py\", line 549, in run_cell\n",
      "    return super().run_cell(*args, **kwargs)\n",
      "  File \"c:\\Users\\abhishdutta\\Desktop\\PRD Projects\\IBM WatsonX\\Generalized Model Development\\generalizedmodel\\lib\\site-packages\\IPython\\core\\interactiveshell.py\", line 3048, in run_cell\n",
      "    result = self._run_cell(\n",
      "  File \"c:\\Users\\abhishdutta\\Desktop\\PRD Projects\\IBM WatsonX\\Generalized Model Development\\generalizedmodel\\lib\\site-packages\\IPython\\core\\interactiveshell.py\", line 3103, in _run_cell\n",
      "    result = runner(coro)\n",
      "  File \"c:\\Users\\abhishdutta\\Desktop\\PRD Projects\\IBM WatsonX\\Generalized Model Development\\generalizedmodel\\lib\\site-packages\\IPython\\core\\async_helpers.py\", line 129, in _pseudo_sync_runner\n",
      "    coro.send(None)\n",
      "  File \"c:\\Users\\abhishdutta\\Desktop\\PRD Projects\\IBM WatsonX\\Generalized Model Development\\generalizedmodel\\lib\\site-packages\\IPython\\core\\interactiveshell.py\", line 3308, in run_cell_async\n",
      "    has_raised = await self.run_ast_nodes(code_ast.body, cell_name,\n",
      "  File \"c:\\Users\\abhishdutta\\Desktop\\PRD Projects\\IBM WatsonX\\Generalized Model Development\\generalizedmodel\\lib\\site-packages\\IPython\\core\\interactiveshell.py\", line 3490, in run_ast_nodes\n",
      "    if await self.run_code(code, result, async_=asy):\n",
      "  File \"c:\\Users\\abhishdutta\\Desktop\\PRD Projects\\IBM WatsonX\\Generalized Model Development\\generalizedmodel\\lib\\site-packages\\IPython\\core\\interactiveshell.py\", line 3550, in run_code\n",
      "    exec(code_obj, self.user_global_ns, self.user_ns)\n",
      "  File \"C:\\Users\\abhishdutta\\AppData\\Local\\Temp\\ipykernel_19612\\4170345248.py\", line 3, in <module>\n",
      "    model_trainer_obj.initiate_model_training(train_arr, test_arr, user_model_name=\"Zomato\")\n",
      "  File \"c:\\users\\abhishdutta\\desktop\\prd projects\\ibm watsonx\\generalized model development\\src\\components\\model_trainer_regression.py\", line 104, in initiate_model_training\n",
      "    logger.error(\"Error initiating model training process\", e)\n",
      "Message: 'Error initiating model training process'\n",
      "Arguments: (AttributeError(\"'ModelTrainerConfig' object has no attribute 'trained_model_path'\"),)\n",
      "--- Logging error ---\n",
      "Traceback (most recent call last):\n",
      "  File \"c:\\users\\abhishdutta\\desktop\\prd projects\\ibm watsonx\\generalized model development\\src\\components\\model_trainer_regression.py\", line 102, in initiate_model_training\n",
      "    logger.info(\"The model is saved successfully to {}\".format(self.model_trainer_config.trained_model_path))\n",
      "AttributeError: 'ModelTrainerConfig' object has no attribute 'trained_model_path'\n",
      "\n",
      "During handling of the above exception, another exception occurred:\n",
      "\n",
      "Traceback (most recent call last):\n",
      "  File \"c:\\Users\\abhishdutta\\Desktop\\PRD Projects\\IBM WatsonX\\Generalized Model Development\\generalizedmodel\\lib\\logging\\__init__.py\", line 1079, in emit\n",
      "    msg = self.format(record)\n",
      "  File \"c:\\Users\\abhishdutta\\Desktop\\PRD Projects\\IBM WatsonX\\Generalized Model Development\\generalizedmodel\\lib\\logging\\__init__.py\", line 923, in format\n",
      "    return fmt.format(record)\n",
      "  File \"c:\\Users\\abhishdutta\\Desktop\\PRD Projects\\IBM WatsonX\\Generalized Model Development\\generalizedmodel\\lib\\logging\\__init__.py\", line 659, in format\n",
      "    record.message = record.getMessage()\n",
      "  File \"c:\\Users\\abhishdutta\\Desktop\\PRD Projects\\IBM WatsonX\\Generalized Model Development\\generalizedmodel\\lib\\logging\\__init__.py\", line 363, in getMessage\n",
      "    msg = msg % self.args\n",
      "TypeError: not all arguments converted during string formatting\n",
      "Call stack:\n",
      "  File \"c:\\Users\\abhishdutta\\Desktop\\PRD Projects\\IBM WatsonX\\Generalized Model Development\\generalizedmodel\\lib\\runpy.py\", line 197, in _run_module_as_main\n",
      "    return _run_code(code, main_globals, None,\n",
      "  File \"c:\\Users\\abhishdutta\\Desktop\\PRD Projects\\IBM WatsonX\\Generalized Model Development\\generalizedmodel\\lib\\runpy.py\", line 87, in _run_code\n",
      "    exec(code, run_globals)\n",
      "  File \"c:\\Users\\abhishdutta\\Desktop\\PRD Projects\\IBM WatsonX\\Generalized Model Development\\generalizedmodel\\lib\\site-packages\\ipykernel_launcher.py\", line 18, in <module>\n",
      "    app.launch_new_instance()\n",
      "  File \"c:\\Users\\abhishdutta\\Desktop\\PRD Projects\\IBM WatsonX\\Generalized Model Development\\generalizedmodel\\lib\\site-packages\\traitlets\\config\\application.py\", line 1075, in launch_instance\n",
      "    app.start()\n",
      "  File \"c:\\Users\\abhishdutta\\Desktop\\PRD Projects\\IBM WatsonX\\Generalized Model Development\\generalizedmodel\\lib\\site-packages\\ipykernel\\kernelapp.py\", line 739, in start\n",
      "    self.io_loop.start()\n",
      "  File \"c:\\Users\\abhishdutta\\Desktop\\PRD Projects\\IBM WatsonX\\Generalized Model Development\\generalizedmodel\\lib\\site-packages\\tornado\\platform\\asyncio.py\", line 205, in start\n",
      "    self.asyncio_loop.run_forever()\n",
      "  File \"c:\\Users\\abhishdutta\\Desktop\\PRD Projects\\IBM WatsonX\\Generalized Model Development\\generalizedmodel\\lib\\asyncio\\base_events.py\", line 596, in run_forever\n",
      "    self._run_once()\n",
      "  File \"c:\\Users\\abhishdutta\\Desktop\\PRD Projects\\IBM WatsonX\\Generalized Model Development\\generalizedmodel\\lib\\asyncio\\base_events.py\", line 1890, in _run_once\n",
      "    handle._run()\n",
      "  File \"c:\\Users\\abhishdutta\\Desktop\\PRD Projects\\IBM WatsonX\\Generalized Model Development\\generalizedmodel\\lib\\asyncio\\events.py\", line 80, in _run\n",
      "    self._context.run(self._callback, *self._args)\n",
      "  File \"c:\\Users\\abhishdutta\\Desktop\\PRD Projects\\IBM WatsonX\\Generalized Model Development\\generalizedmodel\\lib\\site-packages\\ipykernel\\kernelbase.py\", line 545, in dispatch_queue\n",
      "    await self.process_one()\n",
      "  File \"c:\\Users\\abhishdutta\\Desktop\\PRD Projects\\IBM WatsonX\\Generalized Model Development\\generalizedmodel\\lib\\site-packages\\ipykernel\\kernelbase.py\", line 534, in process_one\n",
      "    await dispatch(*args)\n",
      "  File \"c:\\Users\\abhishdutta\\Desktop\\PRD Projects\\IBM WatsonX\\Generalized Model Development\\generalizedmodel\\lib\\site-packages\\ipykernel\\kernelbase.py\", line 437, in dispatch_shell\n",
      "    await result\n",
      "  File \"c:\\Users\\abhishdutta\\Desktop\\PRD Projects\\IBM WatsonX\\Generalized Model Development\\generalizedmodel\\lib\\site-packages\\ipykernel\\ipkernel.py\", line 362, in execute_request\n",
      "    await super().execute_request(stream, ident, parent)\n",
      "  File \"c:\\Users\\abhishdutta\\Desktop\\PRD Projects\\IBM WatsonX\\Generalized Model Development\\generalizedmodel\\lib\\site-packages\\ipykernel\\kernelbase.py\", line 778, in execute_request\n",
      "    reply_content = await reply_content\n",
      "  File \"c:\\Users\\abhishdutta\\Desktop\\PRD Projects\\IBM WatsonX\\Generalized Model Development\\generalizedmodel\\lib\\site-packages\\ipykernel\\ipkernel.py\", line 449, in do_execute\n",
      "    res = shell.run_cell(\n",
      "  File \"c:\\Users\\abhishdutta\\Desktop\\PRD Projects\\IBM WatsonX\\Generalized Model Development\\generalizedmodel\\lib\\site-packages\\ipykernel\\zmqshell.py\", line 549, in run_cell\n",
      "    return super().run_cell(*args, **kwargs)\n",
      "  File \"c:\\Users\\abhishdutta\\Desktop\\PRD Projects\\IBM WatsonX\\Generalized Model Development\\generalizedmodel\\lib\\site-packages\\IPython\\core\\interactiveshell.py\", line 3048, in run_cell\n",
      "    result = self._run_cell(\n",
      "  File \"c:\\Users\\abhishdutta\\Desktop\\PRD Projects\\IBM WatsonX\\Generalized Model Development\\generalizedmodel\\lib\\site-packages\\IPython\\core\\interactiveshell.py\", line 3103, in _run_cell\n",
      "    result = runner(coro)\n",
      "  File \"c:\\Users\\abhishdutta\\Desktop\\PRD Projects\\IBM WatsonX\\Generalized Model Development\\generalizedmodel\\lib\\site-packages\\IPython\\core\\async_helpers.py\", line 129, in _pseudo_sync_runner\n",
      "    coro.send(None)\n",
      "  File \"c:\\Users\\abhishdutta\\Desktop\\PRD Projects\\IBM WatsonX\\Generalized Model Development\\generalizedmodel\\lib\\site-packages\\IPython\\core\\interactiveshell.py\", line 3308, in run_cell_async\n",
      "    has_raised = await self.run_ast_nodes(code_ast.body, cell_name,\n",
      "  File \"c:\\Users\\abhishdutta\\Desktop\\PRD Projects\\IBM WatsonX\\Generalized Model Development\\generalizedmodel\\lib\\site-packages\\IPython\\core\\interactiveshell.py\", line 3490, in run_ast_nodes\n",
      "    if await self.run_code(code, result, async_=asy):\n",
      "  File \"c:\\Users\\abhishdutta\\Desktop\\PRD Projects\\IBM WatsonX\\Generalized Model Development\\generalizedmodel\\lib\\site-packages\\IPython\\core\\interactiveshell.py\", line 3550, in run_code\n",
      "    exec(code_obj, self.user_global_ns, self.user_ns)\n",
      "  File \"C:\\Users\\abhishdutta\\AppData\\Local\\Temp\\ipykernel_19612\\4170345248.py\", line 3, in <module>\n",
      "    model_trainer_obj.initiate_model_training(train_arr, test_arr, user_model_name=\"Zomato\")\n",
      "  File \"c:\\users\\abhishdutta\\desktop\\prd projects\\ibm watsonx\\generalized model development\\src\\components\\model_trainer_regression.py\", line 104, in initiate_model_training\n",
      "    logger.error(\"Error initiating model training process\", e)\n",
      "Message: 'Error initiating model training process'\n",
      "Arguments: (AttributeError(\"'ModelTrainerConfig' object has no attribute 'trained_model_path'\"),)\n"
     ]
    },
    {
     "ename": "CustomException",
     "evalue": "Error occured in python script name [c:\\users\\abhishdutta\\desktop\\prd projects\\ibm watsonx\\generalized model development\\src\\components\\model_trainer_regression.py] line number [102] error message ['ModelTrainerConfig' object has no attribute 'trained_model_path']",
     "output_type": "error",
     "traceback": [
      "\u001b[1;31m---------------------------------------------------------------------------\u001b[0m",
      "\u001b[1;31mAttributeError\u001b[0m                            Traceback (most recent call last)",
      "File \u001b[1;32mc:\\users\\abhishdutta\\desktop\\prd projects\\ibm watsonx\\generalized model development\\src\\components\\model_trainer_regression.py:102\u001b[0m, in \u001b[0;36mInitiateModelTraining.initiate_model_training\u001b[1;34m(self, train_array, test_array, user_model_name)\u001b[0m\n\u001b[0;32m    101\u001b[0m     save_objects(trained_model_path, best_model)\n\u001b[1;32m--> 102\u001b[0m     logger\u001b[38;5;241m.\u001b[39minfo(\u001b[38;5;124m\"\u001b[39m\u001b[38;5;124mThe model is saved successfully to \u001b[39m\u001b[38;5;132;01m{}\u001b[39;00m\u001b[38;5;124m\"\u001b[39m\u001b[38;5;241m.\u001b[39mformat(\u001b[38;5;28;43mself\u001b[39;49m\u001b[38;5;241;43m.\u001b[39;49m\u001b[43mmodel_trainer_config\u001b[49m\u001b[38;5;241;43m.\u001b[39;49m\u001b[43mtrained_model_path\u001b[49m))\n\u001b[0;32m    103\u001b[0m \u001b[38;5;28;01mexcept\u001b[39;00m \u001b[38;5;167;01mException\u001b[39;00m \u001b[38;5;28;01mas\u001b[39;00m e:\n",
      "\u001b[1;31mAttributeError\u001b[0m: 'ModelTrainerConfig' object has no attribute 'trained_model_path'",
      "\nDuring handling of the above exception, another exception occurred:\n",
      "\u001b[1;31mCustomException\u001b[0m                           Traceback (most recent call last)",
      "Cell \u001b[1;32mIn[6], line 3\u001b[0m\n\u001b[0;32m      1\u001b[0m \u001b[38;5;28;01mfrom\u001b[39;00m \u001b[38;5;21;01msrc\u001b[39;00m\u001b[38;5;21;01m.\u001b[39;00m\u001b[38;5;21;01mcomponents\u001b[39;00m\u001b[38;5;21;01m.\u001b[39;00m\u001b[38;5;21;01mmodel_trainer_regression\u001b[39;00m \u001b[38;5;28;01mimport\u001b[39;00m \u001b[38;5;241m*\u001b[39m\n\u001b[0;32m      2\u001b[0m model_trainer_obj \u001b[38;5;241m=\u001b[39m InitiateModelTraining()\n\u001b[1;32m----> 3\u001b[0m \u001b[43mmodel_trainer_obj\u001b[49m\u001b[38;5;241;43m.\u001b[39;49m\u001b[43minitiate_model_training\u001b[49m\u001b[43m(\u001b[49m\u001b[43mtrain_arr\u001b[49m\u001b[43m,\u001b[49m\u001b[43m \u001b[49m\u001b[43mtest_arr\u001b[49m\u001b[43m,\u001b[49m\u001b[43m \u001b[49m\u001b[43muser_model_name\u001b[49m\u001b[38;5;241;43m=\u001b[39;49m\u001b[38;5;124;43m\"\u001b[39;49m\u001b[38;5;124;43mZomato\u001b[39;49m\u001b[38;5;124;43m\"\u001b[39;49m\u001b[43m)\u001b[49m\n",
      "File \u001b[1;32mc:\\users\\abhishdutta\\desktop\\prd projects\\ibm watsonx\\generalized model development\\src\\components\\model_trainer_regression.py:105\u001b[0m, in \u001b[0;36mInitiateModelTraining.initiate_model_training\u001b[1;34m(self, train_array, test_array, user_model_name)\u001b[0m\n\u001b[0;32m    103\u001b[0m \u001b[38;5;28;01mexcept\u001b[39;00m \u001b[38;5;167;01mException\u001b[39;00m \u001b[38;5;28;01mas\u001b[39;00m e:\n\u001b[0;32m    104\u001b[0m     logger\u001b[38;5;241m.\u001b[39merror(\u001b[38;5;124m\"\u001b[39m\u001b[38;5;124mError initiating model training process\u001b[39m\u001b[38;5;124m\"\u001b[39m, e)\n\u001b[1;32m--> 105\u001b[0m     \u001b[38;5;28;01mraise\u001b[39;00m CustomException(e)\n",
      "\u001b[1;31mCustomException\u001b[0m: Error occured in python script name [c:\\users\\abhishdutta\\desktop\\prd projects\\ibm watsonx\\generalized model development\\src\\components\\model_trainer_regression.py] line number [102] error message ['ModelTrainerConfig' object has no attribute 'trained_model_path']"
     ]
    }
   ],
   "source": [
    "from src.components.model_trainer_regression import *\n",
    "model_trainer_obj = InitiateModelTraining()\n",
    "model_trainer_obj.initiate_model_training(train_arr, test_arr, user_model_name=\"Zomato\")"
   ]
  },
  {
   "cell_type": "code",
   "execution_count": 7,
   "metadata": {},
   "outputs": [
    {
     "data": {
      "text/plain": [
       "{'LinearRegression': 'LinearRegression()',\n",
       " 'Lasso': 'Lasso()',\n",
       " 'Ridge': 'Ridge()',\n",
       " 'Elasticnet': 'ElasticNet()',\n",
       " 'SVR': 'SVR()',\n",
       " 'DecisionTree': 'DecisionTreeRegressor(random_state=42)',\n",
       " 'RandomForest': 'RandomForestRegressor(random_state=42)',\n",
       " 'GradientBoostingRegressor': 'GradientBoostingRegressor(random_state=42)',\n",
       " 'BaggingRegressor': 'BaggingRegressor(random_state=42)'}"
      ]
     },
     "execution_count": 7,
     "metadata": {},
     "output_type": "execute_result"
    }
   ],
   "source": [
    "config = \"C:/Users/abhishdutta/Desktop/PRD Projects/IBM WatsonX/Generalized Model Development/models_regression.json\"\n",
    "with open(config, 'r') as f:\n",
    "    data_model = json.load(f)\n",
    "data_model"
   ]
  },
  {
   "cell_type": "code",
   "execution_count": 10,
   "metadata": {},
   "outputs": [
    {
     "name": "stdout",
     "output_type": "stream",
     "text": [
      "The models are: {'LinearRegression': LinearRegression(), 'Lasso': Lasso(), 'Ridge': Ridge(), 'Elasticnet': ElasticNet(), 'SVR': SVR(), 'DecisionTree': DecisionTreeRegressor(random_state=42), 'RandomForest': RandomForestRegressor(random_state=42), 'GradientBoostingRegressor': GradientBoostingRegressor(random_state=42), 'BaggingRegressor': BaggingRegressor(random_state=42)}\n"
     ]
    }
   ],
   "source": [
    "# Use eval to convert strings to Python objects\n",
    "models = {key: eval(value) for key, value in data_model.items()}\n",
    "\n",
    "print(\"The models are:\", models)"
   ]
  },
  {
   "cell_type": "code",
   "execution_count": null,
   "metadata": {},
   "outputs": [],
   "source": []
  },
  {
   "cell_type": "markdown",
   "metadata": {},
   "source": [
    "# Fairness Matrix"
   ]
  },
  {
   "cell_type": "code",
   "execution_count": 8,
   "metadata": {},
   "outputs": [],
   "source": [
    "import pandas as pd\n",
    "from sklearn.model_selection import train_test_split\n",
    "from sklearn.linear_model import LogisticRegression\n",
    "from sklearn.metrics import accuracy_score"
   ]
  },
  {
   "cell_type": "code",
   "execution_count": 14,
   "metadata": {},
   "outputs": [
    {
     "data": {
      "text/html": [
       "<div>\n",
       "<style scoped>\n",
       "    .dataframe tbody tr th:only-of-type {\n",
       "        vertical-align: middle;\n",
       "    }\n",
       "\n",
       "    .dataframe tbody tr th {\n",
       "        vertical-align: top;\n",
       "    }\n",
       "\n",
       "    .dataframe thead th {\n",
       "        text-align: right;\n",
       "    }\n",
       "</style>\n",
       "<table border=\"1\" class=\"dataframe\">\n",
       "  <thead>\n",
       "    <tr style=\"text-align: right;\">\n",
       "      <th></th>\n",
       "      <th>feature1</th>\n",
       "      <th>feature2</th>\n",
       "      <th>target</th>\n",
       "      <th>sensitive_feature</th>\n",
       "    </tr>\n",
       "  </thead>\n",
       "  <tbody>\n",
       "    <tr>\n",
       "      <th>0</th>\n",
       "      <td>1</td>\n",
       "      <td>11</td>\n",
       "      <td>1</td>\n",
       "      <td>0</td>\n",
       "    </tr>\n",
       "    <tr>\n",
       "      <th>1</th>\n",
       "      <td>2</td>\n",
       "      <td>22</td>\n",
       "      <td>0</td>\n",
       "      <td>1</td>\n",
       "    </tr>\n",
       "    <tr>\n",
       "      <th>2</th>\n",
       "      <td>3</td>\n",
       "      <td>33</td>\n",
       "      <td>1</td>\n",
       "      <td>2</td>\n",
       "    </tr>\n",
       "    <tr>\n",
       "      <th>3</th>\n",
       "      <td>4</td>\n",
       "      <td>11</td>\n",
       "      <td>0</td>\n",
       "      <td>3</td>\n",
       "    </tr>\n",
       "    <tr>\n",
       "      <th>4</th>\n",
       "      <td>5</td>\n",
       "      <td>33</td>\n",
       "      <td>1</td>\n",
       "      <td>4</td>\n",
       "    </tr>\n",
       "  </tbody>\n",
       "</table>\n",
       "</div>"
      ],
      "text/plain": [
       "   feature1  feature2  target  sensitive_feature\n",
       "0         1        11       1                  0\n",
       "1         2        22       0                  1\n",
       "2         3        33       1                  2\n",
       "3         4        11       0                  3\n",
       "4         5        33       1                  4"
      ]
     },
     "execution_count": 14,
     "metadata": {},
     "output_type": "execute_result"
    }
   ],
   "source": [
    "\n",
    "\n",
    "# Sample data (replace with your data)\n",
    "data = pd.DataFrame({\n",
    "  \"feature1\": [1, 2, 3, 4, 5],\n",
    "  \"feature2\": [11,22,33,11,33],\n",
    "  \"target\": [1, 0, 1, 0, 1],\n",
    "  \"sensitive_feature\": [0,1,2,3,4]\n",
    "})\n",
    "\n",
    "data\n"
   ]
  },
  {
   "cell_type": "code",
   "execution_count": 15,
   "metadata": {},
   "outputs": [],
   "source": [
    "# Separate features (X) and target variable (y)\n",
    "X = data.drop(\"target\", axis=1)\n",
    "y = data[\"target\"]\n",
    "\n",
    "\n",
    "\n"
   ]
  },
  {
   "cell_type": "code",
   "execution_count": 16,
   "metadata": {},
   "outputs": [],
   "source": [
    "# Split data into training and testing sets\n",
    "X_train, X_test, y_train, y_test = train_test_split(X, y, test_size=0.2, random_state=42)\n",
    "\n"
   ]
  },
  {
   "cell_type": "markdown",
   "metadata": {},
   "source": [
    "X_test"
   ]
  },
  {
   "cell_type": "code",
   "execution_count": 29,
   "metadata": {},
   "outputs": [
    {
     "data": {
      "text/html": [
       "<div>\n",
       "<style scoped>\n",
       "    .dataframe tbody tr th:only-of-type {\n",
       "        vertical-align: middle;\n",
       "    }\n",
       "\n",
       "    .dataframe tbody tr th {\n",
       "        vertical-align: top;\n",
       "    }\n",
       "\n",
       "    .dataframe thead th {\n",
       "        text-align: right;\n",
       "    }\n",
       "</style>\n",
       "<table border=\"1\" class=\"dataframe\">\n",
       "  <thead>\n",
       "    <tr style=\"text-align: right;\">\n",
       "      <th></th>\n",
       "      <th>feature1</th>\n",
       "      <th>feature2</th>\n",
       "      <th>sensitive_feature</th>\n",
       "    </tr>\n",
       "  </thead>\n",
       "  <tbody>\n",
       "    <tr>\n",
       "      <th>1</th>\n",
       "      <td>2</td>\n",
       "      <td>22</td>\n",
       "      <td>1</td>\n",
       "    </tr>\n",
       "  </tbody>\n",
       "</table>\n",
       "</div>"
      ],
      "text/plain": [
       "   feature1  feature2  sensitive_feature\n",
       "1         2        22                  1"
      ]
     },
     "execution_count": 29,
     "metadata": {},
     "output_type": "execute_result"
    }
   ],
   "source": [
    "X_test"
   ]
  },
  {
   "cell_type": "code",
   "execution_count": 17,
   "metadata": {},
   "outputs": [],
   "source": [
    "# Train a Logistic Regression model\n",
    "model = LogisticRegression()\n",
    "model.fit(X_train, y_train)\n",
    "\n",
    "# Make predictions on the test set\n",
    "y_pred = model.predict(X_test)"
   ]
  },
  {
   "cell_type": "code",
   "execution_count": 26,
   "metadata": {},
   "outputs": [
    {
     "data": {
      "text/plain": [
       "1    0\n",
       "Name: target, dtype: int64"
      ]
     },
     "execution_count": 26,
     "metadata": {},
     "output_type": "execute_result"
    }
   ],
   "source": [
    "y_test"
   ]
  },
  {
   "cell_type": "code",
   "execution_count": 18,
   "metadata": {},
   "outputs": [
    {
     "data": {
      "text/plain": [
       "array([1], dtype=int64)"
      ]
     },
     "execution_count": 18,
     "metadata": {},
     "output_type": "execute_result"
    }
   ],
   "source": [
    "y_pred"
   ]
  },
  {
   "cell_type": "code",
   "execution_count": 20,
   "metadata": {},
   "outputs": [],
   "source": [
    "import numpy as np\n",
    "def fairness_matrix(true_labels, predicted_labels, sensitive_attribute):\n",
    "   \"\"\"\n",
    "   Generate a fairness matrix.\n",
    "   Parameters:\n",
    "       true_labels (array-like): True labels.\n",
    "       predicted_labels (array-like): Predicted labels.\n",
    "       sensitive_attribute (array-like): Sensitive attribute values.\n",
    "   Returns:\n",
    "       fairness_matrix (2D numpy array): Fairness matrix.\n",
    "   \"\"\"\n",
    "   unique_values = np.unique(sensitive_attribute)\n",
    "   fairness_matrix = np.zeros((len(unique_values), 2, 2))\n",
    "   for i, val in enumerate(unique_values):\n",
    "       idx = sensitive_attribute == val\n",
    "       true_subset = true_labels[idx]\n",
    "       pred_subset = predicted_labels[idx]\n",
    "       TP = np.sum(np.logical_and(pred_subset == 1, true_subset == 1))\n",
    "       FP = np.sum(np.logical_and(pred_subset == 1, true_subset == 0))\n",
    "       TN = np.sum(np.logical_and(pred_subset == 0, true_subset == 0))\n",
    "       FN = np.sum(np.logical_and(pred_subset == 0, true_subset == 1))\n",
    "       fairness_matrix[i] = np.array([[TP, FP], [FN, TN]])\n",
    "   return fairness_matrix\n"
   ]
  },
  {
   "cell_type": "code",
   "execution_count": 30,
   "metadata": {},
   "outputs": [],
   "source": [
    "# Example usage:\n",
    "true_labels = np.array(y_pred)\n",
    "predicted_labels = np.array(y_test)\n",
    "sensitive_attribute = np.array(X_test[\"sensitive_feature\"])\n"
   ]
  },
  {
   "cell_type": "code",
   "execution_count": 25,
   "metadata": {},
   "outputs": [
    {
     "data": {
      "text/plain": [
       "array([0, 1, 2, 3, 4], dtype=int64)"
      ]
     },
     "execution_count": 25,
     "metadata": {},
     "output_type": "execute_result"
    }
   ],
   "source": [
    "sensitive_attribute"
   ]
  },
  {
   "cell_type": "code",
   "execution_count": 31,
   "metadata": {},
   "outputs": [
    {
     "name": "stdout",
     "output_type": "stream",
     "text": [
      "[[[0. 0.]\n",
      "  [1. 0.]]]\n"
     ]
    }
   ],
   "source": [
    "matrix = fairness_matrix(true_labels, predicted_labels, sensitive_attribute)\n",
    "print(matrix)"
   ]
  },
  {
   "cell_type": "code",
   "execution_count": 1,
   "metadata": {},
   "outputs": [
    {
     "name": "stdout",
     "output_type": "stream",
     "text": [
      "   Gender Married Fraud_risk\n",
      "0    Male     Yes       High\n",
      "1  Female      No        Low\n",
      "2  Female     Yes     Medium\n"
     ]
    }
   ],
   "source": [
    "import pandas as pd\n",
    "\n",
    "# Create a dictionary with your data\n",
    "data = {\n",
    "    'Gender': ['Male', 'Female', 'Female'],\n",
    "    'Married': ['Yes', 'No', 'Yes'],\n",
    "    'Fraud_risk': ['High', 'Low', 'Medium']\n",
    "}\n",
    "\n",
    "# Create a DataFrame from the dictionary\n",
    "df = pd.DataFrame(data)\n",
    "\n",
    "# Display the DataFrame\n",
    "print(df)"
   ]
  },
  {
   "cell_type": "code",
   "execution_count": 2,
   "metadata": {},
   "outputs": [
    {
     "name": "stdout",
     "output_type": "stream",
     "text": [
      "Feature Gender\n",
      "mapping {'Female': 0, 'Male': 1}\n",
      "Feature Married\n",
      "mapping {'No': 0, 'Yes': 1}\n",
      "Feature Fraud_risk\n",
      "mapping {'High': 0, 'Low': 1, 'Medium': 2}\n"
     ]
    },
    {
     "data": {
      "text/html": [
       "<div>\n",
       "<style scoped>\n",
       "    .dataframe tbody tr th:only-of-type {\n",
       "        vertical-align: middle;\n",
       "    }\n",
       "\n",
       "    .dataframe tbody tr th {\n",
       "        vertical-align: top;\n",
       "    }\n",
       "\n",
       "    .dataframe thead th {\n",
       "        text-align: right;\n",
       "    }\n",
       "</style>\n",
       "<table border=\"1\" class=\"dataframe\">\n",
       "  <thead>\n",
       "    <tr style=\"text-align: right;\">\n",
       "      <th></th>\n",
       "      <th>Gender</th>\n",
       "      <th>Married</th>\n",
       "      <th>Fraud_risk</th>\n",
       "    </tr>\n",
       "  </thead>\n",
       "  <tbody>\n",
       "    <tr>\n",
       "      <th>0</th>\n",
       "      <td>1</td>\n",
       "      <td>1</td>\n",
       "      <td>0</td>\n",
       "    </tr>\n",
       "    <tr>\n",
       "      <th>1</th>\n",
       "      <td>0</td>\n",
       "      <td>0</td>\n",
       "      <td>1</td>\n",
       "    </tr>\n",
       "    <tr>\n",
       "      <th>2</th>\n",
       "      <td>0</td>\n",
       "      <td>1</td>\n",
       "      <td>2</td>\n",
       "    </tr>\n",
       "  </tbody>\n",
       "</table>\n",
       "</div>"
      ],
      "text/plain": [
       "   Gender  Married  Fraud_risk\n",
       "0       1        1           0\n",
       "1       0        0           1\n",
       "2       0        1           2"
      ]
     },
     "execution_count": 2,
     "metadata": {},
     "output_type": "execute_result"
    }
   ],
   "source": [
    "from sklearn import preprocessing\n",
    "categorical_column = ['Gender', 'Married', 'Fraud_risk']\n",
    "\n",
    "data_encoded = df.copy(deep=True)\n",
    "#Use Scikit-learn label encoding to encode character data\n",
    "lab_enc = preprocessing.LabelEncoder()\n",
    "for col in categorical_column:\n",
    "        data_encoded[col] = lab_enc.fit_transform(df[col])\n",
    "        le_name_mapping = dict(zip(lab_enc.classes_, lab_enc.transform(lab_enc.classes_)))\n",
    "        print('Feature', col)\n",
    "        print('mapping', le_name_mapping)\n",
    "        \n",
    "\n",
    "data_encoded.head()"
   ]
  },
  {
   "cell_type": "markdown",
   "metadata": {},
   "source": [
    "# Fairness Matrix"
   ]
  },
  {
   "cell_type": "code",
   "execution_count": 220,
   "metadata": {},
   "outputs": [],
   "source": [
    "import pandas as pd\n",
    "\n",
    "# Import Data Set:\n",
    "input_data_path: str = \"C:/Users/abhishdutta/Desktop/PRD Projects/IBM WatsonX/Generalized Model Development/data/heart_statlog_cleveland_hungary_final.csv\"\n",
    "df = pd.read_csv(input_data_path)"
   ]
  },
  {
   "cell_type": "code",
   "execution_count": 221,
   "metadata": {},
   "outputs": [
    {
     "name": "stderr",
     "output_type": "stream",
     "text": [
      "2024-05-15 02:39:04 - LOG - data_ingetion - INFO : Initiating data ingetion process...\n",
      "INFO:LOG:Initiating data ingetion process...\n",
      "2024-05-15 02:39:04 - LOG - data_ingetion - INFO : Raw data saved at C:\\Users\\abhishdutta\\Desktop\\PRD Projects\\IBM WatsonX\\Generalized Model Development\\artifacts\\raw.csv\n",
      "INFO:LOG:Raw data saved at C:\\Users\\abhishdutta\\Desktop\\PRD Projects\\IBM WatsonX\\Generalized Model Development\\artifacts\\raw.csv\n",
      "2024-05-15 02:39:04 - LOG - data_ingetion - INFO : Data ingetion process completed...\n",
      "INFO:LOG:Data ingetion process completed...\n",
      "2024-05-15 02:39:04 - LOG - data_ingetion - INFO : Train data shape: (952, 12)\n",
      "INFO:LOG:Train data shape: (952, 12)\n",
      "2024-05-15 02:39:04 - LOG - data_ingetion - INFO : Test data shape: (238, 12)\n",
      "INFO:LOG:Test data shape: (238, 12)\n",
      "2024-05-15 02:39:04 - LOG - data_ingetion - INFO : Train data saved at C:\\Users\\abhishdutta\\Desktop\\PRD Projects\\IBM WatsonX\\Generalized Model Development\\artifacts\\train.csv\n",
      "INFO:LOG:Train data saved at C:\\Users\\abhishdutta\\Desktop\\PRD Projects\\IBM WatsonX\\Generalized Model Development\\artifacts\\train.csv\n",
      "2024-05-15 02:39:04 - LOG - data_ingetion - INFO : Test data saved at C:\\Users\\abhishdutta\\Desktop\\PRD Projects\\IBM WatsonX\\Generalized Model Development\\artifacts\\test.csv\n",
      "INFO:LOG:Test data saved at C:\\Users\\abhishdutta\\Desktop\\PRD Projects\\IBM WatsonX\\Generalized Model Development\\artifacts\\test.csv\n",
      "2024-05-15 02:39:04 - LOG - data_ingetion - INFO : Data Ingetion process completed...\n",
      "INFO:LOG:Data Ingetion process completed...\n"
     ]
    }
   ],
   "source": [
    "from src.components.data_ingetion import *\n",
    "data_ingetion = DataIngetion()\n",
    "train_data_path, test_data_path = data_ingetion.inititate_data_ingetion(df) #Return the path of Train and test Data"
   ]
  },
  {
   "cell_type": "code",
   "execution_count": 222,
   "metadata": {},
   "outputs": [
    {
     "data": {
      "text/html": [
       "<div>\n",
       "<style scoped>\n",
       "    .dataframe tbody tr th:only-of-type {\n",
       "        vertical-align: middle;\n",
       "    }\n",
       "\n",
       "    .dataframe tbody tr th {\n",
       "        vertical-align: top;\n",
       "    }\n",
       "\n",
       "    .dataframe thead th {\n",
       "        text-align: right;\n",
       "    }\n",
       "</style>\n",
       "<table border=\"1\" class=\"dataframe\">\n",
       "  <thead>\n",
       "    <tr style=\"text-align: right;\">\n",
       "      <th></th>\n",
       "      <th>age</th>\n",
       "      <th>sex</th>\n",
       "      <th>chest pain type</th>\n",
       "      <th>resting bp s</th>\n",
       "      <th>cholesterol</th>\n",
       "      <th>fasting blood sugar</th>\n",
       "      <th>resting ecg</th>\n",
       "      <th>max heart rate</th>\n",
       "      <th>exercise angina</th>\n",
       "      <th>oldpeak</th>\n",
       "      <th>ST slope</th>\n",
       "      <th>target</th>\n",
       "    </tr>\n",
       "  </thead>\n",
       "  <tbody>\n",
       "    <tr>\n",
       "      <th>0</th>\n",
       "      <td>63</td>\n",
       "      <td>1</td>\n",
       "      <td>4</td>\n",
       "      <td>130</td>\n",
       "      <td>330</td>\n",
       "      <td>1</td>\n",
       "      <td>2</td>\n",
       "      <td>132</td>\n",
       "      <td>1</td>\n",
       "      <td>1.8</td>\n",
       "      <td>1</td>\n",
       "      <td>1</td>\n",
       "    </tr>\n",
       "    <tr>\n",
       "      <th>1</th>\n",
       "      <td>33</td>\n",
       "      <td>1</td>\n",
       "      <td>3</td>\n",
       "      <td>120</td>\n",
       "      <td>298</td>\n",
       "      <td>0</td>\n",
       "      <td>0</td>\n",
       "      <td>185</td>\n",
       "      <td>0</td>\n",
       "      <td>0.0</td>\n",
       "      <td>1</td>\n",
       "      <td>0</td>\n",
       "    </tr>\n",
       "    <tr>\n",
       "      <th>2</th>\n",
       "      <td>56</td>\n",
       "      <td>0</td>\n",
       "      <td>4</td>\n",
       "      <td>134</td>\n",
       "      <td>409</td>\n",
       "      <td>0</td>\n",
       "      <td>2</td>\n",
       "      <td>150</td>\n",
       "      <td>1</td>\n",
       "      <td>1.9</td>\n",
       "      <td>2</td>\n",
       "      <td>1</td>\n",
       "    </tr>\n",
       "    <tr>\n",
       "      <th>3</th>\n",
       "      <td>77</td>\n",
       "      <td>1</td>\n",
       "      <td>4</td>\n",
       "      <td>125</td>\n",
       "      <td>304</td>\n",
       "      <td>0</td>\n",
       "      <td>2</td>\n",
       "      <td>162</td>\n",
       "      <td>1</td>\n",
       "      <td>0.0</td>\n",
       "      <td>1</td>\n",
       "      <td>1</td>\n",
       "    </tr>\n",
       "    <tr>\n",
       "      <th>4</th>\n",
       "      <td>56</td>\n",
       "      <td>1</td>\n",
       "      <td>2</td>\n",
       "      <td>126</td>\n",
       "      <td>166</td>\n",
       "      <td>0</td>\n",
       "      <td>1</td>\n",
       "      <td>140</td>\n",
       "      <td>0</td>\n",
       "      <td>0.0</td>\n",
       "      <td>1</td>\n",
       "      <td>0</td>\n",
       "    </tr>\n",
       "    <tr>\n",
       "      <th>...</th>\n",
       "      <td>...</td>\n",
       "      <td>...</td>\n",
       "      <td>...</td>\n",
       "      <td>...</td>\n",
       "      <td>...</td>\n",
       "      <td>...</td>\n",
       "      <td>...</td>\n",
       "      <td>...</td>\n",
       "      <td>...</td>\n",
       "      <td>...</td>\n",
       "      <td>...</td>\n",
       "      <td>...</td>\n",
       "    </tr>\n",
       "    <tr>\n",
       "      <th>947</th>\n",
       "      <td>58</td>\n",
       "      <td>1</td>\n",
       "      <td>4</td>\n",
       "      <td>125</td>\n",
       "      <td>300</td>\n",
       "      <td>0</td>\n",
       "      <td>2</td>\n",
       "      <td>171</td>\n",
       "      <td>0</td>\n",
       "      <td>0.0</td>\n",
       "      <td>1</td>\n",
       "      <td>1</td>\n",
       "    </tr>\n",
       "    <tr>\n",
       "      <th>948</th>\n",
       "      <td>55</td>\n",
       "      <td>1</td>\n",
       "      <td>2</td>\n",
       "      <td>130</td>\n",
       "      <td>262</td>\n",
       "      <td>0</td>\n",
       "      <td>0</td>\n",
       "      <td>155</td>\n",
       "      <td>0</td>\n",
       "      <td>0.0</td>\n",
       "      <td>1</td>\n",
       "      <td>0</td>\n",
       "    </tr>\n",
       "    <tr>\n",
       "      <th>949</th>\n",
       "      <td>61</td>\n",
       "      <td>1</td>\n",
       "      <td>1</td>\n",
       "      <td>134</td>\n",
       "      <td>234</td>\n",
       "      <td>0</td>\n",
       "      <td>0</td>\n",
       "      <td>145</td>\n",
       "      <td>0</td>\n",
       "      <td>2.6</td>\n",
       "      <td>2</td>\n",
       "      <td>1</td>\n",
       "    </tr>\n",
       "    <tr>\n",
       "      <th>950</th>\n",
       "      <td>62</td>\n",
       "      <td>0</td>\n",
       "      <td>4</td>\n",
       "      <td>140</td>\n",
       "      <td>268</td>\n",
       "      <td>0</td>\n",
       "      <td>2</td>\n",
       "      <td>160</td>\n",
       "      <td>0</td>\n",
       "      <td>3.6</td>\n",
       "      <td>3</td>\n",
       "      <td>1</td>\n",
       "    </tr>\n",
       "    <tr>\n",
       "      <th>951</th>\n",
       "      <td>42</td>\n",
       "      <td>1</td>\n",
       "      <td>2</td>\n",
       "      <td>120</td>\n",
       "      <td>295</td>\n",
       "      <td>0</td>\n",
       "      <td>0</td>\n",
       "      <td>162</td>\n",
       "      <td>0</td>\n",
       "      <td>0.0</td>\n",
       "      <td>1</td>\n",
       "      <td>0</td>\n",
       "    </tr>\n",
       "  </tbody>\n",
       "</table>\n",
       "<p>952 rows × 12 columns</p>\n",
       "</div>"
      ],
      "text/plain": [
       "     age  sex  chest pain type  resting bp s  cholesterol  \\\n",
       "0     63    1                4           130          330   \n",
       "1     33    1                3           120          298   \n",
       "2     56    0                4           134          409   \n",
       "3     77    1                4           125          304   \n",
       "4     56    1                2           126          166   \n",
       "..   ...  ...              ...           ...          ...   \n",
       "947   58    1                4           125          300   \n",
       "948   55    1                2           130          262   \n",
       "949   61    1                1           134          234   \n",
       "950   62    0                4           140          268   \n",
       "951   42    1                2           120          295   \n",
       "\n",
       "     fasting blood sugar  resting ecg  max heart rate  exercise angina  \\\n",
       "0                      1            2             132                1   \n",
       "1                      0            0             185                0   \n",
       "2                      0            2             150                1   \n",
       "3                      0            2             162                1   \n",
       "4                      0            1             140                0   \n",
       "..                   ...          ...             ...              ...   \n",
       "947                    0            2             171                0   \n",
       "948                    0            0             155                0   \n",
       "949                    0            0             145                0   \n",
       "950                    0            2             160                0   \n",
       "951                    0            0             162                0   \n",
       "\n",
       "     oldpeak  ST slope  target  \n",
       "0        1.8         1       1  \n",
       "1        0.0         1       0  \n",
       "2        1.9         2       1  \n",
       "3        0.0         1       1  \n",
       "4        0.0         1       0  \n",
       "..       ...       ...     ...  \n",
       "947      0.0         1       1  \n",
       "948      0.0         1       0  \n",
       "949      2.6         2       1  \n",
       "950      3.6         3       1  \n",
       "951      0.0         1       0  \n",
       "\n",
       "[952 rows x 12 columns]"
      ]
     },
     "execution_count": 222,
     "metadata": {},
     "output_type": "execute_result"
    }
   ],
   "source": [
    "df_train = pd.read_csv(train_data_path)\n",
    "df_train"
   ]
  },
  {
   "cell_type": "code",
   "execution_count": 223,
   "metadata": {},
   "outputs": [
    {
     "data": {
      "text/plain": [
       "[]"
      ]
     },
     "execution_count": 223,
     "metadata": {},
     "output_type": "execute_result"
    }
   ],
   "source": [
    "#Give the target variable and the input features to be excluded\n",
    "\n",
    "target = \"target\"  #List the target variable\n",
    "# features_to_exclude = [\"Unnamed: 0\",\"ID\", \"Delivery_person_ID\", \"Order_Date\", \"Time_Orderd\", \"Time_Order_picked\" ] #List the input features to exclude\n",
    "\n",
    "# df_train.drop(columns=features_to_exclude, inplace=True)\n",
    "\n",
    "cat_columns = [col for col in df_train.columns if df_train[col].dtype == \"object\"]\n",
    "cat_columns"
   ]
  },
  {
   "cell_type": "code",
   "execution_count": 224,
   "metadata": {},
   "outputs": [
    {
     "data": {
      "text/plain": [
       "Index(['age', 'sex', 'chest pain type', 'resting bp s', 'cholesterol',\n",
       "       'fasting blood sugar', 'resting ecg', 'max heart rate',\n",
       "       'exercise angina', 'oldpeak', 'ST slope', 'target'],\n",
       "      dtype='object')"
      ]
     },
     "execution_count": 224,
     "metadata": {},
     "output_type": "execute_result"
    }
   ],
   "source": [
    "df_train.columns"
   ]
  },
  {
   "cell_type": "code",
   "execution_count": 225,
   "metadata": {},
   "outputs": [],
   "source": [
    "# For numeric columns, fill NA values with the mean of the column\n",
    "for col in df_train.select_dtypes(include=[np.number]).columns:\n",
    "    df_train[col] = df_train[col].fillna(df_train[col].mean())\n",
    "\n",
    "# For non-numeric columns, fill NA values with a specific value\n",
    "for col in df_train.select_dtypes(exclude=[np.number]).columns:\n",
    "    df_train[col] = df_train[col].fillna('')"
   ]
  },
  {
   "cell_type": "code",
   "execution_count": 226,
   "metadata": {},
   "outputs": [
    {
     "data": {
      "text/plain": [
       "age                    0\n",
       "sex                    0\n",
       "chest pain type        0\n",
       "resting bp s           0\n",
       "cholesterol            0\n",
       "fasting blood sugar    0\n",
       "resting ecg            0\n",
       "max heart rate         0\n",
       "exercise angina        0\n",
       "oldpeak                0\n",
       "ST slope               0\n",
       "target                 0\n",
       "dtype: int64"
      ]
     },
     "execution_count": 226,
     "metadata": {},
     "output_type": "execute_result"
    }
   ],
   "source": [
    "df_train.isna().sum()"
   ]
  },
  {
   "cell_type": "code",
   "execution_count": 227,
   "metadata": {},
   "outputs": [],
   "source": [
    "# from sklearn.preprocessing import LabelEncoder\n",
    "\n",
    "# # Initialize a LabelEncoder\n",
    "# le = LabelEncoder()\n",
    "\n",
    "# # Loop through each categorical column\n",
    "# for column in df_train.columns:\n",
    "#     # Convert the categorical column to numerical\n",
    "#     df_train[column] = le.fit_transform(df_train[column])"
   ]
  },
  {
   "cell_type": "code",
   "execution_count": 228,
   "metadata": {},
   "outputs": [],
   "source": [
    "#ordinal Columns:\n",
    "\n",
    "ordinal_cols = [\"chest pain type\", \"resting ecg\", \"ST slope\"]\n",
    "\n",
    "# List of categorical columns\n",
    "categorical_columns = [ \"sex\", \"fasting blood sugar\", \"exercise angina\"]"
   ]
  },
  {
   "cell_type": "code",
   "execution_count": 261,
   "metadata": {},
   "outputs": [
    {
     "data": {
      "text/html": [
       "<div>\n",
       "<style scoped>\n",
       "    .dataframe tbody tr th:only-of-type {\n",
       "        vertical-align: middle;\n",
       "    }\n",
       "\n",
       "    .dataframe tbody tr th {\n",
       "        vertical-align: top;\n",
       "    }\n",
       "\n",
       "    .dataframe thead th {\n",
       "        text-align: right;\n",
       "    }\n",
       "</style>\n",
       "<table border=\"1\" class=\"dataframe\">\n",
       "  <thead>\n",
       "    <tr style=\"text-align: right;\">\n",
       "      <th></th>\n",
       "      <th>Column</th>\n",
       "      <th>Shape of the training dataset</th>\n",
       "      <th>Training data favorable label</th>\n",
       "      <th>Training data unfavorable label</th>\n",
       "      <th>Training data protected attribute</th>\n",
       "      <th>Training data privileged protected attribute</th>\n",
       "      <th>Training data unprivileged protected attribute</th>\n",
       "      <th>Fairness score</th>\n",
       "    </tr>\n",
       "  </thead>\n",
       "  <tbody>\n",
       "  </tbody>\n",
       "</table>\n",
       "</div>"
      ],
      "text/plain": [
       "Empty DataFrame\n",
       "Columns: [Column, Shape of the training dataset, Training data favorable label, Training data unfavorable label, Training data protected attribute, Training data privileged protected attribute, Training data unprivileged protected attribute, Fairness score]\n",
       "Index: []"
      ]
     },
     "execution_count": 261,
     "metadata": {},
     "output_type": "execute_result"
    }
   ],
   "source": [
    "# Define the column names\n",
    "column_names = [\n",
    "    'Column',\n",
    "    'Shape of the training dataset',\n",
    "    'Training data favorable label',\n",
    "    'Training data unfavorable label',\n",
    "    'Training data protected attribute',\n",
    "    'Training data privileged protected attribute',\n",
    "    'Training data unprivileged protected attribute',\n",
    "    'Fairness score'\n",
    "]\n",
    "\n",
    "# Create an empty DataFrame with the column names\n",
    "df_details = pd.DataFrame(columns=column_names)\n",
    "df_details"
   ]
  },
  {
   "cell_type": "code",
   "execution_count": 262,
   "metadata": {},
   "outputs": [],
   "source": [
    "# df_details = df_details.iloc[0:0]\n",
    "# df_details"
   ]
  },
  {
   "cell_type": "code",
   "execution_count": 263,
   "metadata": {},
   "outputs": [
    {
     "name": "stdout",
     "output_type": "stream",
     "text": [
      "Fairness score for sex: -0.34971264367816085\n",
      "Fairness score for fasting blood sugar: -0.25962712639174584\n",
      "Fairness score for exercise angina: -0.4883435813365777\n"
     ]
    },
    {
     "name": "stderr",
     "output_type": "stream",
     "text": [
      "C:\\Users\\abhishdutta\\AppData\\Local\\Temp\\ipykernel_16688\\3849721137.py:41: FutureWarning: The behavior of DataFrame concatenation with empty or all-NA entries is deprecated. In a future version, this will no longer exclude empty or all-NA columns when determining the result dtypes. To retain the old behavior, exclude the relevant entries before the concat operation.\n",
      "  df_details = pd.concat([df_details, pd.DataFrame(details)], ignore_index=True)\n"
     ]
    }
   ],
   "source": [
    "from aif360.datasets import BinaryLabelDataset\n",
    "from aif360.metrics import BinaryLabelDatasetMetric\n",
    "import pandas as pd\n",
    "\n",
    "\n",
    "\n",
    "# Initialize a dictionary to hold fairness scores\n",
    "fairness_scores = {}\n",
    "\n",
    "# Loop through each categorical column\n",
    "for column in categorical_columns:\n",
    "    # Create a BinaryLabelDataset\n",
    "    binary_label_dataset = BinaryLabelDataset(df=df_train, \n",
    "                                              label_names=[\"target\"], \n",
    "                                              protected_attribute_names=[column],\n",
    "                                              favorable_label=1,\n",
    "                                              unfavorable_label=0)\n",
    "    \n",
    "    \"\"\"\n",
    "    favorable_label is the label value which is considered beneficial for the individual. For example, in a loan approval scenario, \n",
    "    a favorable label could be 1, indicating loan approval. unfavorable_label is the label value which is considered detrimental for the individual. \n",
    "    In the same loan approval scenario, an unfavorable label could be 0, indicating loan denial.\n",
    "    \"\"\"\n",
    "    \n",
    "    # Create a fairness metric object\n",
    "    metric = BinaryLabelDatasetMetric(binary_label_dataset, \n",
    "                                      unprivileged_groups=[{column: 0}], \n",
    "                                      privileged_groups=[{column: 1}])\n",
    "    \n",
    "    # Compute the fairness score for the column\n",
    "    fairness_score = metric.mean_difference()\n",
    "    fairness_scores[column] = fairness_score\n",
    "\n",
    "    # Create a dictionary with the details\n",
    "    details = {\n",
    "        'Column' : [column],\n",
    "        'Shape of the training dataset': [binary_label_dataset.features.shape],\n",
    "        'Training data favorable label': [binary_label_dataset.favorable_label],\n",
    "        'Training data unfavorable label': [binary_label_dataset.unfavorable_label],\n",
    "        'Training data protected attribute': [binary_label_dataset.protected_attribute_names],\n",
    "        'Training data privileged protected attribute': [binary_label_dataset.privileged_protected_attributes],\n",
    "        'Training data unprivileged protected attribute': [binary_label_dataset.unprivileged_protected_attributes],\n",
    "        'Fairness score': fairness_score  # Use fairness_score here, not fairness_scores\n",
    "    }\n",
    "    \n",
    "    # Appending to the df_details:\n",
    "    df_details = pd.concat([df_details, pd.DataFrame(details)], ignore_index=True)\n",
    "\n",
    "# Print the fairness scores\n",
    "for column, score in fairness_scores.items():\n",
    "    print(f\"Fairness score for {column}: {score}\")"
   ]
  },
  {
   "cell_type": "code",
   "execution_count": 264,
   "metadata": {},
   "outputs": [
    {
     "data": {
      "text/plain": [
       "               instance weights features                                    \\\n",
       "                                                                             \n",
       "                                     age  sex chest pain type resting bp s   \n",
       "instance names                                                               \n",
       "0                           1.0     63.0  1.0             4.0        130.0   \n",
       "1                           1.0     33.0  1.0             3.0        120.0   \n",
       "2                           1.0     56.0  0.0             4.0        134.0   \n",
       "3                           1.0     77.0  1.0             4.0        125.0   \n",
       "4                           1.0     56.0  1.0             2.0        126.0   \n",
       "...                         ...      ...  ...             ...          ...   \n",
       "947                         1.0     58.0  1.0             4.0        125.0   \n",
       "948                         1.0     55.0  1.0             2.0        130.0   \n",
       "949                         1.0     61.0  1.0             1.0        134.0   \n",
       "950                         1.0     62.0  0.0             4.0        140.0   \n",
       "951                         1.0     42.0  1.0             2.0        120.0   \n",
       "\n",
       "                                                                           \\\n",
       "                                                                            \n",
       "               cholesterol fasting blood sugar resting ecg max heart rate   \n",
       "instance names                                                              \n",
       "0                    330.0                 1.0         2.0          132.0   \n",
       "1                    298.0                 0.0         0.0          185.0   \n",
       "2                    409.0                 0.0         2.0          150.0   \n",
       "3                    304.0                 0.0         2.0          162.0   \n",
       "4                    166.0                 0.0         1.0          140.0   \n",
       "...                    ...                 ...         ...            ...   \n",
       "947                  300.0                 0.0         2.0          171.0   \n",
       "948                  262.0                 0.0         0.0          155.0   \n",
       "949                  234.0                 0.0         0.0          145.0   \n",
       "950                  268.0                 0.0         2.0          160.0   \n",
       "951                  295.0                 0.0         0.0          162.0   \n",
       "\n",
       "                                    ...                                      \\\n",
       "               protected attribute  ...                                       \n",
       "                   exercise angina  ... chest pain type_2 chest pain type_1   \n",
       "instance names                      ...                                       \n",
       "0                              1.0  ...               0.0               0.0   \n",
       "1                              0.0  ...               0.0               0.0   \n",
       "2                              1.0  ...               0.0               0.0   \n",
       "3                              1.0  ...               0.0               0.0   \n",
       "4                              0.0  ...               1.0               0.0   \n",
       "...                            ...  ...               ...               ...   \n",
       "947                            0.0  ...               0.0               0.0   \n",
       "948                            0.0  ...               1.0               0.0   \n",
       "949                            0.0  ...               0.0               1.0   \n",
       "950                            0.0  ...               0.0               0.0   \n",
       "951                            0.0  ...               1.0               0.0   \n",
       "\n",
       "                                                                     \\\n",
       "                                                                      \n",
       "               resting ecg_2 resting ecg_0 resting ecg_1 ST slope_1   \n",
       "instance names                                                        \n",
       "0                        1.0           0.0           0.0        1.0   \n",
       "1                        0.0           1.0           0.0        1.0   \n",
       "2                        1.0           0.0           0.0        0.0   \n",
       "3                        1.0           0.0           0.0        1.0   \n",
       "4                        0.0           0.0           1.0        1.0   \n",
       "...                      ...           ...           ...        ...   \n",
       "947                      1.0           0.0           0.0        1.0   \n",
       "948                      0.0           1.0           0.0        1.0   \n",
       "949                      0.0           1.0           0.0        0.0   \n",
       "950                      1.0           0.0           0.0        0.0   \n",
       "951                      0.0           1.0           0.0        1.0   \n",
       "\n",
       "                                                labels  \n",
       "                                                        \n",
       "               ST slope_2 ST slope_3 ST slope_0         \n",
       "instance names                                          \n",
       "0                     0.0        0.0        0.0    1.0  \n",
       "1                     0.0        0.0        0.0    0.0  \n",
       "2                     1.0        0.0        0.0    1.0  \n",
       "3                     0.0        0.0        0.0    1.0  \n",
       "4                     0.0        0.0        0.0    0.0  \n",
       "...                   ...        ...        ...    ...  \n",
       "947                   0.0        0.0        0.0    1.0  \n",
       "948                   0.0        0.0        0.0    0.0  \n",
       "949                   1.0        0.0        0.0    1.0  \n",
       "950                   0.0        1.0        0.0    1.0  \n",
       "951                   0.0        0.0        0.0    0.0  \n",
       "\n",
       "[952 rows x 24 columns]"
      ]
     },
     "execution_count": 264,
     "metadata": {},
     "output_type": "execute_result"
    }
   ],
   "source": [
    "binary_label_dataset"
   ]
  },
  {
   "cell_type": "markdown",
   "metadata": {},
   "source": [
    "# Else, We can do one hot encoding or pd.dummies for the below:"
   ]
  },
  {
   "cell_type": "code",
   "execution_count": 265,
   "metadata": {},
   "outputs": [
    {
     "data": {
      "text/markdown": [
       "#### Training Data Details for chest pain type_4###"
      ],
      "text/plain": [
       "<IPython.core.display.Markdown object>"
      ]
     },
     "metadata": {},
     "output_type": "display_data"
    },
    {
     "name": "stdout",
     "output_type": "stream",
     "text": [
      "shape of the training dataset (952, 22)\n",
      "Training data favorable label 1.0\n",
      "Training data unfavorable label 0.0\n",
      "Training data protected attribute ['chest pain type_4']\n",
      "Training data privileged protected attribute [array([1.])]\n",
      "Training data unprivileged protected attribute [array([0.])]\n"
     ]
    },
    {
     "data": {
      "text/markdown": [
       "#### Preprocessing Bias Details"
      ],
      "text/plain": [
       "<IPython.core.display.Markdown object>"
      ]
     },
     "metadata": {},
     "output_type": "display_data"
    },
    {
     "name": "stdout",
     "output_type": "stream",
     "text": [
      "Fairness score for chest pain type_4: -0.5116069057104913\n"
     ]
    },
    {
     "data": {
      "text/markdown": [
       "#### Training Data Details for chest pain type_3###"
      ],
      "text/plain": [
       "<IPython.core.display.Markdown object>"
      ]
     },
     "metadata": {},
     "output_type": "display_data"
    },
    {
     "name": "stdout",
     "output_type": "stream",
     "text": [
      "shape of the training dataset (952, 22)\n",
      "Training data favorable label 1.0\n",
      "Training data unfavorable label 0.0\n",
      "Training data protected attribute ['chest pain type_3']\n",
      "Training data privileged protected attribute [array([1.])]\n",
      "Training data unprivileged protected attribute [array([0.])]\n"
     ]
    },
    {
     "data": {
      "text/markdown": [
       "#### Preprocessing Bias Details"
      ],
      "text/plain": [
       "<IPython.core.display.Markdown object>"
      ]
     },
     "metadata": {},
     "output_type": "display_data"
    },
    {
     "name": "stdout",
     "output_type": "stream",
     "text": [
      "Fairness score for chest pain type_3: 0.2614921847607448\n"
     ]
    },
    {
     "data": {
      "text/markdown": [
       "#### Training Data Details for chest pain type_2###"
      ],
      "text/plain": [
       "<IPython.core.display.Markdown object>"
      ]
     },
     "metadata": {},
     "output_type": "display_data"
    },
    {
     "name": "stdout",
     "output_type": "stream",
     "text": [
      "shape of the training dataset (952, 22)\n",
      "Training data favorable label 1.0\n",
      "Training data unfavorable label 0.0\n",
      "Training data protected attribute ['chest pain type_2']\n",
      "Training data privileged protected attribute [array([1.])]\n",
      "Training data unprivileged protected attribute [array([0.])]\n"
     ]
    },
    {
     "data": {
      "text/markdown": [
       "#### Preprocessing Bias Details"
      ],
      "text/plain": [
       "<IPython.core.display.Markdown object>"
      ]
     },
     "metadata": {},
     "output_type": "display_data"
    },
    {
     "name": "stdout",
     "output_type": "stream",
     "text": [
      "Fairness score for chest pain type_2: 0.4838721645506689\n"
     ]
    },
    {
     "data": {
      "text/markdown": [
       "#### Training Data Details for chest pain type_1###"
      ],
      "text/plain": [
       "<IPython.core.display.Markdown object>"
      ]
     },
     "metadata": {},
     "output_type": "display_data"
    },
    {
     "name": "stdout",
     "output_type": "stream",
     "text": [
      "shape of the training dataset (952, 22)\n",
      "Training data favorable label 1.0\n",
      "Training data unfavorable label 0.0\n",
      "Training data protected attribute ['chest pain type_1']\n",
      "Training data privileged protected attribute [array([1.])]\n",
      "Training data unprivileged protected attribute [array([0.])]\n"
     ]
    },
    {
     "data": {
      "text/markdown": [
       "#### Preprocessing Bias Details"
      ],
      "text/plain": [
       "<IPython.core.display.Markdown object>"
      ]
     },
     "metadata": {},
     "output_type": "display_data"
    },
    {
     "name": "stdout",
     "output_type": "stream",
     "text": [
      "Fairness score for chest pain type_1: 0.16192361626660068\n"
     ]
    },
    {
     "data": {
      "text/markdown": [
       "#### Training Data Details for resting ecg_2###"
      ],
      "text/plain": [
       "<IPython.core.display.Markdown object>"
      ]
     },
     "metadata": {},
     "output_type": "display_data"
    },
    {
     "name": "stdout",
     "output_type": "stream",
     "text": [
      "shape of the training dataset (952, 22)\n",
      "Training data favorable label 1.0\n",
      "Training data unfavorable label 0.0\n",
      "Training data protected attribute ['resting ecg_2']\n",
      "Training data privileged protected attribute [array([1.])]\n",
      "Training data unprivileged protected attribute [array([0.])]\n"
     ]
    },
    {
     "data": {
      "text/markdown": [
       "#### Preprocessing Bias Details"
      ],
      "text/plain": [
       "<IPython.core.display.Markdown object>"
      ]
     },
     "metadata": {},
     "output_type": "display_data"
    },
    {
     "name": "stdout",
     "output_type": "stream",
     "text": [
      "Fairness score for resting ecg_2: -0.03699421965317928\n"
     ]
    },
    {
     "data": {
      "text/markdown": [
       "#### Training Data Details for resting ecg_0###"
      ],
      "text/plain": [
       "<IPython.core.display.Markdown object>"
      ]
     },
     "metadata": {},
     "output_type": "display_data"
    },
    {
     "name": "stdout",
     "output_type": "stream",
     "text": [
      "shape of the training dataset (952, 22)\n",
      "Training data favorable label 1.0\n",
      "Training data unfavorable label 0.0\n",
      "Training data protected attribute ['resting ecg_0']\n",
      "Training data privileged protected attribute [array([1.])]\n",
      "Training data unprivileged protected attribute [array([0.])]\n"
     ]
    },
    {
     "data": {
      "text/markdown": [
       "#### Preprocessing Bias Details"
      ],
      "text/plain": [
       "<IPython.core.display.Markdown object>"
      ]
     },
     "metadata": {},
     "output_type": "display_data"
    },
    {
     "name": "stdout",
     "output_type": "stream",
     "text": [
      "Fairness score for resting ecg_0: 0.10175616101756157\n"
     ]
    },
    {
     "data": {
      "text/markdown": [
       "#### Training Data Details for resting ecg_1###"
      ],
      "text/plain": [
       "<IPython.core.display.Markdown object>"
      ]
     },
     "metadata": {},
     "output_type": "display_data"
    },
    {
     "name": "stdout",
     "output_type": "stream",
     "text": [
      "shape of the training dataset (952, 22)\n",
      "Training data favorable label 1.0\n",
      "Training data unfavorable label 0.0\n",
      "Training data protected attribute ['resting ecg_1']\n",
      "Training data privileged protected attribute [array([1.])]\n",
      "Training data unprivileged protected attribute [array([0.])]\n"
     ]
    },
    {
     "data": {
      "text/markdown": [
       "#### Preprocessing Bias Details"
      ],
      "text/plain": [
       "<IPython.core.display.Markdown object>"
      ]
     },
     "metadata": {},
     "output_type": "display_data"
    },
    {
     "name": "stdout",
     "output_type": "stream",
     "text": [
      "Fairness score for resting ecg_1: -0.13641364136413636\n"
     ]
    },
    {
     "data": {
      "text/markdown": [
       "#### Training Data Details for ST slope_1###"
      ],
      "text/plain": [
       "<IPython.core.display.Markdown object>"
      ]
     },
     "metadata": {},
     "output_type": "display_data"
    },
    {
     "name": "stdout",
     "output_type": "stream",
     "text": [
      "shape of the training dataset (952, 22)\n",
      "Training data favorable label 1.0\n",
      "Training data unfavorable label 0.0\n",
      "Training data protected attribute ['ST slope_1']\n",
      "Training data privileged protected attribute [array([1.])]\n",
      "Training data unprivileged protected attribute [array([0.])]\n"
     ]
    },
    {
     "data": {
      "text/markdown": [
       "#### Preprocessing Bias Details"
      ],
      "text/plain": [
       "<IPython.core.display.Markdown object>"
      ]
     },
     "metadata": {},
     "output_type": "display_data"
    },
    {
     "name": "stdout",
     "output_type": "stream",
     "text": [
      "Fairness score for ST slope_1: 0.5748633879781421\n"
     ]
    },
    {
     "data": {
      "text/markdown": [
       "#### Training Data Details for ST slope_2###"
      ],
      "text/plain": [
       "<IPython.core.display.Markdown object>"
      ]
     },
     "metadata": {},
     "output_type": "display_data"
    },
    {
     "name": "stdout",
     "output_type": "stream",
     "text": [
      "shape of the training dataset (952, 22)\n",
      "Training data favorable label 1.0\n",
      "Training data unfavorable label 0.0\n",
      "Training data protected attribute ['ST slope_2']\n",
      "Training data privileged protected attribute [array([1.])]\n",
      "Training data unprivileged protected attribute [array([0.])]\n"
     ]
    },
    {
     "data": {
      "text/markdown": [
       "#### Preprocessing Bias Details"
      ],
      "text/plain": [
       "<IPython.core.display.Markdown object>"
      ]
     },
     "metadata": {},
     "output_type": "display_data"
    },
    {
     "name": "stdout",
     "output_type": "stream",
     "text": [
      "Fairness score for ST slope_2: -0.5047499060628164\n"
     ]
    },
    {
     "data": {
      "text/markdown": [
       "#### Training Data Details for ST slope_3###"
      ],
      "text/plain": [
       "<IPython.core.display.Markdown object>"
      ]
     },
     "metadata": {},
     "output_type": "display_data"
    },
    {
     "name": "stdout",
     "output_type": "stream",
     "text": [
      "shape of the training dataset (952, 22)\n",
      "Training data favorable label 1.0\n",
      "Training data unfavorable label 0.0\n",
      "Training data protected attribute ['ST slope_3']\n",
      "Training data privileged protected attribute [array([1.])]\n",
      "Training data unprivileged protected attribute [array([0.])]\n"
     ]
    },
    {
     "data": {
      "text/markdown": [
       "#### Preprocessing Bias Details"
      ],
      "text/plain": [
       "<IPython.core.display.Markdown object>"
      ]
     },
     "metadata": {},
     "output_type": "display_data"
    },
    {
     "name": "stdout",
     "output_type": "stream",
     "text": [
      "Fairness score for ST slope_3: -0.24005396745088126\n"
     ]
    },
    {
     "data": {
      "text/markdown": [
       "#### Training Data Details for ST slope_0###"
      ],
      "text/plain": [
       "<IPython.core.display.Markdown object>"
      ]
     },
     "metadata": {},
     "output_type": "display_data"
    },
    {
     "name": "stdout",
     "output_type": "stream",
     "text": [
      "shape of the training dataset (952, 22)\n",
      "Training data favorable label 1.0\n",
      "Training data unfavorable label 0.0\n",
      "Training data protected attribute ['ST slope_0']\n",
      "Training data privileged protected attribute [array([1.])]\n",
      "Training data unprivileged protected attribute [array([0.])]\n"
     ]
    },
    {
     "data": {
      "text/markdown": [
       "#### Preprocessing Bias Details"
      ],
      "text/plain": [
       "<IPython.core.display.Markdown object>"
      ]
     },
     "metadata": {},
     "output_type": "display_data"
    },
    {
     "name": "stdout",
     "output_type": "stream",
     "text": [
      "Fairness score for ST slope_0: -0.4773922187171399\n"
     ]
    }
   ],
   "source": [
    "import pandas as pd\n",
    "from aif360.datasets import BinaryLabelDataset\n",
    "from aif360.metrics import BinaryLabelDatasetMetric\n",
    "\n",
    "# Assume df is your DataFrame, and 'outcome' is the column of model predictions\n",
    "for col in ordinal_cols:\n",
    "    for value in df_train[col].unique():\n",
    "        # Create a binary column for the value\n",
    "        df_train[f'{col}_{value}'] = (df_train[col] == value).astype(int)\n",
    "        \n",
    "        # Calculate the fairness metric for the binary column\n",
    "        dataset = BinaryLabelDataset(df=df_train, label_names=['target'], protected_attribute_names=[f'{col}_{value}'])\n",
    "        \n",
    "        display(Markdown(f\"#### Training Data Details for {col}_{value}###\"))\n",
    "        print(\"shape of the training dataset\", dataset.features.shape)\n",
    "        print(\"Training data favorable label\", dataset.favorable_label)\n",
    "        print(\"Training data unfavorable label\", dataset.unfavorable_label)\n",
    "        print(\"Training data protected attribute\", dataset.protected_attribute_names)\n",
    "        print(\"Training data privileged protected attribute\", \n",
    "            dataset.privileged_protected_attributes)\n",
    "        print(\"Training data unprivileged protected attribute\",\n",
    "            dataset.unprivileged_protected_attributes)\n",
    "        \n",
    "        metric = BinaryLabelDatasetMetric(dataset, unprivileged_groups=[{f'{col}_{value}': 0}], privileged_groups=[{f'{col}_{value}': 1}])\n",
    "        fairness_score = metric.mean_difference()\n",
    "        \n",
    "        display(Markdown(\"#### Preprocessing Bias Details\"))\n",
    "        print(f'Fairness score for {col}_{value}: {fairness_score}')\n",
    "        \n",
    "           # Create a dictionary with the details\n",
    "        column = f\"{col}_{value}\"\n",
    "        details = {\n",
    "            'Column' : [column],\n",
    "            'Shape of the training dataset': [dataset.features.shape],\n",
    "            'Training data favorable label': [dataset.favorable_label],\n",
    "            'Training data unfavorable label': [dataset.unfavorable_label],\n",
    "            'Training data protected attribute': [dataset.protected_attribute_names],\n",
    "            'Training data privileged protected attribute': [dataset.privileged_protected_attributes],\n",
    "            'Training data unprivileged protected attribute': [dataset.unprivileged_protected_attributes],\n",
    "            'Fairness score': fairness_score  # Use fairness_score here, not fairness_scores\n",
    "        }\n",
    "        # print(f\"{col}_{value}\")\n",
    "        df_new = pd.DataFrame(details)\n",
    "        #Appending to the df_details:\n",
    "        df_details = pd.concat([df_details, df_new], ignore_index=True)"
   ]
  },
  {
   "cell_type": "code",
   "execution_count": 266,
   "metadata": {},
   "outputs": [
    {
     "data": {
      "text/html": [
       "<div>\n",
       "<style scoped>\n",
       "    .dataframe tbody tr th:only-of-type {\n",
       "        vertical-align: middle;\n",
       "    }\n",
       "\n",
       "    .dataframe tbody tr th {\n",
       "        vertical-align: top;\n",
       "    }\n",
       "\n",
       "    .dataframe thead th {\n",
       "        text-align: right;\n",
       "    }\n",
       "</style>\n",
       "<table border=\"1\" class=\"dataframe\">\n",
       "  <thead>\n",
       "    <tr style=\"text-align: right;\">\n",
       "      <th></th>\n",
       "      <th>Column</th>\n",
       "      <th>Shape of the training dataset</th>\n",
       "      <th>Training data favorable label</th>\n",
       "      <th>Training data unfavorable label</th>\n",
       "      <th>Training data protected attribute</th>\n",
       "      <th>Training data privileged protected attribute</th>\n",
       "      <th>Training data unprivileged protected attribute</th>\n",
       "      <th>Fairness score</th>\n",
       "    </tr>\n",
       "  </thead>\n",
       "  <tbody>\n",
       "    <tr>\n",
       "      <th>0</th>\n",
       "      <td>sex</td>\n",
       "      <td>(952, 22)</td>\n",
       "      <td>1.0</td>\n",
       "      <td>0.0</td>\n",
       "      <td>[sex]</td>\n",
       "      <td>[[1.0]]</td>\n",
       "      <td>[[0.0]]</td>\n",
       "      <td>-0.349713</td>\n",
       "    </tr>\n",
       "    <tr>\n",
       "      <th>1</th>\n",
       "      <td>fasting blood sugar</td>\n",
       "      <td>(952, 22)</td>\n",
       "      <td>1.0</td>\n",
       "      <td>0.0</td>\n",
       "      <td>[fasting blood sugar]</td>\n",
       "      <td>[[1.0]]</td>\n",
       "      <td>[[0.0]]</td>\n",
       "      <td>-0.259627</td>\n",
       "    </tr>\n",
       "    <tr>\n",
       "      <th>2</th>\n",
       "      <td>exercise angina</td>\n",
       "      <td>(952, 22)</td>\n",
       "      <td>1.0</td>\n",
       "      <td>0.0</td>\n",
       "      <td>[exercise angina]</td>\n",
       "      <td>[[1.0]]</td>\n",
       "      <td>[[0.0]]</td>\n",
       "      <td>-0.488344</td>\n",
       "    </tr>\n",
       "    <tr>\n",
       "      <th>3</th>\n",
       "      <td>chest pain type_4</td>\n",
       "      <td>(952, 22)</td>\n",
       "      <td>1.0</td>\n",
       "      <td>0.0</td>\n",
       "      <td>[chest pain type_4]</td>\n",
       "      <td>[[1.0]]</td>\n",
       "      <td>[[0.0]]</td>\n",
       "      <td>-0.511607</td>\n",
       "    </tr>\n",
       "    <tr>\n",
       "      <th>4</th>\n",
       "      <td>chest pain type_3</td>\n",
       "      <td>(952, 22)</td>\n",
       "      <td>1.0</td>\n",
       "      <td>0.0</td>\n",
       "      <td>[chest pain type_3]</td>\n",
       "      <td>[[1.0]]</td>\n",
       "      <td>[[0.0]]</td>\n",
       "      <td>0.261492</td>\n",
       "    </tr>\n",
       "    <tr>\n",
       "      <th>5</th>\n",
       "      <td>chest pain type_2</td>\n",
       "      <td>(952, 22)</td>\n",
       "      <td>1.0</td>\n",
       "      <td>0.0</td>\n",
       "      <td>[chest pain type_2]</td>\n",
       "      <td>[[1.0]]</td>\n",
       "      <td>[[0.0]]</td>\n",
       "      <td>0.483872</td>\n",
       "    </tr>\n",
       "    <tr>\n",
       "      <th>6</th>\n",
       "      <td>chest pain type_1</td>\n",
       "      <td>(952, 22)</td>\n",
       "      <td>1.0</td>\n",
       "      <td>0.0</td>\n",
       "      <td>[chest pain type_1]</td>\n",
       "      <td>[[1.0]]</td>\n",
       "      <td>[[0.0]]</td>\n",
       "      <td>0.161924</td>\n",
       "    </tr>\n",
       "    <tr>\n",
       "      <th>7</th>\n",
       "      <td>resting ecg_2</td>\n",
       "      <td>(952, 22)</td>\n",
       "      <td>1.0</td>\n",
       "      <td>0.0</td>\n",
       "      <td>[resting ecg_2]</td>\n",
       "      <td>[[1.0]]</td>\n",
       "      <td>[[0.0]]</td>\n",
       "      <td>-0.036994</td>\n",
       "    </tr>\n",
       "    <tr>\n",
       "      <th>8</th>\n",
       "      <td>resting ecg_0</td>\n",
       "      <td>(952, 22)</td>\n",
       "      <td>1.0</td>\n",
       "      <td>0.0</td>\n",
       "      <td>[resting ecg_0]</td>\n",
       "      <td>[[1.0]]</td>\n",
       "      <td>[[0.0]]</td>\n",
       "      <td>0.101756</td>\n",
       "    </tr>\n",
       "    <tr>\n",
       "      <th>9</th>\n",
       "      <td>resting ecg_1</td>\n",
       "      <td>(952, 22)</td>\n",
       "      <td>1.0</td>\n",
       "      <td>0.0</td>\n",
       "      <td>[resting ecg_1]</td>\n",
       "      <td>[[1.0]]</td>\n",
       "      <td>[[0.0]]</td>\n",
       "      <td>-0.136414</td>\n",
       "    </tr>\n",
       "    <tr>\n",
       "      <th>10</th>\n",
       "      <td>ST slope_1</td>\n",
       "      <td>(952, 22)</td>\n",
       "      <td>1.0</td>\n",
       "      <td>0.0</td>\n",
       "      <td>[ST slope_1]</td>\n",
       "      <td>[[1.0]]</td>\n",
       "      <td>[[0.0]]</td>\n",
       "      <td>0.574863</td>\n",
       "    </tr>\n",
       "    <tr>\n",
       "      <th>11</th>\n",
       "      <td>ST slope_2</td>\n",
       "      <td>(952, 22)</td>\n",
       "      <td>1.0</td>\n",
       "      <td>0.0</td>\n",
       "      <td>[ST slope_2]</td>\n",
       "      <td>[[1.0]]</td>\n",
       "      <td>[[0.0]]</td>\n",
       "      <td>-0.504750</td>\n",
       "    </tr>\n",
       "    <tr>\n",
       "      <th>12</th>\n",
       "      <td>ST slope_3</td>\n",
       "      <td>(952, 22)</td>\n",
       "      <td>1.0</td>\n",
       "      <td>0.0</td>\n",
       "      <td>[ST slope_3]</td>\n",
       "      <td>[[1.0]]</td>\n",
       "      <td>[[0.0]]</td>\n",
       "      <td>-0.240054</td>\n",
       "    </tr>\n",
       "    <tr>\n",
       "      <th>13</th>\n",
       "      <td>ST slope_0</td>\n",
       "      <td>(952, 22)</td>\n",
       "      <td>1.0</td>\n",
       "      <td>0.0</td>\n",
       "      <td>[ST slope_0]</td>\n",
       "      <td>[[1.0]]</td>\n",
       "      <td>[[0.0]]</td>\n",
       "      <td>-0.477392</td>\n",
       "    </tr>\n",
       "  </tbody>\n",
       "</table>\n",
       "</div>"
      ],
      "text/plain": [
       "                 Column Shape of the training dataset  \\\n",
       "0                   sex                     (952, 22)   \n",
       "1   fasting blood sugar                     (952, 22)   \n",
       "2       exercise angina                     (952, 22)   \n",
       "3     chest pain type_4                     (952, 22)   \n",
       "4     chest pain type_3                     (952, 22)   \n",
       "5     chest pain type_2                     (952, 22)   \n",
       "6     chest pain type_1                     (952, 22)   \n",
       "7         resting ecg_2                     (952, 22)   \n",
       "8         resting ecg_0                     (952, 22)   \n",
       "9         resting ecg_1                     (952, 22)   \n",
       "10           ST slope_1                     (952, 22)   \n",
       "11           ST slope_2                     (952, 22)   \n",
       "12           ST slope_3                     (952, 22)   \n",
       "13           ST slope_0                     (952, 22)   \n",
       "\n",
       "    Training data favorable label  Training data unfavorable label  \\\n",
       "0                             1.0                              0.0   \n",
       "1                             1.0                              0.0   \n",
       "2                             1.0                              0.0   \n",
       "3                             1.0                              0.0   \n",
       "4                             1.0                              0.0   \n",
       "5                             1.0                              0.0   \n",
       "6                             1.0                              0.0   \n",
       "7                             1.0                              0.0   \n",
       "8                             1.0                              0.0   \n",
       "9                             1.0                              0.0   \n",
       "10                            1.0                              0.0   \n",
       "11                            1.0                              0.0   \n",
       "12                            1.0                              0.0   \n",
       "13                            1.0                              0.0   \n",
       "\n",
       "   Training data protected attribute  \\\n",
       "0                              [sex]   \n",
       "1              [fasting blood sugar]   \n",
       "2                  [exercise angina]   \n",
       "3                [chest pain type_4]   \n",
       "4                [chest pain type_3]   \n",
       "5                [chest pain type_2]   \n",
       "6                [chest pain type_1]   \n",
       "7                    [resting ecg_2]   \n",
       "8                    [resting ecg_0]   \n",
       "9                    [resting ecg_1]   \n",
       "10                      [ST slope_1]   \n",
       "11                      [ST slope_2]   \n",
       "12                      [ST slope_3]   \n",
       "13                      [ST slope_0]   \n",
       "\n",
       "   Training data privileged protected attribute  \\\n",
       "0                                       [[1.0]]   \n",
       "1                                       [[1.0]]   \n",
       "2                                       [[1.0]]   \n",
       "3                                       [[1.0]]   \n",
       "4                                       [[1.0]]   \n",
       "5                                       [[1.0]]   \n",
       "6                                       [[1.0]]   \n",
       "7                                       [[1.0]]   \n",
       "8                                       [[1.0]]   \n",
       "9                                       [[1.0]]   \n",
       "10                                      [[1.0]]   \n",
       "11                                      [[1.0]]   \n",
       "12                                      [[1.0]]   \n",
       "13                                      [[1.0]]   \n",
       "\n",
       "   Training data unprivileged protected attribute  Fairness score  \n",
       "0                                         [[0.0]]       -0.349713  \n",
       "1                                         [[0.0]]       -0.259627  \n",
       "2                                         [[0.0]]       -0.488344  \n",
       "3                                         [[0.0]]       -0.511607  \n",
       "4                                         [[0.0]]        0.261492  \n",
       "5                                         [[0.0]]        0.483872  \n",
       "6                                         [[0.0]]        0.161924  \n",
       "7                                         [[0.0]]       -0.036994  \n",
       "8                                         [[0.0]]        0.101756  \n",
       "9                                         [[0.0]]       -0.136414  \n",
       "10                                        [[0.0]]        0.574863  \n",
       "11                                        [[0.0]]       -0.504750  \n",
       "12                                        [[0.0]]       -0.240054  \n",
       "13                                        [[0.0]]       -0.477392  "
      ]
     },
     "execution_count": 266,
     "metadata": {},
     "output_type": "execute_result"
    }
   ],
   "source": [
    "df_details.head(20)"
   ]
  },
  {
   "cell_type": "code",
   "execution_count": 210,
   "metadata": {},
   "outputs": [
    {
     "data": {
      "text/plain": [
       "(23, 8)"
      ]
     },
     "execution_count": 210,
     "metadata": {},
     "output_type": "execute_result"
    }
   ],
   "source": [
    "df_details.shape"
   ]
  },
  {
   "cell_type": "markdown",
   "metadata": {},
   "source": [
    "# Reweight Algorithm:"
   ]
  },
  {
   "cell_type": "code",
   "execution_count": 235,
   "metadata": {},
   "outputs": [
    {
     "data": {
      "text/html": [
       "<div>\n",
       "<style scoped>\n",
       "    .dataframe tbody tr th:only-of-type {\n",
       "        vertical-align: middle;\n",
       "    }\n",
       "\n",
       "    .dataframe tbody tr th {\n",
       "        vertical-align: top;\n",
       "    }\n",
       "\n",
       "    .dataframe thead th {\n",
       "        text-align: right;\n",
       "    }\n",
       "</style>\n",
       "<table border=\"1\" class=\"dataframe\">\n",
       "  <thead>\n",
       "    <tr style=\"text-align: right;\">\n",
       "      <th></th>\n",
       "      <th>age</th>\n",
       "      <th>sex</th>\n",
       "      <th>chest pain type</th>\n",
       "      <th>resting bp s</th>\n",
       "      <th>cholesterol</th>\n",
       "      <th>fasting blood sugar</th>\n",
       "      <th>resting ecg</th>\n",
       "      <th>max heart rate</th>\n",
       "      <th>exercise angina</th>\n",
       "      <th>oldpeak</th>\n",
       "      <th>...</th>\n",
       "      <th>chest pain type_3</th>\n",
       "      <th>chest pain type_2</th>\n",
       "      <th>chest pain type_1</th>\n",
       "      <th>resting ecg_2</th>\n",
       "      <th>resting ecg_0</th>\n",
       "      <th>resting ecg_1</th>\n",
       "      <th>ST slope_1</th>\n",
       "      <th>ST slope_2</th>\n",
       "      <th>ST slope_3</th>\n",
       "      <th>ST slope_0</th>\n",
       "    </tr>\n",
       "  </thead>\n",
       "  <tbody>\n",
       "    <tr>\n",
       "      <th>0</th>\n",
       "      <td>63</td>\n",
       "      <td>1</td>\n",
       "      <td>4</td>\n",
       "      <td>130</td>\n",
       "      <td>330</td>\n",
       "      <td>1</td>\n",
       "      <td>2</td>\n",
       "      <td>132</td>\n",
       "      <td>1</td>\n",
       "      <td>1.8</td>\n",
       "      <td>...</td>\n",
       "      <td>0</td>\n",
       "      <td>0</td>\n",
       "      <td>0</td>\n",
       "      <td>1</td>\n",
       "      <td>0</td>\n",
       "      <td>0</td>\n",
       "      <td>1</td>\n",
       "      <td>0</td>\n",
       "      <td>0</td>\n",
       "      <td>0</td>\n",
       "    </tr>\n",
       "    <tr>\n",
       "      <th>1</th>\n",
       "      <td>33</td>\n",
       "      <td>1</td>\n",
       "      <td>3</td>\n",
       "      <td>120</td>\n",
       "      <td>298</td>\n",
       "      <td>0</td>\n",
       "      <td>0</td>\n",
       "      <td>185</td>\n",
       "      <td>0</td>\n",
       "      <td>0.0</td>\n",
       "      <td>...</td>\n",
       "      <td>1</td>\n",
       "      <td>0</td>\n",
       "      <td>0</td>\n",
       "      <td>0</td>\n",
       "      <td>1</td>\n",
       "      <td>0</td>\n",
       "      <td>1</td>\n",
       "      <td>0</td>\n",
       "      <td>0</td>\n",
       "      <td>0</td>\n",
       "    </tr>\n",
       "    <tr>\n",
       "      <th>2</th>\n",
       "      <td>56</td>\n",
       "      <td>0</td>\n",
       "      <td>4</td>\n",
       "      <td>134</td>\n",
       "      <td>409</td>\n",
       "      <td>0</td>\n",
       "      <td>2</td>\n",
       "      <td>150</td>\n",
       "      <td>1</td>\n",
       "      <td>1.9</td>\n",
       "      <td>...</td>\n",
       "      <td>0</td>\n",
       "      <td>0</td>\n",
       "      <td>0</td>\n",
       "      <td>1</td>\n",
       "      <td>0</td>\n",
       "      <td>0</td>\n",
       "      <td>0</td>\n",
       "      <td>1</td>\n",
       "      <td>0</td>\n",
       "      <td>0</td>\n",
       "    </tr>\n",
       "    <tr>\n",
       "      <th>3</th>\n",
       "      <td>77</td>\n",
       "      <td>1</td>\n",
       "      <td>4</td>\n",
       "      <td>125</td>\n",
       "      <td>304</td>\n",
       "      <td>0</td>\n",
       "      <td>2</td>\n",
       "      <td>162</td>\n",
       "      <td>1</td>\n",
       "      <td>0.0</td>\n",
       "      <td>...</td>\n",
       "      <td>0</td>\n",
       "      <td>0</td>\n",
       "      <td>0</td>\n",
       "      <td>1</td>\n",
       "      <td>0</td>\n",
       "      <td>0</td>\n",
       "      <td>1</td>\n",
       "      <td>0</td>\n",
       "      <td>0</td>\n",
       "      <td>0</td>\n",
       "    </tr>\n",
       "    <tr>\n",
       "      <th>4</th>\n",
       "      <td>56</td>\n",
       "      <td>1</td>\n",
       "      <td>2</td>\n",
       "      <td>126</td>\n",
       "      <td>166</td>\n",
       "      <td>0</td>\n",
       "      <td>1</td>\n",
       "      <td>140</td>\n",
       "      <td>0</td>\n",
       "      <td>0.0</td>\n",
       "      <td>...</td>\n",
       "      <td>0</td>\n",
       "      <td>1</td>\n",
       "      <td>0</td>\n",
       "      <td>0</td>\n",
       "      <td>0</td>\n",
       "      <td>1</td>\n",
       "      <td>1</td>\n",
       "      <td>0</td>\n",
       "      <td>0</td>\n",
       "      <td>0</td>\n",
       "    </tr>\n",
       "    <tr>\n",
       "      <th>...</th>\n",
       "      <td>...</td>\n",
       "      <td>...</td>\n",
       "      <td>...</td>\n",
       "      <td>...</td>\n",
       "      <td>...</td>\n",
       "      <td>...</td>\n",
       "      <td>...</td>\n",
       "      <td>...</td>\n",
       "      <td>...</td>\n",
       "      <td>...</td>\n",
       "      <td>...</td>\n",
       "      <td>...</td>\n",
       "      <td>...</td>\n",
       "      <td>...</td>\n",
       "      <td>...</td>\n",
       "      <td>...</td>\n",
       "      <td>...</td>\n",
       "      <td>...</td>\n",
       "      <td>...</td>\n",
       "      <td>...</td>\n",
       "      <td>...</td>\n",
       "    </tr>\n",
       "    <tr>\n",
       "      <th>947</th>\n",
       "      <td>58</td>\n",
       "      <td>1</td>\n",
       "      <td>4</td>\n",
       "      <td>125</td>\n",
       "      <td>300</td>\n",
       "      <td>0</td>\n",
       "      <td>2</td>\n",
       "      <td>171</td>\n",
       "      <td>0</td>\n",
       "      <td>0.0</td>\n",
       "      <td>...</td>\n",
       "      <td>0</td>\n",
       "      <td>0</td>\n",
       "      <td>0</td>\n",
       "      <td>1</td>\n",
       "      <td>0</td>\n",
       "      <td>0</td>\n",
       "      <td>1</td>\n",
       "      <td>0</td>\n",
       "      <td>0</td>\n",
       "      <td>0</td>\n",
       "    </tr>\n",
       "    <tr>\n",
       "      <th>948</th>\n",
       "      <td>55</td>\n",
       "      <td>1</td>\n",
       "      <td>2</td>\n",
       "      <td>130</td>\n",
       "      <td>262</td>\n",
       "      <td>0</td>\n",
       "      <td>0</td>\n",
       "      <td>155</td>\n",
       "      <td>0</td>\n",
       "      <td>0.0</td>\n",
       "      <td>...</td>\n",
       "      <td>0</td>\n",
       "      <td>1</td>\n",
       "      <td>0</td>\n",
       "      <td>0</td>\n",
       "      <td>1</td>\n",
       "      <td>0</td>\n",
       "      <td>1</td>\n",
       "      <td>0</td>\n",
       "      <td>0</td>\n",
       "      <td>0</td>\n",
       "    </tr>\n",
       "    <tr>\n",
       "      <th>949</th>\n",
       "      <td>61</td>\n",
       "      <td>1</td>\n",
       "      <td>1</td>\n",
       "      <td>134</td>\n",
       "      <td>234</td>\n",
       "      <td>0</td>\n",
       "      <td>0</td>\n",
       "      <td>145</td>\n",
       "      <td>0</td>\n",
       "      <td>2.6</td>\n",
       "      <td>...</td>\n",
       "      <td>0</td>\n",
       "      <td>0</td>\n",
       "      <td>1</td>\n",
       "      <td>0</td>\n",
       "      <td>1</td>\n",
       "      <td>0</td>\n",
       "      <td>0</td>\n",
       "      <td>1</td>\n",
       "      <td>0</td>\n",
       "      <td>0</td>\n",
       "    </tr>\n",
       "    <tr>\n",
       "      <th>950</th>\n",
       "      <td>62</td>\n",
       "      <td>0</td>\n",
       "      <td>4</td>\n",
       "      <td>140</td>\n",
       "      <td>268</td>\n",
       "      <td>0</td>\n",
       "      <td>2</td>\n",
       "      <td>160</td>\n",
       "      <td>0</td>\n",
       "      <td>3.6</td>\n",
       "      <td>...</td>\n",
       "      <td>0</td>\n",
       "      <td>0</td>\n",
       "      <td>0</td>\n",
       "      <td>1</td>\n",
       "      <td>0</td>\n",
       "      <td>0</td>\n",
       "      <td>0</td>\n",
       "      <td>0</td>\n",
       "      <td>1</td>\n",
       "      <td>0</td>\n",
       "    </tr>\n",
       "    <tr>\n",
       "      <th>951</th>\n",
       "      <td>42</td>\n",
       "      <td>1</td>\n",
       "      <td>2</td>\n",
       "      <td>120</td>\n",
       "      <td>295</td>\n",
       "      <td>0</td>\n",
       "      <td>0</td>\n",
       "      <td>162</td>\n",
       "      <td>0</td>\n",
       "      <td>0.0</td>\n",
       "      <td>...</td>\n",
       "      <td>0</td>\n",
       "      <td>1</td>\n",
       "      <td>0</td>\n",
       "      <td>0</td>\n",
       "      <td>1</td>\n",
       "      <td>0</td>\n",
       "      <td>1</td>\n",
       "      <td>0</td>\n",
       "      <td>0</td>\n",
       "      <td>0</td>\n",
       "    </tr>\n",
       "  </tbody>\n",
       "</table>\n",
       "<p>952 rows × 23 columns</p>\n",
       "</div>"
      ],
      "text/plain": [
       "     age  sex  chest pain type  resting bp s  cholesterol  \\\n",
       "0     63    1                4           130          330   \n",
       "1     33    1                3           120          298   \n",
       "2     56    0                4           134          409   \n",
       "3     77    1                4           125          304   \n",
       "4     56    1                2           126          166   \n",
       "..   ...  ...              ...           ...          ...   \n",
       "947   58    1                4           125          300   \n",
       "948   55    1                2           130          262   \n",
       "949   61    1                1           134          234   \n",
       "950   62    0                4           140          268   \n",
       "951   42    1                2           120          295   \n",
       "\n",
       "     fasting blood sugar  resting ecg  max heart rate  exercise angina  \\\n",
       "0                      1            2             132                1   \n",
       "1                      0            0             185                0   \n",
       "2                      0            2             150                1   \n",
       "3                      0            2             162                1   \n",
       "4                      0            1             140                0   \n",
       "..                   ...          ...             ...              ...   \n",
       "947                    0            2             171                0   \n",
       "948                    0            0             155                0   \n",
       "949                    0            0             145                0   \n",
       "950                    0            2             160                0   \n",
       "951                    0            0             162                0   \n",
       "\n",
       "     oldpeak  ...  chest pain type_3  chest pain type_2  chest pain type_1  \\\n",
       "0        1.8  ...                  0                  0                  0   \n",
       "1        0.0  ...                  1                  0                  0   \n",
       "2        1.9  ...                  0                  0                  0   \n",
       "3        0.0  ...                  0                  0                  0   \n",
       "4        0.0  ...                  0                  1                  0   \n",
       "..       ...  ...                ...                ...                ...   \n",
       "947      0.0  ...                  0                  0                  0   \n",
       "948      0.0  ...                  0                  1                  0   \n",
       "949      2.6  ...                  0                  0                  1   \n",
       "950      3.6  ...                  0                  0                  0   \n",
       "951      0.0  ...                  0                  1                  0   \n",
       "\n",
       "     resting ecg_2  resting ecg_0  resting ecg_1  ST slope_1  ST slope_2  \\\n",
       "0                1              0              0           1           0   \n",
       "1                0              1              0           1           0   \n",
       "2                1              0              0           0           1   \n",
       "3                1              0              0           1           0   \n",
       "4                0              0              1           1           0   \n",
       "..             ...            ...            ...         ...         ...   \n",
       "947              1              0              0           1           0   \n",
       "948              0              1              0           1           0   \n",
       "949              0              1              0           0           1   \n",
       "950              1              0              0           0           0   \n",
       "951              0              1              0           1           0   \n",
       "\n",
       "     ST slope_3  ST slope_0  \n",
       "0             0           0  \n",
       "1             0           0  \n",
       "2             0           0  \n",
       "3             0           0  \n",
       "4             0           0  \n",
       "..          ...         ...  \n",
       "947           0           0  \n",
       "948           0           0  \n",
       "949           0           0  \n",
       "950           1           0  \n",
       "951           0           0  \n",
       "\n",
       "[952 rows x 23 columns]"
      ]
     },
     "execution_count": 235,
     "metadata": {},
     "output_type": "execute_result"
    }
   ],
   "source": [
    "df_train_final = df_train.copy()\n",
    "df_train_final"
   ]
  },
  {
   "cell_type": "code",
   "execution_count": 236,
   "metadata": {},
   "outputs": [
    {
     "data": {
      "text/plain": [
       "0                   sex\n",
       "2       exercise angina\n",
       "3     chest pain type_4\n",
       "5     chest pain type_2\n",
       "10           ST slope_1\n",
       "11           ST slope_2\n",
       "13           ST slope_0\n",
       "Name: Column, dtype: object"
      ]
     },
     "execution_count": 236,
     "metadata": {},
     "output_type": "execute_result"
    }
   ],
   "source": [
    "\n",
    "columns = df_details.loc[df_details['Fairness score'].abs() > 0.3, 'Column']\n",
    "columns"
   ]
  },
  {
   "cell_type": "code",
   "execution_count": 239,
   "metadata": {},
   "outputs": [
    {
     "data": {
      "text/plain": [
       "Index(['age', 'sex', 'chest pain type', 'resting bp s', 'cholesterol',\n",
       "       'fasting blood sugar', 'resting ecg', 'max heart rate',\n",
       "       'exercise angina', 'oldpeak', 'ST slope', 'target', 'chest pain type_4',\n",
       "       'chest pain type_3', 'chest pain type_2', 'chest pain type_1',\n",
       "       'resting ecg_2', 'resting ecg_0', 'resting ecg_1', 'ST slope_1',\n",
       "       'ST slope_2', 'ST slope_3', 'ST slope_0'],\n",
       "      dtype='object')"
      ]
     },
     "execution_count": 239,
     "metadata": {},
     "output_type": "execute_result"
    }
   ],
   "source": [
    "df_train_final.columns"
   ]
  },
  {
   "cell_type": "code",
   "execution_count": 241,
   "metadata": {},
   "outputs": [],
   "source": [
    "# Create a BinaryLabelDataset\n",
    "binary_label_dataset = BinaryLabelDataset(df=df_train_final, \n",
    "                                            label_names=[\"target\"], \n",
    "                                            protected_attribute_names=columns.tolist(),\n",
    "                                            favorable_label=1,\n",
    "                                            unfavorable_label=0)"
   ]
  },
  {
   "cell_type": "code",
   "execution_count": 244,
   "metadata": {},
   "outputs": [
    {
     "data": {
      "text/plain": [
       "               instance weights features                                      \\\n",
       "                                         protected attribute                   \n",
       "                                     age                 sex chest pain type   \n",
       "instance names                                                                 \n",
       "0                           1.0     63.0                 1.0             4.0   \n",
       "1                           1.0     33.0                 1.0             3.0   \n",
       "2                           1.0     56.0                 0.0             4.0   \n",
       "3                           1.0     77.0                 1.0             4.0   \n",
       "4                           1.0     56.0                 1.0             2.0   \n",
       "...                         ...      ...                 ...             ...   \n",
       "947                         1.0     58.0                 1.0             4.0   \n",
       "948                         1.0     55.0                 1.0             2.0   \n",
       "949                         1.0     61.0                 1.0             1.0   \n",
       "950                         1.0     62.0                 0.0             4.0   \n",
       "951                         1.0     42.0                 1.0             2.0   \n",
       "\n",
       "                                                                         \\\n",
       "                                                                          \n",
       "               resting bp s cholesterol fasting blood sugar resting ecg   \n",
       "instance names                                                            \n",
       "0                     130.0       330.0                 1.0         2.0   \n",
       "1                     120.0       298.0                 0.0         0.0   \n",
       "2                     134.0       409.0                 0.0         2.0   \n",
       "3                     125.0       304.0                 0.0         2.0   \n",
       "4                     126.0       166.0                 0.0         1.0   \n",
       "...                     ...         ...                 ...         ...   \n",
       "947                   125.0       300.0                 0.0         2.0   \n",
       "948                   130.0       262.0                 0.0         0.0   \n",
       "949                   134.0       234.0                 0.0         0.0   \n",
       "950                   140.0       268.0                 0.0         2.0   \n",
       "951                   120.0       295.0                 0.0         0.0   \n",
       "\n",
       "                                                   ...                    \\\n",
       "                              protected attribute  ...                     \n",
       "               max heart rate     exercise angina  ... chest pain type_2   \n",
       "instance names                                     ...                     \n",
       "0                       132.0                 1.0  ...               0.0   \n",
       "1                       185.0                 0.0  ...               0.0   \n",
       "2                       150.0                 1.0  ...               0.0   \n",
       "3                       162.0                 1.0  ...               0.0   \n",
       "4                       140.0                 0.0  ...               1.0   \n",
       "...                       ...                 ...  ...               ...   \n",
       "947                     171.0                 0.0  ...               0.0   \n",
       "948                     155.0                 0.0  ...               1.0   \n",
       "949                     145.0                 0.0  ...               0.0   \n",
       "950                     160.0                 0.0  ...               0.0   \n",
       "951                     162.0                 0.0  ...               1.0   \n",
       "\n",
       "                                                                            \\\n",
       "                                                                             \n",
       "               chest pain type_1 resting ecg_2 resting ecg_0 resting ecg_1   \n",
       "instance names                                                               \n",
       "0                            0.0           1.0           0.0           0.0   \n",
       "1                            0.0           0.0           1.0           0.0   \n",
       "2                            0.0           1.0           0.0           0.0   \n",
       "3                            0.0           1.0           0.0           0.0   \n",
       "4                            0.0           0.0           0.0           1.0   \n",
       "...                          ...           ...           ...           ...   \n",
       "947                          0.0           1.0           0.0           0.0   \n",
       "948                          0.0           0.0           1.0           0.0   \n",
       "949                          1.0           0.0           1.0           0.0   \n",
       "950                          0.0           1.0           0.0           0.0   \n",
       "951                          0.0           0.0           1.0           0.0   \n",
       "\n",
       "                                                                              \\\n",
       "               protected attribute                       protected attribute   \n",
       "                        ST slope_1 ST slope_2 ST slope_3          ST slope_0   \n",
       "instance names                                                                 \n",
       "0                              1.0        0.0        0.0                 0.0   \n",
       "1                              1.0        0.0        0.0                 0.0   \n",
       "2                              0.0        1.0        0.0                 0.0   \n",
       "3                              1.0        0.0        0.0                 0.0   \n",
       "4                              1.0        0.0        0.0                 0.0   \n",
       "...                            ...        ...        ...                 ...   \n",
       "947                            1.0        0.0        0.0                 0.0   \n",
       "948                            1.0        0.0        0.0                 0.0   \n",
       "949                            0.0        1.0        0.0                 0.0   \n",
       "950                            0.0        0.0        1.0                 0.0   \n",
       "951                            1.0        0.0        0.0                 0.0   \n",
       "\n",
       "               labels  \n",
       "                       \n",
       "                       \n",
       "instance names         \n",
       "0                 1.0  \n",
       "1                 0.0  \n",
       "2                 1.0  \n",
       "3                 1.0  \n",
       "4                 0.0  \n",
       "...               ...  \n",
       "947               1.0  \n",
       "948               0.0  \n",
       "949               1.0  \n",
       "950               1.0  \n",
       "951               0.0  \n",
       "\n",
       "[952 rows x 24 columns]"
      ]
     },
     "execution_count": 244,
     "metadata": {},
     "output_type": "execute_result"
    }
   ],
   "source": [
    "binary_label_dataset"
   ]
  },
  {
   "cell_type": "code",
   "execution_count": 246,
   "metadata": {},
   "outputs": [
    {
     "name": "stderr",
     "output_type": "stream",
     "text": [
      "c:\\Users\\abhishdutta\\Desktop\\PRD Projects\\IBM WatsonX\\Generalized Model Development\\generalizedmodel\\lib\\site-packages\\aif360\\algorithms\\preprocessing\\reweighing.py:67: RuntimeWarning: divide by zero encountered in scalar divide\n",
      "  self.w_p_unfav = n_unfav*n_p / (n*n_p_unfav)\n"
     ]
    }
   ],
   "source": [
    "from aif360.algorithms.preprocessing import Reweighing\n",
    "\n",
    "# Assume columns is your list of columns\n",
    "for col in columns:\n",
    "    unprivileged_groups = [{col: 0}]\n",
    "    privileged_groups = [{col: 1}]\n",
    "    \n",
    "    RW = Reweighing(unprivileged_groups=unprivileged_groups, privileged_groups=privileged_groups)\n",
    "    RW.fit(binary_label_dataset)\n",
    "    final_binary_label_dataset = RW.transform(binary_label_dataset)"
   ]
  },
  {
   "cell_type": "markdown",
   "metadata": {},
   "source": [
    "# Final Metrix after pre-process"
   ]
  },
  {
   "cell_type": "code",
   "execution_count": 252,
   "metadata": {},
   "outputs": [
    {
     "data": {
      "text/plain": [
       "0                   sex\n",
       "2       exercise angina\n",
       "3     chest pain type_4\n",
       "5     chest pain type_2\n",
       "10           ST slope_1\n",
       "11           ST slope_2\n",
       "13           ST slope_0\n",
       "Name: Column, dtype: object"
      ]
     },
     "execution_count": 252,
     "metadata": {},
     "output_type": "execute_result"
    }
   ],
   "source": [
    "columns"
   ]
  },
  {
   "cell_type": "code",
   "execution_count": 251,
   "metadata": {},
   "outputs": [
    {
     "name": "stdout",
     "output_type": "stream",
     "text": [
      "Difference in mean outcomes between unprivileged and privileged groups for sex = 0.04527530908334543\n",
      "Difference in mean outcomes between unprivileged and privileged groups for exercise angina = 0.2770460879308977\n",
      "Difference in mean outcomes between unprivileged and privileged groups for chest pain type_4 = 0.10801345602453039\n",
      "Difference in mean outcomes between unprivileged and privileged groups for chest pain type_2 = -0.11629214407430488\n",
      "Difference in mean outcomes between unprivileged and privileged groups for ST slope_1 = -0.010894899245517231\n",
      "Difference in mean outcomes between unprivileged and privileged groups for ST slope_2 = -0.001119460655889859\n",
      "Difference in mean outcomes between unprivileged and privileged groups for ST slope_0 = -0.47649216924622495\n"
     ]
    }
   ],
   "source": [
    "from aif360.metrics import BinaryLabelDatasetMetric\n",
    "\n",
    "# Assume columns is your list of columns\n",
    "for col in columns:\n",
    "    unprivileged_groups = [{col: 0}]\n",
    "    privileged_groups = [{col: 1}]\n",
    "    \n",
    "    metric_orig_train = BinaryLabelDatasetMetric(final_binary_label_dataset, \n",
    "                                                 unprivileged_groups=unprivileged_groups,\n",
    "                                                 privileged_groups=privileged_groups)\n",
    "\n",
    "    print(f\"Difference in mean outcomes between unprivileged and privileged groups for {col} = {metric_orig_train.mean_difference()}\")"
   ]
  },
  {
   "cell_type": "markdown",
   "metadata": {},
   "source": [
    "1. A positive value means that the privileged group has a higher mean outcome than the unprivileged group. This could indicate a bias in favor of the privileged group.\n",
    "2. A negative value means that the unprivileged group has a higher mean outcome than the privileged group. This could indicate a bias in favor of the unprivileged group.\n",
    "3. A value close to zero means that the mean outcomes for the two groups are similar. This could indicate that the column is fair with respect to the groups\n",
    "\n",
    "-- For example, for the column sex, the difference in mean outcomes is 0.04527530908334543. This means that the mean outcome for the privileged group is slightly higher than for the unprivileged group.\n",
    "\n",
    "-- For the column ST slope_0, the difference in mean outcomes is -0.47649216924622495. This means that the mean outcome for the unprivileged group is significantly higher than for the privileged group. This could indicate a bias in favor of the unprivileged group for this column."
   ]
  },
  {
   "cell_type": "code",
   "execution_count": 277,
   "metadata": {},
   "outputs": [
    {
     "data": {
      "text/html": [
       "<div>\n",
       "<style scoped>\n",
       "    .dataframe tbody tr th:only-of-type {\n",
       "        vertical-align: middle;\n",
       "    }\n",
       "\n",
       "    .dataframe tbody tr th {\n",
       "        vertical-align: top;\n",
       "    }\n",
       "\n",
       "    .dataframe thead th {\n",
       "        text-align: right;\n",
       "    }\n",
       "</style>\n",
       "<table border=\"1\" class=\"dataframe\">\n",
       "  <thead>\n",
       "    <tr style=\"text-align: right;\">\n",
       "      <th></th>\n",
       "      <th>Column</th>\n",
       "      <th>Fairness score</th>\n",
       "    </tr>\n",
       "  </thead>\n",
       "  <tbody>\n",
       "    <tr>\n",
       "      <th>0</th>\n",
       "      <td>sex</td>\n",
       "      <td>-0.349713</td>\n",
       "    </tr>\n",
       "    <tr>\n",
       "      <th>2</th>\n",
       "      <td>exercise angina</td>\n",
       "      <td>-0.488344</td>\n",
       "    </tr>\n",
       "    <tr>\n",
       "      <th>3</th>\n",
       "      <td>chest pain type_4</td>\n",
       "      <td>-0.511607</td>\n",
       "    </tr>\n",
       "    <tr>\n",
       "      <th>5</th>\n",
       "      <td>chest pain type_2</td>\n",
       "      <td>0.483872</td>\n",
       "    </tr>\n",
       "    <tr>\n",
       "      <th>10</th>\n",
       "      <td>ST slope_1</td>\n",
       "      <td>0.574863</td>\n",
       "    </tr>\n",
       "    <tr>\n",
       "      <th>11</th>\n",
       "      <td>ST slope_2</td>\n",
       "      <td>-0.504750</td>\n",
       "    </tr>\n",
       "    <tr>\n",
       "      <th>13</th>\n",
       "      <td>ST slope_0</td>\n",
       "      <td>-0.477392</td>\n",
       "    </tr>\n",
       "  </tbody>\n",
       "</table>\n",
       "</div>"
      ],
      "text/plain": [
       "               Column  Fairness score\n",
       "0                 sex       -0.349713\n",
       "2     exercise angina       -0.488344\n",
       "3   chest pain type_4       -0.511607\n",
       "5   chest pain type_2        0.483872\n",
       "10         ST slope_1        0.574863\n",
       "11         ST slope_2       -0.504750\n",
       "13         ST slope_0       -0.477392"
      ]
     },
     "execution_count": 277,
     "metadata": {},
     "output_type": "execute_result"
    }
   ],
   "source": [
    "#Previous:\n",
    "filtered_df = df_details[df_details['Column'].isin(columns)][['Column', 'Fairness score']]\n",
    "filtered_df"
   ]
  },
  {
   "cell_type": "code",
   "execution_count": null,
   "metadata": {},
   "outputs": [],
   "source": []
  }
 ],
 "metadata": {
  "kernelspec": {
   "display_name": "Python 3",
   "language": "python",
   "name": "python3"
  },
  "language_info": {
   "codemirror_mode": {
    "name": "ipython",
    "version": 3
   },
   "file_extension": ".py",
   "mimetype": "text/x-python",
   "name": "python",
   "nbconvert_exporter": "python",
   "pygments_lexer": "ipython3",
   "version": "3.9.0"
  }
 },
 "nbformat": 4,
 "nbformat_minor": 2
}
